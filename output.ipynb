{
 "cells": [
  {
   "cell_type": "markdown",
   "id": "a918ab2d",
   "metadata": {
    "id": "PbG_QnLnrSQZ",
    "papermill": {
     "duration": 0.011008,
     "end_time": "2024-11-05T03:21:31.786391",
     "exception": false,
     "start_time": "2024-11-05T03:21:31.775383",
     "status": "completed"
    },
    "tags": []
   },
   "source": [
    "### Installations"
   ]
  },
  {
   "cell_type": "code",
   "execution_count": 1,
   "id": "b3f2039f",
   "metadata": {
    "execution": {
     "iopub.execute_input": "2024-11-05T03:21:31.803827Z",
     "iopub.status.busy": "2024-11-05T03:21:31.803139Z",
     "iopub.status.idle": "2024-11-05T03:21:33.106146Z",
     "shell.execute_reply": "2024-11-05T03:21:33.104865Z"
    },
    "papermill": {
     "duration": 1.313486,
     "end_time": "2024-11-05T03:21:33.108294",
     "exception": false,
     "start_time": "2024-11-05T03:21:31.794808",
     "status": "completed"
    },
    "tags": []
   },
   "outputs": [
    {
     "name": "stdout",
     "output_type": "stream",
     "text": [
      "Available GPUs: 1\n",
      "Current device: 0\n",
      "Device name: NVIDIA GeForce RTX 3090\n"
     ]
    }
   ],
   "source": [
    "import os\n",
    "os.environ[\"CUDA_VISIBLE_DEVICES\"] = \"1\" \n",
    "\n",
    "import torch\n",
    "print(\"Available GPUs:\", torch.cuda.device_count())\n",
    "print(\"Current device:\", torch.cuda.current_device())\n",
    "print(\"Device name:\", torch.cuda.get_device_name(0))"
   ]
  },
  {
   "cell_type": "code",
   "execution_count": 2,
   "id": "5a533e3c",
   "metadata": {
    "colab": {
     "base_uri": "https://localhost:8080/"
    },
    "execution": {
     "iopub.execute_input": "2024-11-05T03:21:33.128304Z",
     "iopub.status.busy": "2024-11-05T03:21:33.127534Z",
     "iopub.status.idle": "2024-11-05T03:21:34.227078Z",
     "shell.execute_reply": "2024-11-05T03:21:34.225506Z"
    },
    "executionInfo": {
     "elapsed": 19781,
     "status": "ok",
     "timestamp": 1684947344540,
     "user": {
      "displayName": "Dayal",
      "userId": "08303688375445058607"
     },
     "user_tz": 240
    },
    "id": "hO49W5e7s7CO",
    "outputId": "4a76bf4b-2f38-43e6-a71e-bdf91f907f64",
    "papermill": {
     "duration": 1.111413,
     "end_time": "2024-11-05T03:21:34.229652",
     "exception": false,
     "start_time": "2024-11-05T03:21:33.118239",
     "status": "completed"
    },
    "tags": []
   },
   "outputs": [
    {
     "name": "stdout",
     "output_type": "stream",
     "text": [
      "GPU 0: NVIDIA GeForce RTX 3090 (UUID: GPU-261c922f-1397-45bd-524f-13d036befda3)\r\n",
      "GPU 1: NVIDIA GeForce RTX 3090 (UUID: GPU-163ab9b1-70e4-90b0-565c-a56335ad6f19)\r\n"
     ]
    }
   ],
   "source": [
    "!nvidia-smi -L\n",
    "!pip install -q jax flax optax ml_collections "
   ]
  },
  {
   "cell_type": "markdown",
   "id": "56525cac",
   "metadata": {
    "id": "LdnrHfYzrZTE",
    "papermill": {
     "duration": 0.006917,
     "end_time": "2024-11-05T03:21:34.247003",
     "exception": false,
     "start_time": "2024-11-05T03:21:34.240086",
     "status": "completed"
    },
    "tags": []
   },
   "source": [
    "### Optional: Load Google drive and change directory to neurips_2023_demo"
   ]
  },
  {
   "cell_type": "code",
   "execution_count": 3,
   "id": "c8ada5f3",
   "metadata": {
    "colab": {
     "base_uri": "https://localhost:8080/"
    },
    "execution": {
     "iopub.execute_input": "2024-11-05T03:21:34.258894Z",
     "iopub.status.busy": "2024-11-05T03:21:34.258434Z",
     "iopub.status.idle": "2024-11-05T03:21:34.263760Z",
     "shell.execute_reply": "2024-11-05T03:21:34.262675Z"
    },
    "executionInfo": {
     "elapsed": 23706,
     "status": "ok",
     "timestamp": 1684947368239,
     "user": {
      "displayName": "Dayal",
      "userId": "08303688375445058607"
     },
     "user_tz": 240
    },
    "id": "K9fG7CRcqeFs",
    "outputId": "946d087f-098a-4f2b-f7a4-c6eac80da857",
    "papermill": {
     "duration": 0.012475,
     "end_time": "2024-11-05T03:21:34.264885",
     "exception": false,
     "start_time": "2024-11-05T03:21:34.252410",
     "status": "completed"
    },
    "tags": []
   },
   "outputs": [],
   "source": [
    "import sys\n",
    "\n",
    "if \"google.colab\" in sys.modules:\n",
    "    print(\"Running on Google Colab\")\n",
    "\n",
    "    from google.colab import drive\n",
    "    drive.mount('/content/drive')\n",
    "    %cd /content/drive/MyDrive/neurips_2023_15410/"
   ]
  },
  {
   "cell_type": "code",
   "execution_count": null,
   "id": "ee674e25",
   "metadata": {
    "papermill": {
     "duration": 0.003115,
     "end_time": "2024-11-05T03:21:34.271246",
     "exception": false,
     "start_time": "2024-11-05T03:21:34.268131",
     "status": "completed"
    },
    "tags": []
   },
   "outputs": [],
   "source": []
  },
  {
   "cell_type": "markdown",
   "id": "b48131bc",
   "metadata": {
    "id": "bheorS64sJci",
    "papermill": {
     "duration": 0.002875,
     "end_time": "2024-11-05T03:21:34.277060",
     "exception": false,
     "start_time": "2024-11-05T03:21:34.274185",
     "status": "completed"
    },
    "tags": []
   },
   "source": [
    "### Load libraries\n",
    "\n",
    "Requirements: data_utils_pytorch, model_utils, train_mse_utils / train_xent_utils in the current directory"
   ]
  },
  {
   "cell_type": "code",
   "execution_count": 4,
   "id": "9c3fdb3d",
   "metadata": {
    "execution": {
     "iopub.execute_input": "2024-11-05T03:21:34.285089Z",
     "iopub.status.busy": "2024-11-05T03:21:34.284464Z",
     "iopub.status.idle": "2024-11-05T03:21:36.371656Z",
     "shell.execute_reply": "2024-11-05T03:21:36.370755Z"
    },
    "id": "Us5F8JggsrYl",
    "papermill": {
     "duration": 2.094093,
     "end_time": "2024-11-05T03:21:36.374130",
     "exception": false,
     "start_time": "2024-11-05T03:21:34.280037",
     "status": "completed"
    },
    "tags": []
   },
   "outputs": [],
   "source": [
    "loss = 'mse'\n",
    "# custom modules\n",
    "import data_utils_pytorch\n",
    "import model_utils as models\n",
    "\n",
    "if loss == 'mse':\n",
    "    import train_mse_utils as train_utils\n",
    "elif loss == 'xent':\n",
    "    import train_xent_utils as train_utils\n",
    "else:\n",
    "    print('Unsupported loss function')\n",
    "    raise\n",
    "\n",
    "\n",
    "# in use imports\n",
    "import jax\n",
    "from jax import numpy as jnp\n",
    "import optax\n",
    "from ml_collections import config_dict\n",
    "\n",
    "#usual imports\n",
    "import numpy as np\n",
    "import pandas as pd\n",
    "from sys import argv\n",
    "import gc\n",
    "import matplotlib.pyplot as plt\n",
    "import matplotlib\n",
    "matplotlib.rcParams.update({'font.size':15})\n",
    "import seaborn as sns"
   ]
  },
  {
   "cell_type": "markdown",
   "id": "88edbaee",
   "metadata": {
    "id": "XLV1eiF3sZ38",
    "papermill": {
     "duration": 0.008846,
     "end_time": "2024-11-05T03:21:36.393585",
     "exception": false,
     "start_time": "2024-11-05T03:21:36.384739",
     "status": "completed"
    },
    "tags": []
   },
   "source": [
    "### Helper functions"
   ]
  },
  {
   "cell_type": "code",
   "execution_count": 5,
   "id": "b4b90cd8",
   "metadata": {
    "execution": {
     "iopub.execute_input": "2024-11-05T03:21:36.406545Z",
     "iopub.status.busy": "2024-11-05T03:21:36.405995Z",
     "iopub.status.idle": "2024-11-05T03:21:36.411721Z",
     "shell.execute_reply": "2024-11-05T03:21:36.410308Z"
    },
    "id": "RKPrPg0Xz-FF",
    "papermill": {
     "duration": 0.014441,
     "end_time": "2024-11-05T03:21:36.414075",
     "exception": false,
     "start_time": "2024-11-05T03:21:36.399634",
     "status": "completed"
    },
    "tags": []
   },
   "outputs": [],
   "source": [
    "def poly(coeffs, x):\n",
    "    \"Given polynomial coefficients coeffs, evaluates the polynomal f(x)\"\n",
    "    degree = len(coeffs)-1\n",
    "    output = 0\n",
    "    for i in range(len(coeffs)):\n",
    "        output += coeffs[i] * x**(degree-i)\n",
    "    return output"
   ]
  },
  {
   "cell_type": "markdown",
   "id": "c3173c50",
   "metadata": {
    "id": "mrmS7Uj80LmX",
    "papermill": {
     "duration": 0.008046,
     "end_time": "2024-11-05T03:21:36.432320",
     "exception": false,
     "start_time": "2024-11-05T03:21:36.424274",
     "status": "completed"
    },
    "tags": []
   },
   "source": [
    "pandas helper functions"
   ]
  },
  {
   "cell_type": "code",
   "execution_count": 6,
   "id": "26041ae0",
   "metadata": {
    "execution": {
     "iopub.execute_input": "2024-11-05T03:21:36.444817Z",
     "iopub.status.busy": "2024-11-05T03:21:36.444084Z",
     "iopub.status.idle": "2024-11-05T03:21:36.452507Z",
     "shell.execute_reply": "2024-11-05T03:21:36.451553Z"
    },
    "id": "wzu3T4Su0Mf4",
    "papermill": {
     "duration": 0.016211,
     "end_time": "2024-11-05T03:21:36.453978",
     "exception": false,
     "start_time": "2024-11-05T03:21:36.437767",
     "status": "completed"
    },
    "tags": []
   },
   "outputs": [],
   "source": [
    "def get_rows_where_col_equals(df, col, value):\n",
    "\treturn df.loc[df[col] == value].copy()\n",
    " \n",
    "def get_rows_where_col_in(df, col, values):\n",
    "\treturn df.loc[df[col].isin(values)].copy()\n",
    "\n",
    "def get_rows_where_col_greater(df, col, value):\n",
    "\treturn df.loc[df[col] > value].copy()\n",
    "\n",
    "def get_rows_where_col_less(df, col, value):\n",
    "\treturn df.loc[df[col] < value].copy()"
   ]
  },
  {
   "cell_type": "markdown",
   "id": "3908dc2c",
   "metadata": {
    "id": "FtzDAFWosw5y",
    "papermill": {
     "duration": 0.004942,
     "end_time": "2024-11-05T03:21:36.464229",
     "exception": false,
     "start_time": "2024-11-05T03:21:36.459287",
     "status": "completed"
    },
    "tags": []
   },
   "source": [
    "### Model definition\n",
    "\n",
    "In this demo, we will use a 8 layer ReLU FCN to obtain the phase diagram of early training. The model can be changed to Myrtle CNNs, ResNets or linear FCNs using the model_util.py"
   ]
  },
  {
   "cell_type": "code",
   "execution_count": 7,
   "id": "e5e27b79",
   "metadata": {
    "execution": {
     "iopub.execute_input": "2024-11-05T03:21:36.474123Z",
     "iopub.status.busy": "2024-11-05T03:21:36.473583Z",
     "iopub.status.idle": "2024-11-05T03:21:36.480023Z",
     "shell.execute_reply": "2024-11-05T03:21:36.478913Z"
    },
    "id": "9PNmudd5tgak",
    "papermill": {
     "duration": 0.013011,
     "end_time": "2024-11-05T03:21:36.481231",
     "exception": false,
     "start_time": "2024-11-05T03:21:36.468220",
     "status": "completed"
    },
    "tags": []
   },
   "outputs": [],
   "source": [
    "def create_train_state(config, batches):\n",
    "    \"\"\"\n",
    "    Description: Creates a Flax train state with learning rate eta = c / sharpness init\n",
    "    Input: \n",
    "        1. config: ml_collections dict which contains the model and optimizer hyperparameters\n",
    "        2. batches: batches used for sharpness estimation\n",
    "    Output:\n",
    "        1. state: Flax state with learning rate eta = c / sharpness init\n",
    "        2. sharpness_init: sharpness at initialization\n",
    "    \"\"\"\n",
    "\n",
    "    #create model\n",
    "    model = models.Myrtle(num_filters=config.width,\n",
    "    num_layers=config.depth,\n",
    "    num_classes=config.num_classes,\n",
    "    use_bias=config.use_bias,\n",
    "    varw=config.varw\n",
    "    )\n",
    "\n",
    "    #initialize the parameters\n",
    "    example = jax.random.normal(config.init_rng, shape = config.in_dim)\n",
    "    init_params = model.init(config.init_rng, example)['params'] #initialize parameters\n",
    "\n",
    "    #create a dummy state and optimizer for sharpness calculation\n",
    "    _opt = optax.sgd(learning_rate = 0.1, momentum = config.momentum)\n",
    "    _state = train_utils.TrainState.create(apply_fn = model.apply, params = init_params, opt = _opt)\n",
    "\n",
    "    #calculate hessian and learning rate\n",
    "    sharpness_init = train_utils.estimate_hessian(_state, batches, num_batches = config.measure_batches, power_iterations = config.power_iterations)\n",
    "    lr_rate = config.lr_const/sharpness_init\n",
    "\n",
    "    # create a new state with learning rate lr_rate; \n",
    "    # updating learning rate does not work since the recemt flax update\n",
    "    opt = optax.sgd(learning_rate = lr_rate, momentum = config.momentum)\n",
    "    state = train_utils.TrainState.create(apply_fn = model.apply, params = init_params, opt = opt)\n",
    "    return state, sharpness_init"
   ]
  },
  {
   "cell_type": "markdown",
   "id": "f5f77888",
   "metadata": {
    "id": "EToG5ukut2zg",
    "papermill": {
     "duration": 0.003295,
     "end_time": "2024-11-05T03:21:36.487687",
     "exception": false,
     "start_time": "2024-11-05T03:21:36.484392",
     "status": "completed"
    },
    "tags": []
   },
   "source": [
    "### Training loop"
   ]
  },
  {
   "cell_type": "code",
   "execution_count": 8,
   "id": "4aa5a09e",
   "metadata": {
    "execution": {
     "iopub.execute_input": "2024-11-05T03:21:36.496703Z",
     "iopub.status.busy": "2024-11-05T03:21:36.495699Z",
     "iopub.status.idle": "2024-11-05T03:21:36.510667Z",
     "shell.execute_reply": "2024-11-05T03:21:36.509913Z"
    },
    "id": "mMEaFZWKvRX5",
    "papermill": {
     "duration": 0.021664,
     "end_time": "2024-11-05T03:21:36.512694",
     "exception": false,
     "start_time": "2024-11-05T03:21:36.491030",
     "status": "completed"
    },
    "tags": []
   },
   "outputs": [],
   "source": [
    "def train_and_evaluate(config, train_ds):\n",
    "    \"\"\"\n",
    "    Description: Creates a training state and trains for 10 steps\n",
    "    Input: \n",
    "        1. config: ml_collections dictionary containing all the hyperparameters\n",
    "        2. train_ds: tuple (x_train, y_train) of the training data\n",
    "    Output: \n",
    "        1. Divergence: bool; Flag for training divergence\n",
    "        2. train_results: np array containing training loss, sharpness and accuracy trajectories\n",
    "    \"\"\"\n",
    "\n",
    "    train_results = list()\n",
    "\n",
    "    #create train and validation batches using rng\n",
    "    rng = config.sgd_rng\n",
    "    # create train and test batches for measurements: measure batches are called train_batches and val_batches; training batches are called batches\n",
    "    train_batches = data_utils_pytorch.data_stream(rng, train_ds, config.measure_examples)\n",
    "\n",
    "    #create model\n",
    "    state, sharpness_init = create_train_state(config, train_batches)\n",
    "    init_params = state.params\n",
    "\n",
    "    #print(f'Top Hessian init: {sharpness_init:0.4f}, Learning rate: {config.lr_const/sharpness_init:0.4f}')\n",
    "\n",
    "    #measure metrics at initialization\n",
    "    train_loss_init, train_acc_init = train_utils.measure_state(state, train_batches, config.num_train, config.measure_examples)\n",
    "\n",
    "    #store results at init\n",
    "    result_init = jnp.asarray([0, 0, train_loss_init, train_loss_init, train_acc_init, sharpness_init, sharpness_init])\n",
    "    train_results.append(result_init)\n",
    "    print(f'{0}, {0}, {train_loss_init:0.4f}, {train_acc_init:0.4f}, {sharpness_init:0.4f}, {sharpness_init:0.4f}')\n",
    "\n",
    "    divergence = False\n",
    "\n",
    "    for epoch in range(config.num_epochs):\n",
    "\n",
    "        rng, _ = jax.random.split(rng)\n",
    "        batches = data_utils_pytorch.data_stream(rng, train_ds, config.batch_size)\n",
    "\n",
    "        for batch_ix in range(config.num_steps):\n",
    "            #get the next batch and calculate the step\n",
    "            batch = next(batches)\n",
    "            x, y = batch\n",
    "            step = config.num_batches*epoch + batch_ix\n",
    "            \n",
    "            #compute gradient and other metrics and update the model\n",
    "            state, loss_batch = train_utils.train_batch(state, batch)\n",
    "\n",
    "            # hard cut-off on loss divergence; catapult loss is at most of O(width); max width in this experiment is 2048\n",
    "            if loss_batch > 10**5: \n",
    "                divergence = True\n",
    "                break\n",
    "\n",
    "            # evaluate training loss, accuracy and sharpness at step t            \n",
    "            train_loss_step, train_acc_step = train_utils.measure_state(state, train_batches, config.num_train, config.measure_examples)\n",
    "            sharpness_step = train_utils.estimate_hessian(state, batches, num_batches = config.measure_batches, power_iterations = config.power_iterations)\n",
    "    \n",
    "            #store results\n",
    "            result_step = jnp.asarray([step+1, epoch+1, train_loss_step, train_loss_init, train_acc_step, sharpness_step, sharpness_init])\n",
    "            train_results.append(result_step)\n",
    "            print(f'{step+1}, {epoch+1}, {train_loss_step:0.4f}, {train_acc_step:0.4f}, {sharpness_step:0.4f}, {sharpness_init:0.4f}')\n",
    "    \n",
    "    del state\n",
    "    train_results = jnp.asarray(train_results)\n",
    "    train_results = jax.device_get(train_results)\n",
    "    return divergence, train_results\n"
   ]
  },
  {
   "cell_type": "markdown",
   "id": "798e0eb0",
   "metadata": {
    "id": "TRJpM7cTuOdl",
    "papermill": {
     "duration": 0.007209,
     "end_time": "2024-11-05T03:21:36.530808",
     "exception": false,
     "start_time": "2024-11-05T03:21:36.523599",
     "status": "completed"
    },
    "tags": []
   },
   "source": [
    "### Hyperparameters"
   ]
  },
  {
   "cell_type": "code",
   "execution_count": 9,
   "id": "c6846ff9",
   "metadata": {
    "execution": {
     "iopub.execute_input": "2024-11-05T03:21:36.543409Z",
     "iopub.status.busy": "2024-11-05T03:21:36.542665Z",
     "iopub.status.idle": "2024-11-05T03:21:58.349263Z",
     "shell.execute_reply": "2024-11-05T03:21:58.348443Z"
    },
    "id": "bYcCxrDHxXgT",
    "papermill": {
     "duration": 21.814275,
     "end_time": "2024-11-05T03:21:58.351087",
     "exception": false,
     "start_time": "2024-11-05T03:21:36.536812",
     "status": "completed"
    },
    "tags": []
   },
   "outputs": [
    {
     "name": "stdout",
     "output_type": "stream",
     "text": [
      "Files already downloaded and verified\n"
     ]
    },
    {
     "name": "stdout",
     "output_type": "stream",
     "text": [
      "Files already downloaded and verified\n"
     ]
    },
    {
     "name": "stdout",
     "output_type": "stream",
     "text": [
      "(32, 32, 3) ================================\n"
     ]
    }
   ],
   "source": [
    "dataset = 'cifar10'\n",
    "num_classes = 10\n",
    "\n",
    "train_ds, test_ds, info = data_utils_pytorch.load_data_pytorch(dataset, num_classes)\n",
    "\n",
    "#Hyperparameters\n",
    "config = config_dict.ConfigDict()\n",
    "config.num_train, config.num_test = info.num_train, info.num_test\n",
    "\n",
    "config.act = 'relu'\n",
    "config.model = f'fc_{config.act}'\n",
    "config.use_bias = False \n",
    "config.varw = 2.0 # this is the variance of all but last layer\n",
    "config.varwL = 1.0 # last layer variance\n",
    "\n",
    "widths = [128, 256, 512]\n",
    "config.depth = 5\n",
    "config.in_dim = info.in_dim\n",
    "config.num_classes = info.num_classes \n",
    "\n",
    "# batch size\n",
    "config.batch_size = 256\n",
    "# batch size for hessian measurement\n",
    "config.measure_examples = 512\n",
    "#number of batches for hessian measurement\n",
    "config.measure_batches = 1\n",
    "\n",
    "config.num_batches = data_utils_pytorch.estimate_num_batches(config.num_train, config.batch_size)\n",
    "\n",
    "#number of power iterations\n",
    "config.power_iterations = 20\n",
    "\n",
    "#optimizer related hyperparameters\n",
    "# Sample learning rates in powers of 2 starting with 2**0.0\n",
    "lr_exp_start = jax.device_put(0.0)\n",
    "lr_step = 0.2 # step size for increasing the learning rate\n",
    "config.momentum = jax.device_put(0.0) # momentum for sgd\n",
    "config.num_steps = 10 # train for ten steps\n",
    "config.num_epochs = 1 # one epoch only\n",
    "\n",
    "# averages\n",
    "init_averages = 1 #number of initialization averages\n",
    "sgd_runs = 1 # number of sgd runs for each initialization"
   ]
  },
  {
   "cell_type": "markdown",
   "id": "f2b94ebf",
   "metadata": {
    "id": "dQdxQDfkudVk",
    "papermill": {
     "duration": 0.007897,
     "end_time": "2024-11-05T03:21:58.370501",
     "exception": false,
     "start_time": "2024-11-05T03:21:58.362604",
     "status": "completed"
    },
    "tags": []
   },
   "source": [
    "### Early time experiment:\n",
    "\n",
    "* We will train a 8 layer ReLU FCN for 10 steps using MSE loss using SGD with learning rate $\\eta = c / \\lambda_0^H$ and batch size $B = 512$. Here, $\\lambda_0^H$ is the sharpness at initialization. The same experiment can be performed with other architectures by replacing the model definition in the create_train_state function\n",
    "\n",
    "* We will sample learning rate constants $c$ in powers of 2, i.e., $c = 2^x$ with $x$ incremented in steps of $0.1$. \n",
    "\n",
    "* We will start with $x = x_{min} = 0.0$, wich corresponds to $\\eta = 1 / \\lambda_0^H$, as we are interested in the catapult dynamics.\n",
    "\n",
    "* To reduce computational time, we will run the experiment for only one random initialization.\n",
    "\n",
    "\n",
    "Note: This experiment takes about 45 mins to run on a V100 with 16 GB RAM. \n"
   ]
  },
  {
   "cell_type": "code",
   "execution_count": 10,
   "id": "60c84081",
   "metadata": {
    "colab": {
     "base_uri": "https://localhost:8080/"
    },
    "execution": {
     "iopub.execute_input": "2024-11-05T03:21:58.382775Z",
     "iopub.status.busy": "2024-11-05T03:21:58.382234Z",
     "iopub.status.idle": "2024-11-05T04:54:42.081156Z",
     "shell.execute_reply": "2024-11-05T04:54:42.080374Z"
    },
    "executionInfo": {
     "elapsed": 2111853,
     "status": "ok",
     "timestamp": 1684873580662,
     "user": {
      "displayName": "Dayal",
      "userId": "08303688375445058607"
     },
     "user_tz": 240
    },
    "id": "y4-eRUbixSiE",
    "outputId": "079bdc97-ad79-41ea-c323-a7f0b023d9e4",
    "papermill": {
     "duration": 5563.735143,
     "end_time": "2024-11-05T04:54:42.111591",
     "exception": false,
     "start_time": "2024-11-05T03:21:58.376448",
     "status": "completed"
    },
    "tags": []
   },
   "outputs": [
    {
     "name": "stdout",
     "output_type": "stream",
     "text": [
      "w: 128, d: 5, I: 1, J: 1, x: 0.0, B: 256, t: 10\n"
     ]
    },
    {
     "name": "stderr",
     "output_type": "stream",
     "text": [
      "2024-11-05 03:22:29.738332: W external/xla/xla/tsl/framework/bfc_allocator.cc:306] Allocator (GPU_0_bfc) ran out of memory trying to allocate 4.39GiB with freed_by_count=0. The caller indicates that this is not a failure, but this may mean that there could be performance gains if more memory were available.\n"
     ]
    },
    {
     "name": "stdout",
     "output_type": "stream",
     "text": [
      "0, 0, 0.6092, 0.0999, 86.3596, 86.3596\n"
     ]
    },
    {
     "name": "stdout",
     "output_type": "stream",
     "text": [
      "1, 1, 0.1302, 0.0996, 29.3129, 86.3596\n"
     ]
    },
    {
     "name": "stdout",
     "output_type": "stream",
     "text": [
      "2, 1, 0.0890, 0.0997, 28.4221, 86.3596\n"
     ]
    },
    {
     "name": "stdout",
     "output_type": "stream",
     "text": [
      "3, 1, 0.0715, 0.1002, 28.5716, 86.3596\n"
     ]
    },
    {
     "name": "stdout",
     "output_type": "stream",
     "text": [
      "4, 1, 0.0627, 0.1001, 26.9483, 86.3596\n"
     ]
    },
    {
     "name": "stdout",
     "output_type": "stream",
     "text": [
      "5, 1, 0.0580, 0.1007, 26.3389, 86.3596\n"
     ]
    },
    {
     "name": "stdout",
     "output_type": "stream",
     "text": [
      "6, 1, 0.0553, 0.1013, 26.9873, 86.3596\n"
     ]
    },
    {
     "name": "stdout",
     "output_type": "stream",
     "text": [
      "7, 1, 0.0536, 0.1006, 26.4824, 86.3596\n"
     ]
    },
    {
     "name": "stdout",
     "output_type": "stream",
     "text": [
      "8, 1, 0.0526, 0.1008, 27.5016, 86.3596\n"
     ]
    },
    {
     "name": "stdout",
     "output_type": "stream",
     "text": [
      "9, 1, 0.0520, 0.1023, 26.6818, 86.3596\n"
     ]
    },
    {
     "name": "stdout",
     "output_type": "stream",
     "text": [
      "10, 1, 0.0515, 0.1020, 26.8053, 86.3596\n"
     ]
    },
    {
     "name": "stdout",
     "output_type": "stream",
     "text": [
      "w: 128, d: 5, I: 1, J: 1, x: 0.2, B: 256, t: 10\n"
     ]
    },
    {
     "name": "stdout",
     "output_type": "stream",
     "text": [
      "0, 0, 0.6092, 0.0999, 86.3597, 86.3597\n"
     ]
    },
    {
     "name": "stdout",
     "output_type": "stream",
     "text": [
      "1, 1, 0.1094, 0.0997, 29.9247, 86.3597\n"
     ]
    },
    {
     "name": "stdout",
     "output_type": "stream",
     "text": [
      "2, 1, 0.0779, 0.0996, 27.8782, 86.3597\n"
     ]
    },
    {
     "name": "stdout",
     "output_type": "stream",
     "text": [
      "3, 1, 0.0647, 0.0994, 27.8577, 86.3597\n"
     ]
    },
    {
     "name": "stdout",
     "output_type": "stream",
     "text": [
      "4, 1, 0.0585, 0.0999, 26.2348, 86.3597\n"
     ]
    },
    {
     "name": "stdout",
     "output_type": "stream",
     "text": [
      "5, 1, 0.0553, 0.1012, 25.7261, 86.3597\n"
     ]
    },
    {
     "name": "stdout",
     "output_type": "stream",
     "text": [
      "6, 1, 0.0536, 0.1011, 26.3697, 86.3597\n"
     ]
    },
    {
     "name": "stdout",
     "output_type": "stream",
     "text": [
      "7, 1, 0.0525, 0.1008, 25.8827, 86.3597\n"
     ]
    },
    {
     "name": "stdout",
     "output_type": "stream",
     "text": [
      "8, 1, 0.0518, 0.1022, 26.8979, 86.3597\n"
     ]
    },
    {
     "name": "stdout",
     "output_type": "stream",
     "text": [
      "9, 1, 0.0513, 0.1017, 26.1182, 86.3597\n"
     ]
    },
    {
     "name": "stdout",
     "output_type": "stream",
     "text": [
      "10, 1, 0.0510, 0.1013, 26.2480, 86.3597\n"
     ]
    },
    {
     "name": "stdout",
     "output_type": "stream",
     "text": [
      "w: 128, d: 5, I: 1, J: 1, x: 0.4, B: 256, t: 10\n"
     ]
    },
    {
     "name": "stdout",
     "output_type": "stream",
     "text": [
      "0, 0, 0.6092, 0.0999, 86.3597, 86.3597\n"
     ]
    },
    {
     "name": "stdout",
     "output_type": "stream",
     "text": [
      "1, 1, 0.0950, 0.1004, 30.7816, 86.3597\n"
     ]
    },
    {
     "name": "stdout",
     "output_type": "stream",
     "text": [
      "2, 1, 0.0689, 0.0996, 27.0501, 86.3597\n"
     ]
    },
    {
     "name": "stdout",
     "output_type": "stream",
     "text": [
      "3, 1, 0.0595, 0.1004, 26.8704, 86.3597\n"
     ]
    },
    {
     "name": "stdout",
     "output_type": "stream",
     "text": [
      "4, 1, 0.0555, 0.1015, 25.3147, 86.3597\n"
     ]
    },
    {
     "name": "stdout",
     "output_type": "stream",
     "text": [
      "5, 1, 0.0534, 0.1016, 24.9274, 86.3597\n"
     ]
    },
    {
     "name": "stdout",
     "output_type": "stream",
     "text": [
      "6, 1, 0.0524, 0.1018, 25.5851, 86.3597\n"
     ]
    },
    {
     "name": "stdout",
     "output_type": "stream",
     "text": [
      "7, 1, 0.0516, 0.1013, 25.0912, 86.3597\n"
     ]
    },
    {
     "name": "stdout",
     "output_type": "stream",
     "text": [
      "8, 1, 0.0511, 0.1018, 26.0949, 86.3597\n"
     ]
    },
    {
     "name": "stdout",
     "output_type": "stream",
     "text": [
      "9, 1, 0.0508, 0.1020, 25.3723, 86.3597\n"
     ]
    },
    {
     "name": "stdout",
     "output_type": "stream",
     "text": [
      "10, 1, 0.0506, 0.1014, 25.4990, 86.3597\n"
     ]
    },
    {
     "name": "stdout",
     "output_type": "stream",
     "text": [
      "w: 128, d: 5, I: 1, J: 1, x: 0.6, B: 256, t: 10\n"
     ]
    },
    {
     "name": "stdout",
     "output_type": "stream",
     "text": [
      "0, 0, 0.6092, 0.0999, 86.3596, 86.3596\n"
     ]
    },
    {
     "name": "stdout",
     "output_type": "stream",
     "text": [
      "1, 1, 0.0881, 0.1013, 31.7691, 86.3596\n"
     ]
    },
    {
     "name": "stdout",
     "output_type": "stream",
     "text": [
      "2, 1, 0.0619, 0.1014, 25.8269, 86.3596\n"
     ]
    },
    {
     "name": "stdout",
     "output_type": "stream",
     "text": [
      "3, 1, 0.0557, 0.1014, 25.6626, 86.3596\n"
     ]
    },
    {
     "name": "stdout",
     "output_type": "stream",
     "text": [
      "4, 1, 0.0533, 0.1019, 24.2072, 86.3596\n"
     ]
    },
    {
     "name": "stdout",
     "output_type": "stream",
     "text": [
      "5, 1, 0.0521, 0.1025, 23.8898, 86.3596\n"
     ]
    },
    {
     "name": "stdout",
     "output_type": "stream",
     "text": [
      "6, 1, 0.0515, 0.1016, 24.5603, 86.3596\n"
     ]
    },
    {
     "name": "stdout",
     "output_type": "stream",
     "text": [
      "7, 1, 0.0510, 0.1013, 24.0499, 86.3596\n"
     ]
    },
    {
     "name": "stdout",
     "output_type": "stream",
     "text": [
      "8, 1, 0.0506, 0.1021, 25.0460, 86.3596\n"
     ]
    },
    {
     "name": "stdout",
     "output_type": "stream",
     "text": [
      "9, 1, 0.0504, 0.1020, 24.3587, 86.3596\n"
     ]
    },
    {
     "name": "stdout",
     "output_type": "stream",
     "text": [
      "10, 1, 0.0502, 0.1014, 24.4759, 86.3596\n"
     ]
    },
    {
     "name": "stdout",
     "output_type": "stream",
     "text": [
      "w: 128, d: 5, I: 1, J: 1, x: 0.8, B: 256, t: 10\n"
     ]
    },
    {
     "name": "stdout",
     "output_type": "stream",
     "text": [
      "0, 0, 0.6092, 0.0999, 86.3596, 86.3596\n"
     ]
    },
    {
     "name": "stdout",
     "output_type": "stream",
     "text": [
      "1, 1, 0.0898, 0.1007, 32.9437, 86.3596\n"
     ]
    },
    {
     "name": "stdout",
     "output_type": "stream",
     "text": [
      "2, 1, 0.0570, 0.1012, 24.1350, 86.3596\n"
     ]
    },
    {
     "name": "stdout",
     "output_type": "stream",
     "text": [
      "3, 1, 0.0532, 0.1017, 24.1325, 86.3596\n"
     ]
    },
    {
     "name": "stdout",
     "output_type": "stream",
     "text": [
      "4, 1, 0.0519, 0.1017, 22.7664, 86.3596\n"
     ]
    },
    {
     "name": "stdout",
     "output_type": "stream",
     "text": [
      "5, 1, 0.0512, 0.1021, 22.5692, 86.3596\n"
     ]
    },
    {
     "name": "stdout",
     "output_type": "stream",
     "text": [
      "6, 1, 0.0508, 0.1017, 23.2258, 86.3596\n"
     ]
    },
    {
     "name": "stdout",
     "output_type": "stream",
     "text": [
      "7, 1, 0.0505, 0.1024, 22.6516, 86.3596\n"
     ]
    },
    {
     "name": "stdout",
     "output_type": "stream",
     "text": [
      "8, 1, 0.0502, 0.1017, 23.6405, 86.3596\n"
     ]
    },
    {
     "name": "stdout",
     "output_type": "stream",
     "text": [
      "9, 1, 0.0500, 0.1020, 23.0316, 86.3596\n"
     ]
    },
    {
     "name": "stdout",
     "output_type": "stream",
     "text": [
      "10, 1, 0.0498, 0.1014, 23.0911, 86.3596\n"
     ]
    },
    {
     "name": "stdout",
     "output_type": "stream",
     "text": [
      "w: 128, d: 5, I: 1, J: 1, x: 1.0, B: 256, t: 10\n"
     ]
    },
    {
     "name": "stdout",
     "output_type": "stream",
     "text": [
      "0, 0, 0.6092, 0.0999, 86.3597, 86.3597\n"
     ]
    },
    {
     "name": "stdout",
     "output_type": "stream",
     "text": [
      "1, 1, 0.1004, 0.1009, 34.3880, 86.3597\n"
     ]
    },
    {
     "name": "stdout",
     "output_type": "stream",
     "text": [
      "2, 1, 0.0543, 0.1021, 21.9449, 86.3597\n"
     ]
    },
    {
     "name": "stdout",
     "output_type": "stream",
     "text": [
      "3, 1, 0.0519, 0.1014, 22.2717, 86.3597\n"
     ]
    },
    {
     "name": "stdout",
     "output_type": "stream",
     "text": [
      "4, 1, 0.0509, 0.1014, 21.0336, 86.3597\n"
     ]
    },
    {
     "name": "stdout",
     "output_type": "stream",
     "text": [
      "5, 1, 0.0505, 0.1012, 20.8840, 86.3597\n"
     ]
    },
    {
     "name": "stdout",
     "output_type": "stream",
     "text": [
      "6, 1, 0.0503, 0.1021, 21.5084, 86.3597\n"
     ]
    },
    {
     "name": "stdout",
     "output_type": "stream",
     "text": [
      "7, 1, 0.0500, 0.1007, 20.8259, 86.3597\n"
     ]
    },
    {
     "name": "stdout",
     "output_type": "stream",
     "text": [
      "8, 1, 0.0497, 0.1018, 21.8894, 86.3597\n"
     ]
    },
    {
     "name": "stdout",
     "output_type": "stream",
     "text": [
      "9, 1, 0.0496, 0.1012, 21.2878, 86.3597\n"
     ]
    },
    {
     "name": "stdout",
     "output_type": "stream",
     "text": [
      "10, 1, 0.0494, 0.1004, 21.2798, 86.3597\n"
     ]
    },
    {
     "name": "stdout",
     "output_type": "stream",
     "text": [
      "w: 128, d: 5, I: 1, J: 1, x: 1.2, B: 256, t: 10\n"
     ]
    },
    {
     "name": "stdout",
     "output_type": "stream",
     "text": [
      "0, 0, 0.6092, 0.0999, 86.3596, 86.3596\n"
     ]
    },
    {
     "name": "stdout",
     "output_type": "stream",
     "text": [
      "1, 1, 0.1196, 0.0994, 36.0542, 86.3596\n"
     ]
    },
    {
     "name": "stdout",
     "output_type": "stream",
     "text": [
      "2, 1, 0.0542, 0.1006, 19.2245, 86.3596\n"
     ]
    },
    {
     "name": "stdout",
     "output_type": "stream",
     "text": [
      "3, 1, 0.0515, 0.1006, 20.1838, 86.3596\n"
     ]
    },
    {
     "name": "stdout",
     "output_type": "stream",
     "text": [
      "4, 1, 0.0504, 0.1008, 19.0461, 86.3596\n"
     ]
    },
    {
     "name": "stdout",
     "output_type": "stream",
     "text": [
      "5, 1, 0.0499, 0.1000, 18.9250, 86.3596\n"
     ]
    },
    {
     "name": "stdout",
     "output_type": "stream",
     "text": [
      "6, 1, 0.0497, 0.1012, 19.4538, 86.3596\n"
     ]
    },
    {
     "name": "stdout",
     "output_type": "stream",
     "text": [
      "7, 1, 0.0495, 0.0999, 18.7499, 86.3596\n"
     ]
    },
    {
     "name": "stdout",
     "output_type": "stream",
     "text": [
      "8, 1, 0.0493, 0.1011, 19.7213, 86.3596\n"
     ]
    },
    {
     "name": "stdout",
     "output_type": "stream",
     "text": [
      "9, 1, 0.0491, 0.1001, 19.1816, 86.3596\n"
     ]
    },
    {
     "name": "stdout",
     "output_type": "stream",
     "text": [
      "10, 1, 0.0490, 0.0999, 19.1393, 86.3596\n"
     ]
    },
    {
     "name": "stdout",
     "output_type": "stream",
     "text": [
      "w: 128, d: 5, I: 1, J: 1, x: 1.4, B: 256, t: 10\n"
     ]
    },
    {
     "name": "stdout",
     "output_type": "stream",
     "text": [
      "0, 0, 0.6092, 0.0999, 86.3596, 86.3596\n"
     ]
    },
    {
     "name": "stdout",
     "output_type": "stream",
     "text": [
      "1, 1, 0.1462, 0.1000, 37.8976, 86.3596\n"
     ]
    },
    {
     "name": "stdout",
     "output_type": "stream",
     "text": [
      "2, 1, 0.0568, 0.0997, 19.1008, 86.3596\n"
     ]
    },
    {
     "name": "stdout",
     "output_type": "stream",
     "text": [
      "3, 1, 0.0516, 0.0998, 17.8744, 86.3596\n"
     ]
    },
    {
     "name": "stdout",
     "output_type": "stream",
     "text": [
      "4, 1, 0.0501, 0.1004, 16.9939, 86.3596\n"
     ]
    },
    {
     "name": "stdout",
     "output_type": "stream",
     "text": [
      "5, 1, 0.0495, 0.0992, 16.7425, 86.3596\n"
     ]
    },
    {
     "name": "stdout",
     "output_type": "stream",
     "text": [
      "6, 1, 0.0493, 0.1003, 17.2687, 86.3596\n"
     ]
    },
    {
     "name": "stdout",
     "output_type": "stream",
     "text": [
      "7, 1, 0.0490, 0.0996, 16.5643, 86.3596\n"
     ]
    },
    {
     "name": "stdout",
     "output_type": "stream",
     "text": [
      "8, 1, 0.0488, 0.1006, 17.3844, 86.3596\n"
     ]
    },
    {
     "name": "stdout",
     "output_type": "stream",
     "text": [
      "9, 1, 0.0487, 0.0996, 16.9611, 86.3596\n"
     ]
    },
    {
     "name": "stdout",
     "output_type": "stream",
     "text": [
      "10, 1, 0.0485, 0.1001, 16.7632, 86.3596\n"
     ]
    },
    {
     "name": "stdout",
     "output_type": "stream",
     "text": [
      "w: 128, d: 5, I: 1, J: 1, x: 1.6, B: 256, t: 10\n"
     ]
    },
    {
     "name": "stdout",
     "output_type": "stream",
     "text": [
      "0, 0, 0.6092, 0.0999, 86.3596, 86.3596\n"
     ]
    },
    {
     "name": "stdout",
     "output_type": "stream",
     "text": [
      "1, 1, 0.1790, 0.1002, 40.0014, 86.3596\n"
     ]
    },
    {
     "name": "stdout",
     "output_type": "stream",
     "text": [
      "2, 1, 0.0621, 0.1002, 18.8404, 86.3596\n"
     ]
    },
    {
     "name": "stdout",
     "output_type": "stream",
     "text": [
      "3, 1, 0.0517, 0.0994, 16.9777, 86.3596\n"
     ]
    },
    {
     "name": "stdout",
     "output_type": "stream",
     "text": [
      "4, 1, 0.0498, 0.1008, 15.6960, 86.3596\n"
     ]
    },
    {
     "name": "stdout",
     "output_type": "stream",
     "text": [
      "5, 1, 0.0491, 0.1005, 15.0144, 86.3596\n"
     ]
    },
    {
     "name": "stdout",
     "output_type": "stream",
     "text": [
      "6, 1, 0.0489, 0.1000, 15.9247, 86.3596\n"
     ]
    },
    {
     "name": "stdout",
     "output_type": "stream",
     "text": [
      "7, 1, 0.0486, 0.0999, 14.8570, 86.3596\n"
     ]
    },
    {
     "name": "stdout",
     "output_type": "stream",
     "text": [
      "8, 1, 0.0484, 0.1003, 15.4160, 86.3596\n"
     ]
    },
    {
     "name": "stdout",
     "output_type": "stream",
     "text": [
      "9, 1, 0.0483, 0.0998, 15.4161, 86.3596\n"
     ]
    },
    {
     "name": "stdout",
     "output_type": "stream",
     "text": [
      "10, 1, 0.0482, 0.1002, 14.5895, 86.3596\n"
     ]
    },
    {
     "name": "stdout",
     "output_type": "stream",
     "text": [
      "w: 128, d: 5, I: 1, J: 1, x: 1.8, B: 256, t: 10\n"
     ]
    },
    {
     "name": "stdout",
     "output_type": "stream",
     "text": [
      "0, 0, 0.6092, 0.0999, 86.3596, 86.3596\n"
     ]
    },
    {
     "name": "stdout",
     "output_type": "stream",
     "text": [
      "1, 1, 0.2176, 0.1003, 42.5562, 86.3596\n"
     ]
    },
    {
     "name": "stdout",
     "output_type": "stream",
     "text": [
      "2, 1, 0.0703, 0.0996, 18.5323, 86.3596\n"
     ]
    },
    {
     "name": "stdout",
     "output_type": "stream",
     "text": [
      "3, 1, 0.0512, 0.1000, 14.3966, 86.3596\n"
     ]
    },
    {
     "name": "stdout",
     "output_type": "stream",
     "text": [
      "4, 1, 0.0492, 0.1002, 13.8083, 86.3596\n"
     ]
    },
    {
     "name": "stdout",
     "output_type": "stream",
     "text": [
      "5, 1, 0.0486, 0.1006, 13.3708, 86.3596\n"
     ]
    },
    {
     "name": "stdout",
     "output_type": "stream",
     "text": [
      "6, 1, 0.0484, 0.0998, 13.9643, 86.3596\n"
     ]
    },
    {
     "name": "stdout",
     "output_type": "stream",
     "text": [
      "7, 1, 0.0482, 0.0993, 13.1378, 86.3596\n"
     ]
    },
    {
     "name": "stdout",
     "output_type": "stream",
     "text": [
      "8, 1, 0.0480, 0.0998, 13.5791, 86.3596\n"
     ]
    },
    {
     "name": "stdout",
     "output_type": "stream",
     "text": [
      "9, 1, 0.0479, 0.1001, 13.6153, 86.3596\n"
     ]
    },
    {
     "name": "stdout",
     "output_type": "stream",
     "text": [
      "10, 1, 0.0478, 0.1001, 12.9497, 86.3596\n"
     ]
    },
    {
     "name": "stdout",
     "output_type": "stream",
     "text": [
      "w: 128, d: 5, I: 1, J: 1, x: 2.0, B: 256, t: 10\n"
     ]
    },
    {
     "name": "stdout",
     "output_type": "stream",
     "text": [
      "0, 0, 0.6092, 0.0999, 86.3597, 86.3597\n"
     ]
    },
    {
     "name": "stdout",
     "output_type": "stream",
     "text": [
      "1, 1, 0.2628, 0.1003, 45.7060, 86.3597\n"
     ]
    },
    {
     "name": "stdout",
     "output_type": "stream",
     "text": [
      "2, 1, 0.0814, 0.1001, 18.3636, 86.3597\n"
     ]
    },
    {
     "name": "stdout",
     "output_type": "stream",
     "text": [
      "3, 1, 0.0511, 0.1010, 11.8226, 86.3597\n"
     ]
    },
    {
     "name": "stdout",
     "output_type": "stream",
     "text": [
      "4, 1, 0.0486, 0.0995, 11.5840, 86.3597\n"
     ]
    },
    {
     "name": "stdout",
     "output_type": "stream",
     "text": [
      "5, 1, 0.0480, 0.1005, 11.3008, 86.3597\n"
     ]
    },
    {
     "name": "stdout",
     "output_type": "stream",
     "text": [
      "6, 1, 0.0478, 0.1003, 11.8543, 86.3597\n"
     ]
    },
    {
     "name": "stdout",
     "output_type": "stream",
     "text": [
      "7, 1, 0.0476, 0.0997, 11.1514, 86.3597\n"
     ]
    },
    {
     "name": "stdout",
     "output_type": "stream",
     "text": [
      "8, 1, 0.0475, 0.1004, 11.4172, 86.3597\n"
     ]
    },
    {
     "name": "stdout",
     "output_type": "stream",
     "text": [
      "9, 1, 0.0474, 0.1004, 11.6166, 86.3597\n"
     ]
    },
    {
     "name": "stdout",
     "output_type": "stream",
     "text": [
      "10, 1, 0.0473, 0.0999, 10.7960, 86.3597\n"
     ]
    },
    {
     "name": "stdout",
     "output_type": "stream",
     "text": [
      "w: 128, d: 5, I: 1, J: 1, x: 2.2, B: 256, t: 10\n"
     ]
    },
    {
     "name": "stdout",
     "output_type": "stream",
     "text": [
      "0, 0, 0.6092, 0.0999, 86.3596, 86.3596\n"
     ]
    },
    {
     "name": "stdout",
     "output_type": "stream",
     "text": [
      "1, 1, 0.3172, 0.1003, 49.6422, 86.3596\n"
     ]
    },
    {
     "name": "stdout",
     "output_type": "stream",
     "text": [
      "2, 1, 0.0950, 0.1003, 18.2717, 86.3596\n"
     ]
    },
    {
     "name": "stdout",
     "output_type": "stream",
     "text": [
      "3, 1, 0.0523, 0.1005, 9.6035, 86.3596\n"
     ]
    },
    {
     "name": "stdout",
     "output_type": "stream",
     "text": [
      "4, 1, 0.0485, 0.0996, 9.4105, 86.3596\n"
     ]
    },
    {
     "name": "stdout",
     "output_type": "stream",
     "text": [
      "5, 1, 0.0475, 0.0993, 9.1253, 86.3596\n"
     ]
    },
    {
     "name": "stdout",
     "output_type": "stream",
     "text": [
      "6, 1, 0.0473, 0.0997, 9.5122, 86.3596\n"
     ]
    },
    {
     "name": "stdout",
     "output_type": "stream",
     "text": [
      "7, 1, 0.0471, 0.0998, 9.1279, 86.3596\n"
     ]
    },
    {
     "name": "stdout",
     "output_type": "stream",
     "text": [
      "8, 1, 0.0470, 0.1008, 9.2183, 86.3596\n"
     ]
    },
    {
     "name": "stdout",
     "output_type": "stream",
     "text": [
      "9, 1, 0.0469, 0.1011, 9.4434, 86.3596\n"
     ]
    },
    {
     "name": "stdout",
     "output_type": "stream",
     "text": [
      "10, 1, 0.0469, 0.0998, 8.7544, 86.3596\n"
     ]
    },
    {
     "name": "stdout",
     "output_type": "stream",
     "text": [
      "w: 128, d: 5, I: 1, J: 1, x: 2.4, B: 256, t: 10\n"
     ]
    },
    {
     "name": "stdout",
     "output_type": "stream",
     "text": [
      "0, 0, 0.6092, 0.0999, 86.3596, 86.3596\n"
     ]
    },
    {
     "name": "stdout",
     "output_type": "stream",
     "text": [
      "1, 1, 0.3844, 0.1003, 54.7364, 86.3596\n"
     ]
    },
    {
     "name": "stdout",
     "output_type": "stream",
     "text": [
      "2, 1, 0.1099, 0.1003, 18.2843, 86.3596\n"
     ]
    },
    {
     "name": "stdout",
     "output_type": "stream",
     "text": [
      "3, 1, 0.0544, 0.0997, 8.0540, 86.3596\n"
     ]
    },
    {
     "name": "stdout",
     "output_type": "stream",
     "text": [
      "4, 1, 0.0497, 0.1005, 7.5492, 86.3596\n"
     ]
    },
    {
     "name": "stdout",
     "output_type": "stream",
     "text": [
      "5, 1, 0.0478, 0.0999, 7.2124, 86.3596\n"
     ]
    },
    {
     "name": "stdout",
     "output_type": "stream",
     "text": [
      "6, 1, 0.0472, 0.0994, 7.4272, 86.3596\n"
     ]
    },
    {
     "name": "stdout",
     "output_type": "stream",
     "text": [
      "7, 1, 0.0469, 0.0998, 7.2760, 86.3596\n"
     ]
    },
    {
     "name": "stdout",
     "output_type": "stream",
     "text": [
      "8, 1, 0.0466, 0.1000, 7.2463, 86.3596\n"
     ]
    },
    {
     "name": "stdout",
     "output_type": "stream",
     "text": [
      "9, 1, 0.0465, 0.1013, 7.4474, 86.3596\n"
     ]
    },
    {
     "name": "stdout",
     "output_type": "stream",
     "text": [
      "10, 1, 0.0464, 0.0999, 6.8713, 86.3596\n"
     ]
    },
    {
     "name": "stdout",
     "output_type": "stream",
     "text": [
      "w: 128, d: 5, I: 1, J: 1, x: 2.6, B: 256, t: 10\n"
     ]
    },
    {
     "name": "stdout",
     "output_type": "stream",
     "text": [
      "0, 0, 0.6092, 0.0999, 86.3597, 86.3597\n"
     ]
    },
    {
     "name": "stdout",
     "output_type": "stream",
     "text": [
      "1, 1, 0.4700, 0.1003, 61.2951, 86.3597\n"
     ]
    },
    {
     "name": "stdout",
     "output_type": "stream",
     "text": [
      "2, 1, 0.1242, 0.1001, 18.4140, 86.3597\n"
     ]
    },
    {
     "name": "stdout",
     "output_type": "stream",
     "text": [
      "3, 1, 0.0558, 0.0983, 7.1517, 86.3597\n"
     ]
    },
    {
     "name": "stdout",
     "output_type": "stream",
     "text": [
      "4, 1, 0.0508, 0.0989, 6.0896, 86.3597\n"
     ]
    },
    {
     "name": "stdout",
     "output_type": "stream",
     "text": [
      "5, 1, 0.0485, 0.0993, 5.6539, 86.3597\n"
     ]
    },
    {
     "name": "stdout",
     "output_type": "stream",
     "text": [
      "6, 1, 0.0475, 0.0999, 5.4932, 86.3597\n"
     ]
    },
    {
     "name": "stdout",
     "output_type": "stream",
     "text": [
      "7, 1, 0.0470, 0.1007, 5.5729, 86.3597\n"
     ]
    },
    {
     "name": "stdout",
     "output_type": "stream",
     "text": [
      "8, 1, 0.0466, 0.1008, 5.6565, 86.3597\n"
     ]
    },
    {
     "name": "stdout",
     "output_type": "stream",
     "text": [
      "9, 1, 0.0464, 0.1004, 5.3515, 86.3597\n"
     ]
    },
    {
     "name": "stdout",
     "output_type": "stream",
     "text": [
      "10, 1, 0.0462, 0.0994, 5.4879, 86.3597\n"
     ]
    },
    {
     "name": "stdout",
     "output_type": "stream",
     "text": [
      "w: 128, d: 5, I: 1, J: 1, x: 2.8, B: 256, t: 10\n"
     ]
    },
    {
     "name": "stdout",
     "output_type": "stream",
     "text": [
      "0, 0, 0.6092, 0.0999, 86.3596, 86.3596\n"
     ]
    },
    {
     "name": "stdout",
     "output_type": "stream",
     "text": [
      "1, 1, 0.5821, 0.1003, 69.9086, 86.3596\n"
     ]
    },
    {
     "name": "stdout",
     "output_type": "stream",
     "text": [
      "2, 1, 0.1391, 0.0995, 19.2609, 86.3596\n"
     ]
    },
    {
     "name": "stdout",
     "output_type": "stream",
     "text": [
      "3, 1, 0.0552, 0.0999, 6.8917, 86.3596\n"
     ]
    },
    {
     "name": "stdout",
     "output_type": "stream",
     "text": [
      "4, 1, 0.0502, 0.1002, 5.3772, 86.3596\n"
     ]
    },
    {
     "name": "stdout",
     "output_type": "stream",
     "text": [
      "5, 1, 0.0482, 0.1004, 5.1045, 86.3596\n"
     ]
    },
    {
     "name": "stdout",
     "output_type": "stream",
     "text": [
      "6, 1, 0.0473, 0.0990, 4.8550, 86.3596\n"
     ]
    },
    {
     "name": "stdout",
     "output_type": "stream",
     "text": [
      "7, 1, 0.0468, 0.1000, 5.0996, 86.3596\n"
     ]
    },
    {
     "name": "stdout",
     "output_type": "stream",
     "text": [
      "8, 1, 0.0464, 0.1001, 5.2061, 86.3596\n"
     ]
    },
    {
     "name": "stdout",
     "output_type": "stream",
     "text": [
      "9, 1, 0.0462, 0.1020, 4.9034, 86.3596\n"
     ]
    },
    {
     "name": "stdout",
     "output_type": "stream",
     "text": [
      "10, 1, 0.0461, 0.0998, 5.0847, 86.3596\n"
     ]
    },
    {
     "name": "stdout",
     "output_type": "stream",
     "text": [
      "w: 128, d: 5, I: 1, J: 1, x: 3.0, B: 256, t: 10\n"
     ]
    },
    {
     "name": "stdout",
     "output_type": "stream",
     "text": [
      "0, 0, 0.6092, 0.0999, 86.3596, 86.3596\n"
     ]
    },
    {
     "name": "stdout",
     "output_type": "stream",
     "text": [
      "1, 1, 0.7328, 0.1003, 81.2080, 86.3596\n"
     ]
    },
    {
     "name": "stdout",
     "output_type": "stream",
     "text": [
      "2, 1, 0.1593, 0.0992, 21.0962, 86.3596\n"
     ]
    },
    {
     "name": "stdout",
     "output_type": "stream",
     "text": [
      "3, 1, 0.0539, 0.0996, 6.3022, 86.3596\n"
     ]
    },
    {
     "name": "stdout",
     "output_type": "stream",
     "text": [
      "4, 1, 0.0491, 0.0998, 4.5579, 86.3596\n"
     ]
    },
    {
     "name": "stdout",
     "output_type": "stream",
     "text": [
      "5, 1, 0.0476, 0.1007, 4.3000, 86.3596\n"
     ]
    },
    {
     "name": "stdout",
     "output_type": "stream",
     "text": [
      "6, 1, 0.0470, 0.0994, 4.0704, 86.3596\n"
     ]
    },
    {
     "name": "stdout",
     "output_type": "stream",
     "text": [
      "7, 1, 0.0466, 0.1000, 4.2967, 86.3596\n"
     ]
    },
    {
     "name": "stdout",
     "output_type": "stream",
     "text": [
      "8, 1, 0.0463, 0.1005, 4.3897, 86.3596\n"
     ]
    },
    {
     "name": "stdout",
     "output_type": "stream",
     "text": [
      "9, 1, 0.0461, 0.1008, 4.1270, 86.3596\n"
     ]
    },
    {
     "name": "stdout",
     "output_type": "stream",
     "text": [
      "10, 1, 0.0460, 0.0996, 4.2759, 86.3596\n"
     ]
    },
    {
     "name": "stdout",
     "output_type": "stream",
     "text": [
      "w: 128, d: 5, I: 1, J: 1, x: 3.2, B: 256, t: 10\n"
     ]
    },
    {
     "name": "stdout",
     "output_type": "stream",
     "text": [
      "0, 0, 0.6092, 0.0999, 86.3597, 86.3597\n"
     ]
    },
    {
     "name": "stdout",
     "output_type": "stream",
     "text": [
      "1, 1, 0.9407, 0.1003, 95.8997, 86.3597\n"
     ]
    },
    {
     "name": "stdout",
     "output_type": "stream",
     "text": [
      "2, 1, 0.1889, 0.0980, 24.1667, 86.3597\n"
     ]
    },
    {
     "name": "stdout",
     "output_type": "stream",
     "text": [
      "3, 1, 0.0534, 0.0983, 5.1930, 86.3597\n"
     ]
    },
    {
     "name": "stdout",
     "output_type": "stream",
     "text": [
      "4, 1, 0.0487, 0.0989, 3.5245, 86.3597\n"
     ]
    },
    {
     "name": "stdout",
     "output_type": "stream",
     "text": [
      "5, 1, 0.0474, 0.0997, 3.2508, 86.3597\n"
     ]
    },
    {
     "name": "stdout",
     "output_type": "stream",
     "text": [
      "6, 1, 0.0469, 0.0992, 3.1032, 86.3597\n"
     ]
    },
    {
     "name": "stdout",
     "output_type": "stream",
     "text": [
      "7, 1, 0.0465, 0.0986, 3.2320, 86.3597\n"
     ]
    },
    {
     "name": "stdout",
     "output_type": "stream",
     "text": [
      "8, 1, 0.0463, 0.0994, 3.3121, 86.3597\n"
     ]
    },
    {
     "name": "stdout",
     "output_type": "stream",
     "text": [
      "9, 1, 0.0461, 0.0985, 3.0759, 86.3597\n"
     ]
    },
    {
     "name": "stdout",
     "output_type": "stream",
     "text": [
      "10, 1, 0.0460, 0.0994, 3.1984, 86.3597\n"
     ]
    },
    {
     "name": "stdout",
     "output_type": "stream",
     "text": [
      "w: 128, d: 5, I: 1, J: 1, x: 3.4, B: 256, t: 10\n"
     ]
    },
    {
     "name": "stdout",
     "output_type": "stream",
     "text": [
      "0, 0, 0.6092, 0.0999, 86.3597, 86.3597\n"
     ]
    },
    {
     "name": "stdout",
     "output_type": "stream",
     "text": [
      "1, 1, 1.2355, 0.1003, 115.2642, 86.3597\n"
     ]
    },
    {
     "name": "stdout",
     "output_type": "stream",
     "text": [
      "2, 1, 0.2302, 0.0980, 28.6461, 86.3597\n"
     ]
    },
    {
     "name": "stdout",
     "output_type": "stream",
     "text": [
      "3, 1, 0.0541, 0.1000, 4.1903, 86.3597\n"
     ]
    },
    {
     "name": "stdout",
     "output_type": "stream",
     "text": [
      "4, 1, 0.0497, 0.1001, 2.7223, 86.3597\n"
     ]
    },
    {
     "name": "stdout",
     "output_type": "stream",
     "text": [
      "5, 1, 0.0481, 0.1000, 1.9773, 86.3597\n"
     ]
    },
    {
     "name": "stdout",
     "output_type": "stream",
     "text": [
      "6, 1, 0.0472, 0.0994, 2.1551, 86.3597\n"
     ]
    },
    {
     "name": "stdout",
     "output_type": "stream",
     "text": [
      "7, 1, 0.0467, 0.0999, 2.1810, 86.3597\n"
     ]
    },
    {
     "name": "stdout",
     "output_type": "stream",
     "text": [
      "8, 1, 0.0464, 0.1009, 2.4337, 86.3597\n"
     ]
    },
    {
     "name": "stdout",
     "output_type": "stream",
     "text": [
      "9, 1, 0.0462, 0.1016, 2.1059, 86.3597\n"
     ]
    },
    {
     "name": "stdout",
     "output_type": "stream",
     "text": [
      "10, 1, 0.0460, 0.1016, 2.2318, 86.3597\n"
     ]
    },
    {
     "name": "stdout",
     "output_type": "stream",
     "text": [
      "w: 128, d: 5, I: 1, J: 1, x: 3.6, B: 256, t: 10\n"
     ]
    },
    {
     "name": "stdout",
     "output_type": "stream",
     "text": [
      "0, 0, 0.6092, 0.0999, 86.3596, 86.3596\n"
     ]
    },
    {
     "name": "stdout",
     "output_type": "stream",
     "text": [
      "1, 1, 1.6664, 0.1003, 141.3815, 86.3596\n"
     ]
    },
    {
     "name": "stdout",
     "output_type": "stream",
     "text": [
      "2, 1, 0.2983, 0.0991, 35.8487, 86.3596\n"
     ]
    },
    {
     "name": "stdout",
     "output_type": "stream",
     "text": [
      "3, 1, 0.0548, 0.0998, 3.8867, 86.3596\n"
     ]
    },
    {
     "name": "stdout",
     "output_type": "stream",
     "text": [
      "4, 1, 0.0513, 0.1001, 1.6870, 86.3596\n"
     ]
    },
    {
     "name": "stdout",
     "output_type": "stream",
     "text": [
      "5, 1, 0.0496, 0.1001, 1.5846, 86.3596\n"
     ]
    },
    {
     "name": "stdout",
     "output_type": "stream",
     "text": [
      "6, 1, 0.0485, 0.1001, 1.5905, 86.3596\n"
     ]
    },
    {
     "name": "stdout",
     "output_type": "stream",
     "text": [
      "7, 1, 0.0478, 0.1008, 1.5832, 86.3596\n"
     ]
    },
    {
     "name": "stdout",
     "output_type": "stream",
     "text": [
      "8, 1, 0.0473, 0.0999, 1.5450, 86.3596\n"
     ]
    },
    {
     "name": "stdout",
     "output_type": "stream",
     "text": [
      "9, 1, 0.0468, 0.1005, 1.6211, 86.3596\n"
     ]
    },
    {
     "name": "stdout",
     "output_type": "stream",
     "text": [
      "10, 1, 0.0465, 0.1008, 1.6363, 86.3596\n"
     ]
    },
    {
     "name": "stdout",
     "output_type": "stream",
     "text": [
      "w: 128, d: 5, I: 1, J: 1, x: 3.8, B: 256, t: 10\n"
     ]
    },
    {
     "name": "stdout",
     "output_type": "stream",
     "text": [
      "0, 0, 0.6092, 0.0999, 86.3596, 86.3596\n"
     ]
    },
    {
     "name": "stdout",
     "output_type": "stream",
     "text": [
      "1, 1, 2.3121, 0.1003, 177.4720, 86.3596\n"
     ]
    },
    {
     "name": "stdout",
     "output_type": "stream",
     "text": [
      "2, 1, 0.4612, 0.0996, 50.2307, 86.3596\n"
     ]
    },
    {
     "name": "stdout",
     "output_type": "stream",
     "text": [
      "3, 1, 0.0563, 0.0999, 3.9726, 86.3596\n"
     ]
    },
    {
     "name": "stdout",
     "output_type": "stream",
     "text": [
      "4, 1, 0.0517, 0.0996, 1.9869, 86.3596\n"
     ]
    },
    {
     "name": "stdout",
     "output_type": "stream",
     "text": [
      "5, 1, 0.0498, 0.1002, 1.9364, 86.3596\n"
     ]
    },
    {
     "name": "stdout",
     "output_type": "stream",
     "text": [
      "6, 1, 0.0487, 0.1007, 1.8655, 86.3596\n"
     ]
    },
    {
     "name": "stdout",
     "output_type": "stream",
     "text": [
      "7, 1, 0.0480, 0.1007, 1.8792, 86.3596\n"
     ]
    },
    {
     "name": "stdout",
     "output_type": "stream",
     "text": [
      "8, 1, 0.0475, 0.0997, 1.8547, 86.3596\n"
     ]
    },
    {
     "name": "stdout",
     "output_type": "stream",
     "text": [
      "9, 1, 0.0470, 0.1007, 1.8751, 86.3596\n"
     ]
    },
    {
     "name": "stdout",
     "output_type": "stream",
     "text": [
      "10, 1, 0.0466, 0.1009, 1.9394, 86.3596\n"
     ]
    },
    {
     "name": "stdout",
     "output_type": "stream",
     "text": [
      "w: 128, d: 5, I: 1, J: 1, x: 4.0, B: 256, t: 10\n"
     ]
    },
    {
     "name": "stdout",
     "output_type": "stream",
     "text": [
      "0, 0, 0.6092, 0.0999, 86.3596, 86.3596\n"
     ]
    },
    {
     "name": "stdout",
     "output_type": "stream",
     "text": [
      "1, 1, 3.3079, 0.1003, 228.2308, 86.3596\n"
     ]
    },
    {
     "name": "stdout",
     "output_type": "stream",
     "text": [
      "2, 1, 0.8694, 0.1004, 84.2775, 86.3596\n"
     ]
    },
    {
     "name": "stdout",
     "output_type": "stream",
     "text": [
      "3, 1, 0.0749, 0.0996, 11.8385, 86.3596\n"
     ]
    },
    {
     "name": "stdout",
     "output_type": "stream",
     "text": [
      "4, 1, 0.0505, 0.1000, 1.9951, 86.3596\n"
     ]
    },
    {
     "name": "stdout",
     "output_type": "stream",
     "text": [
      "5, 1, 0.0493, 0.1013, 1.7224, 86.3596\n"
     ]
    },
    {
     "name": "stdout",
     "output_type": "stream",
     "text": [
      "6, 1, 0.0483, 0.1010, 1.6558, 86.3596\n"
     ]
    },
    {
     "name": "stdout",
     "output_type": "stream",
     "text": [
      "7, 1, 0.0478, 0.1014, 1.7091, 86.3596\n"
     ]
    },
    {
     "name": "stdout",
     "output_type": "stream",
     "text": [
      "8, 1, 0.0474, 0.1002, 1.9340, 86.3596\n"
     ]
    },
    {
     "name": "stdout",
     "output_type": "stream",
     "text": [
      "9, 1, 0.0469, 0.1010, 1.8536, 86.3596\n"
     ]
    },
    {
     "name": "stdout",
     "output_type": "stream",
     "text": [
      "10, 1, 0.0466, 0.1024, 1.9844, 86.3596\n"
     ]
    },
    {
     "name": "stdout",
     "output_type": "stream",
     "text": [
      "w: 128, d: 5, I: 1, J: 1, x: 4.2, B: 256, t: 10\n"
     ]
    },
    {
     "name": "stdout",
     "output_type": "stream",
     "text": [
      "0, 0, 0.6092, 0.0999, 86.3597, 86.3597\n"
     ]
    },
    {
     "name": "stdout",
     "output_type": "stream",
     "text": [
      "1, 1, 4.8914, 0.1003, 301.5835, 86.3597\n"
     ]
    },
    {
     "name": "stdout",
     "output_type": "stream",
     "text": [
      "2, 1, 2.1219, 0.1003, 169.7860, 86.3597\n"
     ]
    },
    {
     "name": "stdout",
     "output_type": "stream",
     "text": [
      "3, 1, 0.0834, 0.1000, 48.4546, 86.3597\n"
     ]
    },
    {
     "name": "stdout",
     "output_type": "stream",
     "text": [
      "4, 1, 0.0623, 0.1002, 4.9013, 86.3597\n"
     ]
    },
    {
     "name": "stdout",
     "output_type": "stream",
     "text": [
      "5, 1, 0.0502, 0.1010, 2.0954, 86.3597\n"
     ]
    },
    {
     "name": "stdout",
     "output_type": "stream",
     "text": [
      "6, 1, 0.0481, 0.1024, 1.7413, 86.3597\n"
     ]
    },
    {
     "name": "stdout",
     "output_type": "stream",
     "text": [
      "7, 1, 0.0473, 0.0999, 1.5953, 86.3597\n"
     ]
    },
    {
     "name": "stdout",
     "output_type": "stream",
     "text": [
      "8, 1, 0.0468, 0.0997, 1.7715, 86.3597\n"
     ]
    },
    {
     "name": "stdout",
     "output_type": "stream",
     "text": [
      "9, 1, 0.0464, 0.0995, 1.6399, 86.3597\n"
     ]
    },
    {
     "name": "stdout",
     "output_type": "stream",
     "text": [
      "10, 1, 0.0462, 0.0992, 1.8008, 86.3597\n"
     ]
    },
    {
     "name": "stdout",
     "output_type": "stream",
     "text": [
      "w: 128, d: 5, I: 1, J: 1, x: 4.4, B: 256, t: 10\n"
     ]
    },
    {
     "name": "stdout",
     "output_type": "stream",
     "text": [
      "0, 0, 0.6092, 0.0999, 86.3597, 86.3597\n"
     ]
    },
    {
     "name": "stdout",
     "output_type": "stream",
     "text": [
      "1, 1, 7.4922, 0.1003, 410.4315, 86.3597\n"
     ]
    },
    {
     "name": "stdout",
     "output_type": "stream",
     "text": [
      "2, 1, 6.6438, 0.1003, 462.4030, 86.3597\n"
     ]
    },
    {
     "name": "stdout",
     "output_type": "stream",
     "text": [
      "3, 1, 0.0768, 0.1000, 19.2799, 86.3597\n"
     ]
    },
    {
     "name": "stdout",
     "output_type": "stream",
     "text": [
      "4, 1, 0.8842, 0.0998, 504.2018, 86.3597\n"
     ]
    },
    {
     "name": "stdout",
     "output_type": "stream",
     "text": [
      "5, 1, 0.6389, 0.0998, 291.2328, 86.3597\n"
     ]
    },
    {
     "name": "stdout",
     "output_type": "stream",
     "text": [
      "6, 1, 0.0747, 0.1000, 16.9611, 86.3597\n"
     ]
    },
    {
     "name": "stdout",
     "output_type": "stream",
     "text": [
      "7, 1, 0.0655, 0.0991, 9.9584, 86.3597\n"
     ]
    },
    {
     "name": "stdout",
     "output_type": "stream",
     "text": [
      "8, 1, 0.0570, 0.1008, 6.6832, 86.3597\n"
     ]
    },
    {
     "name": "stdout",
     "output_type": "stream",
     "text": [
      "9, 1, 0.0485, 0.0996, 3.7883, 86.3597\n"
     ]
    },
    {
     "name": "stdout",
     "output_type": "stream",
     "text": [
      "10, 1, 0.0468, 0.0983, 2.4990, 86.3597\n"
     ]
    },
    {
     "name": "stdout",
     "output_type": "stream",
     "text": [
      "w: 128, d: 5, I: 1, J: 1, x: 4.6, B: 256, t: 10\n"
     ]
    },
    {
     "name": "stdout",
     "output_type": "stream",
     "text": [
      "0, 0, 0.6092, 0.0999, 86.3597, 86.3597\n"
     ]
    },
    {
     "name": "stdout",
     "output_type": "stream",
     "text": [
      "1, 1, 11.9236, 0.1003, 577.1025, 86.3597\n"
     ]
    },
    {
     "name": "stdout",
     "output_type": "stream",
     "text": [
      "2, 1, 29.2050, 0.1003, 1820.8132, 86.3597\n"
     ]
    },
    {
     "name": "stdout",
     "output_type": "stream",
     "text": [
      "3, 1, 2.3758, 0.0999, 967.6688, 86.3597\n"
     ]
    },
    {
     "name": "stdout",
     "output_type": "stream",
     "text": [
      "4, 1, 244635.1406, 0.0998, 3046593.0000, 86.3597\n",
      "Divergence\n"
     ]
    },
    {
     "name": "stdout",
     "output_type": "stream",
     "text": [
      "w: 256, d: 5, I: 1, J: 1, x: 0.0, B: 256, t: 10\n"
     ]
    },
    {
     "name": "stdout",
     "output_type": "stream",
     "text": [
      "0, 0, 0.1935, 0.1001, 76.4478, 76.4478\n"
     ]
    },
    {
     "name": "stdout",
     "output_type": "stream",
     "text": [
      "1, 1, 0.0607, 0.0981, 52.0385, 76.4478\n"
     ]
    },
    {
     "name": "stdout",
     "output_type": "stream",
     "text": [
      "2, 1, 0.0520, 0.0969, 51.8397, 76.4478\n"
     ]
    },
    {
     "name": "stdout",
     "output_type": "stream",
     "text": [
      "3, 1, 0.0511, 0.0994, 51.7596, 76.4478\n"
     ]
    },
    {
     "name": "stdout",
     "output_type": "stream",
     "text": [
      "4, 1, 0.0507, 0.0986, 51.2738, 76.4478\n"
     ]
    },
    {
     "name": "stdout",
     "output_type": "stream",
     "text": [
      "5, 1, 0.0505, 0.0984, 50.8389, 76.4478\n"
     ]
    },
    {
     "name": "stdout",
     "output_type": "stream",
     "text": [
      "6, 1, 0.0503, 0.0986, 51.1835, 76.4478\n"
     ]
    },
    {
     "name": "stdout",
     "output_type": "stream",
     "text": [
      "7, 1, 0.0501, 0.0987, 50.3814, 76.4478\n"
     ]
    },
    {
     "name": "stdout",
     "output_type": "stream",
     "text": [
      "8, 1, 0.0499, 0.0996, 50.7883, 76.4478\n"
     ]
    },
    {
     "name": "stdout",
     "output_type": "stream",
     "text": [
      "9, 1, 0.0497, 0.0987, 49.7937, 76.4478\n"
     ]
    },
    {
     "name": "stdout",
     "output_type": "stream",
     "text": [
      "10, 1, 0.0496, 0.1004, 49.8866, 76.4478\n"
     ]
    },
    {
     "name": "stdout",
     "output_type": "stream",
     "text": [
      "w: 256, d: 5, I: 1, J: 1, x: 0.2, B: 256, t: 10\n"
     ]
    },
    {
     "name": "stdout",
     "output_type": "stream",
     "text": [
      "0, 0, 0.1935, 0.1001, 76.4478, 76.4478\n"
     ]
    },
    {
     "name": "stdout",
     "output_type": "stream",
     "text": [
      "1, 1, 0.0690, 0.0971, 54.9163, 76.4478\n"
     ]
    },
    {
     "name": "stdout",
     "output_type": "stream",
     "text": [
      "2, 1, 0.0532, 0.0982, 52.3180, 76.4478\n"
     ]
    },
    {
     "name": "stdout",
     "output_type": "stream",
     "text": [
      "3, 1, 0.0511, 0.0991, 46.2227, 76.4478\n"
     ]
    },
    {
     "name": "stdout",
     "output_type": "stream",
     "text": [
      "4, 1, 0.0505, 0.0983, 50.2600, 76.4478\n"
     ]
    },
    {
     "name": "stdout",
     "output_type": "stream",
     "text": [
      "5, 1, 0.0503, 0.0990, 49.3999, 76.4478\n"
     ]
    },
    {
     "name": "stdout",
     "output_type": "stream",
     "text": [
      "6, 1, 0.0501, 0.0989, 49.8724, 76.4478\n"
     ]
    },
    {
     "name": "stdout",
     "output_type": "stream",
     "text": [
      "7, 1, 0.0499, 0.0994, 48.9588, 76.4478\n"
     ]
    },
    {
     "name": "stdout",
     "output_type": "stream",
     "text": [
      "8, 1, 0.0497, 0.0993, 49.1272, 76.4478\n"
     ]
    },
    {
     "name": "stdout",
     "output_type": "stream",
     "text": [
      "9, 1, 0.0495, 0.0988, 48.3447, 76.4478\n"
     ]
    },
    {
     "name": "stdout",
     "output_type": "stream",
     "text": [
      "10, 1, 0.0494, 0.1004, 48.4911, 76.4478\n"
     ]
    },
    {
     "name": "stdout",
     "output_type": "stream",
     "text": [
      "w: 256, d: 5, I: 1, J: 1, x: 0.4, B: 256, t: 10\n"
     ]
    },
    {
     "name": "stdout",
     "output_type": "stream",
     "text": [
      "0, 0, 0.1935, 0.1001, 76.4478, 76.4478\n"
     ]
    },
    {
     "name": "stdout",
     "output_type": "stream",
     "text": [
      "1, 1, 0.0859, 0.0985, 58.4202, 76.4478\n"
     ]
    },
    {
     "name": "stdout",
     "output_type": "stream",
     "text": [
      "2, 1, 0.0592, 0.0997, 53.2787, 76.4478\n"
     ]
    },
    {
     "name": "stdout",
     "output_type": "stream",
     "text": [
      "3, 1, 0.0526, 0.0973, 46.8569, 76.4478\n"
     ]
    },
    {
     "name": "stdout",
     "output_type": "stream",
     "text": [
      "4, 1, 0.0508, 0.0981, 48.9750, 76.4478\n"
     ]
    },
    {
     "name": "stdout",
     "output_type": "stream",
     "text": [
      "5, 1, 0.0500, 0.0996, 41.2987, 76.4478\n"
     ]
    },
    {
     "name": "stdout",
     "output_type": "stream",
     "text": [
      "6, 1, 0.0500, 0.0984, 47.7019, 76.4478\n"
     ]
    },
    {
     "name": "stdout",
     "output_type": "stream",
     "text": [
      "7, 1, 0.0497, 0.0997, 41.0587, 76.4478\n"
     ]
    },
    {
     "name": "stdout",
     "output_type": "stream",
     "text": [
      "8, 1, 0.0494, 0.0991, 42.3190, 76.4478\n"
     ]
    },
    {
     "name": "stdout",
     "output_type": "stream",
     "text": [
      "9, 1, 0.0492, 0.0991, 40.7107, 76.4478\n"
     ]
    },
    {
     "name": "stdout",
     "output_type": "stream",
     "text": [
      "10, 1, 0.0491, 0.1004, 40.7165, 76.4478\n"
     ]
    },
    {
     "name": "stdout",
     "output_type": "stream",
     "text": [
      "w: 256, d: 5, I: 1, J: 1, x: 0.6, B: 256, t: 10\n"
     ]
    },
    {
     "name": "stdout",
     "output_type": "stream",
     "text": [
      "0, 0, 0.1935, 0.1001, 76.4478, 76.4478\n"
     ]
    },
    {
     "name": "stdout",
     "output_type": "stream",
     "text": [
      "1, 1, 0.1141, 0.0989, 62.5849, 76.4478\n"
     ]
    },
    {
     "name": "stdout",
     "output_type": "stream",
     "text": [
      "2, 1, 0.0761, 0.0996, 54.6554, 76.4478\n"
     ]
    },
    {
     "name": "stdout",
     "output_type": "stream",
     "text": [
      "3, 1, 0.0587, 0.0975, 46.3235, 76.4478\n"
     ]
    },
    {
     "name": "stdout",
     "output_type": "stream",
     "text": [
      "4, 1, 0.0526, 0.0998, 46.7222, 76.4478\n"
     ]
    },
    {
     "name": "stdout",
     "output_type": "stream",
     "text": [
      "5, 1, 0.0501, 0.0988, 40.6567, 76.4478\n"
     ]
    },
    {
     "name": "stdout",
     "output_type": "stream",
     "text": [
      "6, 1, 0.0500, 0.0997, 43.0221, 76.4478\n"
     ]
    },
    {
     "name": "stdout",
     "output_type": "stream",
     "text": [
      "7, 1, 0.0494, 0.0991, 40.1768, 76.4478\n"
     ]
    },
    {
     "name": "stdout",
     "output_type": "stream",
     "text": [
      "8, 1, 0.0491, 0.0991, 39.8358, 76.4478\n"
     ]
    },
    {
     "name": "stdout",
     "output_type": "stream",
     "text": [
      "9, 1, 0.0489, 0.0994, 39.0443, 76.4478\n"
     ]
    },
    {
     "name": "stdout",
     "output_type": "stream",
     "text": [
      "10, 1, 0.0488, 0.0994, 39.5876, 76.4478\n"
     ]
    },
    {
     "name": "stdout",
     "output_type": "stream",
     "text": [
      "w: 256, d: 5, I: 1, J: 1, x: 0.8, B: 256, t: 10\n"
     ]
    },
    {
     "name": "stdout",
     "output_type": "stream",
     "text": [
      "0, 0, 0.1935, 0.1001, 76.4478, 76.4478\n"
     ]
    },
    {
     "name": "stdout",
     "output_type": "stream",
     "text": [
      "1, 1, 0.1568, 0.0984, 67.5411, 76.4478\n"
     ]
    },
    {
     "name": "stdout",
     "output_type": "stream",
     "text": [
      "2, 1, 0.1119, 0.1004, 56.1515, 76.4478\n"
     ]
    },
    {
     "name": "stdout",
     "output_type": "stream",
     "text": [
      "3, 1, 0.0713, 0.0985, 43.9964, 76.4478\n"
     ]
    },
    {
     "name": "stdout",
     "output_type": "stream",
     "text": [
      "4, 1, 0.0555, 0.0994, 41.2903, 76.4478\n"
     ]
    },
    {
     "name": "stdout",
     "output_type": "stream",
     "text": [
      "5, 1, 0.0502, 0.0987, 35.4284, 76.4478\n"
     ]
    },
    {
     "name": "stdout",
     "output_type": "stream",
     "text": [
      "6, 1, 0.0499, 0.0995, 33.7575, 76.4478\n"
     ]
    },
    {
     "name": "stdout",
     "output_type": "stream",
     "text": [
      "7, 1, 0.0491, 0.0989, 34.7223, 76.4478\n"
     ]
    },
    {
     "name": "stdout",
     "output_type": "stream",
     "text": [
      "8, 1, 0.0487, 0.0995, 34.2731, 76.4478\n"
     ]
    },
    {
     "name": "stdout",
     "output_type": "stream",
     "text": [
      "9, 1, 0.0485, 0.0996, 33.5478, 76.4478\n"
     ]
    },
    {
     "name": "stdout",
     "output_type": "stream",
     "text": [
      "10, 1, 0.0485, 0.0997, 34.0276, 76.4478\n"
     ]
    },
    {
     "name": "stdout",
     "output_type": "stream",
     "text": [
      "w: 256, d: 5, I: 1, J: 1, x: 1.0, B: 256, t: 10\n"
     ]
    },
    {
     "name": "stdout",
     "output_type": "stream",
     "text": [
      "0, 0, 0.1935, 0.1001, 76.4478, 76.4478\n"
     ]
    },
    {
     "name": "stdout",
     "output_type": "stream",
     "text": [
      "1, 1, 0.2177, 0.0994, 73.3601, 76.4478\n"
     ]
    },
    {
     "name": "stdout",
     "output_type": "stream",
     "text": [
      "2, 1, 0.1723, 0.1003, 57.2631, 76.4478\n"
     ]
    },
    {
     "name": "stdout",
     "output_type": "stream",
     "text": [
      "3, 1, 0.0820, 0.0989, 38.3792, 76.4478\n"
     ]
    },
    {
     "name": "stdout",
     "output_type": "stream",
     "text": [
      "4, 1, 0.0542, 0.0992, 30.1481, 76.4478\n"
     ]
    },
    {
     "name": "stdout",
     "output_type": "stream",
     "text": [
      "5, 1, 0.0492, 0.1002, 28.0563, 76.4478\n"
     ]
    },
    {
     "name": "stdout",
     "output_type": "stream",
     "text": [
      "6, 1, 0.0491, 0.1003, 27.4868, 76.4478\n"
     ]
    },
    {
     "name": "stdout",
     "output_type": "stream",
     "text": [
      "7, 1, 0.0485, 0.0993, 27.8096, 76.4478\n"
     ]
    },
    {
     "name": "stdout",
     "output_type": "stream",
     "text": [
      "8, 1, 0.0482, 0.1004, 27.6542, 76.4478\n"
     ]
    },
    {
     "name": "stdout",
     "output_type": "stream",
     "text": [
      "9, 1, 0.0481, 0.0991, 26.8976, 76.4478\n"
     ]
    },
    {
     "name": "stdout",
     "output_type": "stream",
     "text": [
      "10, 1, 0.0481, 0.1000, 27.2104, 76.4478\n"
     ]
    },
    {
     "name": "stdout",
     "output_type": "stream",
     "text": [
      "w: 256, d: 5, I: 1, J: 1, x: 1.2, B: 256, t: 10\n"
     ]
    },
    {
     "name": "stdout",
     "output_type": "stream",
     "text": [
      "0, 0, 0.1935, 0.1001, 76.4478, 76.4478\n"
     ]
    },
    {
     "name": "stdout",
     "output_type": "stream",
     "text": [
      "1, 1, 0.3011, 0.0998, 80.1609, 76.4478\n"
     ]
    },
    {
     "name": "stdout",
     "output_type": "stream",
     "text": [
      "2, 1, 0.2525, 0.1003, 57.1195, 76.4478\n"
     ]
    },
    {
     "name": "stdout",
     "output_type": "stream",
     "text": [
      "3, 1, 0.0792, 0.0999, 30.1113, 76.4478\n"
     ]
    },
    {
     "name": "stdout",
     "output_type": "stream",
     "text": [
      "4, 1, 0.0509, 0.1010, 21.3792, 76.4478\n"
     ]
    },
    {
     "name": "stdout",
     "output_type": "stream",
     "text": [
      "5, 1, 0.0482, 0.0999, 20.6206, 76.4478\n"
     ]
    },
    {
     "name": "stdout",
     "output_type": "stream",
     "text": [
      "6, 1, 0.0482, 0.0985, 20.5434, 76.4478\n"
     ]
    },
    {
     "name": "stdout",
     "output_type": "stream",
     "text": [
      "7, 1, 0.0479, 0.0987, 20.6809, 76.4478\n"
     ]
    },
    {
     "name": "stdout",
     "output_type": "stream",
     "text": [
      "8, 1, 0.0478, 0.1000, 20.6956, 76.4478\n"
     ]
    },
    {
     "name": "stdout",
     "output_type": "stream",
     "text": [
      "9, 1, 0.0477, 0.1002, 20.0239, 76.4478\n"
     ]
    },
    {
     "name": "stdout",
     "output_type": "stream",
     "text": [
      "10, 1, 0.0476, 0.1002, 20.2173, 76.4478\n"
     ]
    },
    {
     "name": "stdout",
     "output_type": "stream",
     "text": [
      "w: 256, d: 5, I: 1, J: 1, x: 1.4, B: 256, t: 10\n"
     ]
    },
    {
     "name": "stdout",
     "output_type": "stream",
     "text": [
      "0, 0, 0.1935, 0.1001, 76.4478, 76.4478\n"
     ]
    },
    {
     "name": "stdout",
     "output_type": "stream",
     "text": [
      "1, 1, 0.4115, 0.1000, 88.0956, 76.4478\n"
     ]
    },
    {
     "name": "stdout",
     "output_type": "stream",
     "text": [
      "2, 1, 0.3320, 0.1003, 55.0563, 76.4478\n"
     ]
    },
    {
     "name": "stdout",
     "output_type": "stream",
     "text": [
      "3, 1, 0.0722, 0.0993, 21.6937, 76.4478\n"
     ]
    },
    {
     "name": "stdout",
     "output_type": "stream",
     "text": [
      "4, 1, 0.0489, 0.0996, 14.4502, 76.4478\n"
     ]
    },
    {
     "name": "stdout",
     "output_type": "stream",
     "text": [
      "5, 1, 0.0478, 0.0984, 14.0218, 76.4478\n"
     ]
    },
    {
     "name": "stdout",
     "output_type": "stream",
     "text": [
      "6, 1, 0.0477, 0.0984, 13.9952, 76.4478\n"
     ]
    },
    {
     "name": "stdout",
     "output_type": "stream",
     "text": [
      "7, 1, 0.0474, 0.1001, 13.9569, 76.4478\n"
     ]
    },
    {
     "name": "stdout",
     "output_type": "stream",
     "text": [
      "8, 1, 0.0473, 0.0989, 14.0542, 76.4478\n"
     ]
    },
    {
     "name": "stdout",
     "output_type": "stream",
     "text": [
      "9, 1, 0.0472, 0.0990, 13.5879, 76.4478\n"
     ]
    },
    {
     "name": "stdout",
     "output_type": "stream",
     "text": [
      "10, 1, 0.0472, 0.0988, 13.6236, 76.4478\n"
     ]
    },
    {
     "name": "stdout",
     "output_type": "stream",
     "text": [
      "w: 256, d: 5, I: 1, J: 1, x: 1.6, B: 256, t: 10\n"
     ]
    },
    {
     "name": "stdout",
     "output_type": "stream",
     "text": [
      "0, 0, 0.1935, 0.1001, 76.4478, 76.4478\n"
     ]
    },
    {
     "name": "stdout",
     "output_type": "stream",
     "text": [
      "1, 1, 0.5541, 0.1000, 97.3981, 76.4478\n"
     ]
    },
    {
     "name": "stdout",
     "output_type": "stream",
     "text": [
      "2, 1, 0.3791, 0.1003, 50.8438, 76.4478\n"
     ]
    },
    {
     "name": "stdout",
     "output_type": "stream",
     "text": [
      "3, 1, 0.0710, 0.0996, 15.4186, 76.4478\n"
     ]
    },
    {
     "name": "stdout",
     "output_type": "stream",
     "text": [
      "4, 1, 0.0513, 0.0996, 9.5664, 76.4478\n"
     ]
    },
    {
     "name": "stdout",
     "output_type": "stream",
     "text": [
      "5, 1, 0.0491, 0.0984, 9.0779, 76.4478\n"
     ]
    },
    {
     "name": "stdout",
     "output_type": "stream",
     "text": [
      "6, 1, 0.0482, 0.1006, 9.4000, 76.4478\n"
     ]
    },
    {
     "name": "stdout",
     "output_type": "stream",
     "text": [
      "7, 1, 0.0475, 0.0984, 8.9491, 76.4478\n"
     ]
    },
    {
     "name": "stdout",
     "output_type": "stream",
     "text": [
      "8, 1, 0.0472, 0.0979, 9.2653, 76.4478\n"
     ]
    },
    {
     "name": "stdout",
     "output_type": "stream",
     "text": [
      "9, 1, 0.0470, 0.0987, 8.6612, 76.4478\n"
     ]
    },
    {
     "name": "stdout",
     "output_type": "stream",
     "text": [
      "10, 1, 0.0468, 0.0977, 8.6643, 76.4478\n"
     ]
    },
    {
     "name": "stdout",
     "output_type": "stream",
     "text": [
      "w: 256, d: 5, I: 1, J: 1, x: 1.8, B: 256, t: 10\n"
     ]
    },
    {
     "name": "stdout",
     "output_type": "stream",
     "text": [
      "0, 0, 0.1935, 0.1001, 76.4478, 76.4478\n"
     ]
    },
    {
     "name": "stdout",
     "output_type": "stream",
     "text": [
      "1, 1, 0.7343, 0.1000, 108.3145, 76.4478\n"
     ]
    },
    {
     "name": "stdout",
     "output_type": "stream",
     "text": [
      "2, 1, 0.3752, 0.1003, 45.0662, 76.4478\n"
     ]
    },
    {
     "name": "stdout",
     "output_type": "stream",
     "text": [
      "3, 1, 0.0707, 0.0999, 10.6123, 76.4478\n"
     ]
    },
    {
     "name": "stdout",
     "output_type": "stream",
     "text": [
      "4, 1, 0.0562, 0.0994, 6.8989, 76.4478\n"
     ]
    },
    {
     "name": "stdout",
     "output_type": "stream",
     "text": [
      "5, 1, 0.0525, 0.0986, 6.0637, 76.4478\n"
     ]
    },
    {
     "name": "stdout",
     "output_type": "stream",
     "text": [
      "6, 1, 0.0505, 0.0992, 6.8344, 76.4478\n"
     ]
    },
    {
     "name": "stdout",
     "output_type": "stream",
     "text": [
      "7, 1, 0.0491, 0.0979, 6.5704, 76.4478\n"
     ]
    },
    {
     "name": "stdout",
     "output_type": "stream",
     "text": [
      "8, 1, 0.0483, 0.0973, 6.9020, 76.4478\n"
     ]
    },
    {
     "name": "stdout",
     "output_type": "stream",
     "text": [
      "9, 1, 0.0477, 0.0976, 6.4395, 76.4478\n"
     ]
    },
    {
     "name": "stdout",
     "output_type": "stream",
     "text": [
      "10, 1, 0.0473, 0.0978, 6.4628, 76.4478\n"
     ]
    },
    {
     "name": "stdout",
     "output_type": "stream",
     "text": [
      "w: 256, d: 5, I: 1, J: 1, x: 2.0, B: 256, t: 10\n"
     ]
    },
    {
     "name": "stdout",
     "output_type": "stream",
     "text": [
      "0, 0, 0.1935, 0.1001, 76.4478, 76.4478\n"
     ]
    },
    {
     "name": "stdout",
     "output_type": "stream",
     "text": [
      "1, 1, 0.9588, 0.1000, 121.1910, 76.4478\n"
     ]
    },
    {
     "name": "stdout",
     "output_type": "stream",
     "text": [
      "2, 1, 0.3334, 0.1003, 38.4549, 76.4478\n"
     ]
    },
    {
     "name": "stdout",
     "output_type": "stream",
     "text": [
      "3, 1, 0.0678, 0.0994, 7.1674, 76.4478\n"
     ]
    },
    {
     "name": "stdout",
     "output_type": "stream",
     "text": [
      "4, 1, 0.0582, 0.0993, 5.1609, 76.4478\n"
     ]
    },
    {
     "name": "stdout",
     "output_type": "stream",
     "text": [
      "5, 1, 0.0544, 0.0979, 4.5929, 76.4478\n"
     ]
    },
    {
     "name": "stdout",
     "output_type": "stream",
     "text": [
      "6, 1, 0.0520, 0.0983, 4.8732, 76.4478\n"
     ]
    },
    {
     "name": "stdout",
     "output_type": "stream",
     "text": [
      "7, 1, 0.0504, 0.0980, 4.6583, 76.4478\n"
     ]
    },
    {
     "name": "stdout",
     "output_type": "stream",
     "text": [
      "8, 1, 0.0492, 0.0977, 4.8988, 76.4478\n"
     ]
    },
    {
     "name": "stdout",
     "output_type": "stream",
     "text": [
      "9, 1, 0.0484, 0.0984, 4.5532, 76.4478\n"
     ]
    },
    {
     "name": "stdout",
     "output_type": "stream",
     "text": [
      "10, 1, 0.0478, 0.0981, 4.5484, 76.4478\n"
     ]
    },
    {
     "name": "stdout",
     "output_type": "stream",
     "text": [
      "w: 256, d: 5, I: 1, J: 1, x: 2.2, B: 256, t: 10\n"
     ]
    },
    {
     "name": "stdout",
     "output_type": "stream",
     "text": [
      "0, 0, 0.1935, 0.1001, 76.4478, 76.4478\n"
     ]
    },
    {
     "name": "stdout",
     "output_type": "stream",
     "text": [
      "1, 1, 1.2369, 0.1000, 136.6456, 76.4478\n"
     ]
    },
    {
     "name": "stdout",
     "output_type": "stream",
     "text": [
      "2, 1, 0.2852, 0.1003, 33.0470, 76.4478\n"
     ]
    },
    {
     "name": "stdout",
     "output_type": "stream",
     "text": [
      "3, 1, 0.0637, 0.0997, 5.0479, 76.4478\n"
     ]
    },
    {
     "name": "stdout",
     "output_type": "stream",
     "text": [
      "4, 1, 0.0573, 0.0985, 3.8645, 76.4478\n"
     ]
    },
    {
     "name": "stdout",
     "output_type": "stream",
     "text": [
      "5, 1, 0.0541, 0.0998, 3.7387, 76.4478\n"
     ]
    },
    {
     "name": "stdout",
     "output_type": "stream",
     "text": [
      "6, 1, 0.0519, 0.0996, 3.8177, 76.4478\n"
     ]
    },
    {
     "name": "stdout",
     "output_type": "stream",
     "text": [
      "7, 1, 0.0503, 0.0996, 3.6303, 76.4478\n"
     ]
    },
    {
     "name": "stdout",
     "output_type": "stream",
     "text": [
      "8, 1, 0.0492, 0.0991, 3.8182, 76.4478\n"
     ]
    },
    {
     "name": "stdout",
     "output_type": "stream",
     "text": [
      "9, 1, 0.0484, 0.0991, 3.5400, 76.4478\n"
     ]
    },
    {
     "name": "stdout",
     "output_type": "stream",
     "text": [
      "10, 1, 0.0477, 0.0981, 3.5252, 76.4478\n"
     ]
    },
    {
     "name": "stdout",
     "output_type": "stream",
     "text": [
      "w: 256, d: 5, I: 1, J: 1, x: 2.4, B: 256, t: 10\n"
     ]
    },
    {
     "name": "stdout",
     "output_type": "stream",
     "text": [
      "0, 0, 0.1935, 0.1001, 76.4478, 76.4478\n"
     ]
    },
    {
     "name": "stdout",
     "output_type": "stream",
     "text": [
      "1, 1, 1.5823, 0.1000, 155.4508, 76.4478\n"
     ]
    },
    {
     "name": "stdout",
     "output_type": "stream",
     "text": [
      "2, 1, 0.2612, 0.1003, 31.1862, 76.4478\n"
     ]
    },
    {
     "name": "stdout",
     "output_type": "stream",
     "text": [
      "3, 1, 0.0589, 0.0996, 3.8882, 76.4478\n"
     ]
    },
    {
     "name": "stdout",
     "output_type": "stream",
     "text": [
      "4, 1, 0.0547, 0.0993, 3.1779, 76.4478\n"
     ]
    },
    {
     "name": "stdout",
     "output_type": "stream",
     "text": [
      "5, 1, 0.0523, 0.0987, 3.1203, 76.4478\n"
     ]
    },
    {
     "name": "stdout",
     "output_type": "stream",
     "text": [
      "6, 1, 0.0506, 0.0994, 3.1621, 76.4478\n"
     ]
    },
    {
     "name": "stdout",
     "output_type": "stream",
     "text": [
      "7, 1, 0.0494, 0.0999, 3.0097, 76.4478\n"
     ]
    },
    {
     "name": "stdout",
     "output_type": "stream",
     "text": [
      "8, 1, 0.0485, 0.0995, 3.1481, 76.4478\n"
     ]
    },
    {
     "name": "stdout",
     "output_type": "stream",
     "text": [
      "9, 1, 0.0478, 0.0991, 2.9531, 76.4478\n"
     ]
    },
    {
     "name": "stdout",
     "output_type": "stream",
     "text": [
      "10, 1, 0.0472, 0.0992, 2.9151, 76.4478\n"
     ]
    },
    {
     "name": "stdout",
     "output_type": "stream",
     "text": [
      "w: 256, d: 5, I: 1, J: 1, x: 2.6, B: 256, t: 10\n"
     ]
    },
    {
     "name": "stdout",
     "output_type": "stream",
     "text": [
      "0, 0, 0.1935, 0.1001, 76.4478, 76.4478\n"
     ]
    },
    {
     "name": "stdout",
     "output_type": "stream",
     "text": [
      "1, 1, 2.0161, 0.1000, 178.5667, 76.4478\n"
     ]
    },
    {
     "name": "stdout",
     "output_type": "stream",
     "text": [
      "2, 1, 0.2722, 0.1003, 33.2986, 76.4478\n"
     ]
    },
    {
     "name": "stdout",
     "output_type": "stream",
     "text": [
      "3, 1, 0.0548, 0.1005, 3.6525, 76.4478\n"
     ]
    },
    {
     "name": "stdout",
     "output_type": "stream",
     "text": [
      "4, 1, 0.0516, 0.0989, 2.5119, 76.4478\n"
     ]
    },
    {
     "name": "stdout",
     "output_type": "stream",
     "text": [
      "5, 1, 0.0500, 0.0996, 2.4566, 76.4478\n"
     ]
    },
    {
     "name": "stdout",
     "output_type": "stream",
     "text": [
      "6, 1, 0.0489, 0.0997, 2.5846, 76.4478\n"
     ]
    },
    {
     "name": "stdout",
     "output_type": "stream",
     "text": [
      "7, 1, 0.0481, 0.0997, 2.4851, 76.4478\n"
     ]
    },
    {
     "name": "stdout",
     "output_type": "stream",
     "text": [
      "8, 1, 0.0474, 0.1000, 2.6028, 76.4478\n"
     ]
    },
    {
     "name": "stdout",
     "output_type": "stream",
     "text": [
      "9, 1, 0.0470, 0.0997, 2.4995, 76.4478\n"
     ]
    },
    {
     "name": "stdout",
     "output_type": "stream",
     "text": [
      "10, 1, 0.0466, 0.0988, 2.4400, 76.4478\n"
     ]
    },
    {
     "name": "stdout",
     "output_type": "stream",
     "text": [
      "w: 256, d: 5, I: 1, J: 1, x: 2.8, B: 256, t: 10\n"
     ]
    },
    {
     "name": "stdout",
     "output_type": "stream",
     "text": [
      "0, 0, 0.1935, 0.1001, 76.4478, 76.4478\n"
     ]
    },
    {
     "name": "stdout",
     "output_type": "stream",
     "text": [
      "1, 1, 2.5697, 0.1000, 207.3516, 76.4478\n"
     ]
    },
    {
     "name": "stdout",
     "output_type": "stream",
     "text": [
      "2, 1, 0.3111, 0.1003, 38.1644, 76.4478\n"
     ]
    },
    {
     "name": "stdout",
     "output_type": "stream",
     "text": [
      "3, 1, 0.0543, 0.0999, 4.4245, 76.4478\n"
     ]
    },
    {
     "name": "stdout",
     "output_type": "stream",
     "text": [
      "4, 1, 0.0499, 0.0995, 3.0723, 76.4478\n"
     ]
    },
    {
     "name": "stdout",
     "output_type": "stream",
     "text": [
      "5, 1, 0.0484, 0.0998, 2.6807, 76.4478\n"
     ]
    },
    {
     "name": "stdout",
     "output_type": "stream",
     "text": [
      "6, 1, 0.0475, 0.1005, 2.3597, 76.4478\n"
     ]
    },
    {
     "name": "stdout",
     "output_type": "stream",
     "text": [
      "7, 1, 0.0469, 0.1012, 2.2929, 76.4478\n"
     ]
    },
    {
     "name": "stdout",
     "output_type": "stream",
     "text": [
      "8, 1, 0.0465, 0.1000, 2.3072, 76.4478\n"
     ]
    },
    {
     "name": "stdout",
     "output_type": "stream",
     "text": [
      "9, 1, 0.0462, 0.0999, 2.2300, 76.4478\n"
     ]
    },
    {
     "name": "stdout",
     "output_type": "stream",
     "text": [
      "10, 1, 0.0460, 0.0985, 2.2903, 76.4478\n"
     ]
    },
    {
     "name": "stdout",
     "output_type": "stream",
     "text": [
      "w: 256, d: 5, I: 1, J: 1, x: 3.0, B: 256, t: 10\n"
     ]
    },
    {
     "name": "stdout",
     "output_type": "stream",
     "text": [
      "0, 0, 0.1935, 0.1001, 76.4478, 76.4478\n"
     ]
    },
    {
     "name": "stdout",
     "output_type": "stream",
     "text": [
      "1, 1, 3.2909, 0.1000, 243.8453, 76.4478\n"
     ]
    },
    {
     "name": "stdout",
     "output_type": "stream",
     "text": [
      "2, 1, 0.3845, 0.1003, 46.4055, 76.4478\n"
     ]
    },
    {
     "name": "stdout",
     "output_type": "stream",
     "text": [
      "3, 1, 0.0579, 0.0997, 6.0932, 76.4478\n"
     ]
    },
    {
     "name": "stdout",
     "output_type": "stream",
     "text": [
      "4, 1, 0.0490, 0.0995, 3.2258, 76.4478\n"
     ]
    },
    {
     "name": "stdout",
     "output_type": "stream",
     "text": [
      "5, 1, 0.0474, 0.0999, 2.7748, 76.4478\n"
     ]
    },
    {
     "name": "stdout",
     "output_type": "stream",
     "text": [
      "6, 1, 0.0467, 0.1008, 2.6005, 76.4478\n"
     ]
    },
    {
     "name": "stdout",
     "output_type": "stream",
     "text": [
      "7, 1, 0.0462, 0.1005, 2.5680, 76.4478\n"
     ]
    },
    {
     "name": "stdout",
     "output_type": "stream",
     "text": [
      "8, 1, 0.0459, 0.0996, 2.5264, 76.4478\n"
     ]
    },
    {
     "name": "stdout",
     "output_type": "stream",
     "text": [
      "9, 1, 0.0458, 0.0995, 2.5033, 76.4478\n"
     ]
    },
    {
     "name": "stdout",
     "output_type": "stream",
     "text": [
      "10, 1, 0.0456, 0.0987, 2.5597, 76.4478\n"
     ]
    },
    {
     "name": "stdout",
     "output_type": "stream",
     "text": [
      "w: 256, d: 5, I: 1, J: 1, x: 3.2, B: 256, t: 10\n"
     ]
    },
    {
     "name": "stdout",
     "output_type": "stream",
     "text": [
      "0, 0, 0.1935, 0.1001, 76.4478, 76.4478\n"
     ]
    },
    {
     "name": "stdout",
     "output_type": "stream",
     "text": [
      "1, 1, 4.2521, 0.1000, 290.7492, 76.4478\n"
     ]
    },
    {
     "name": "stdout",
     "output_type": "stream",
     "text": [
      "2, 1, 0.5327, 0.1003, 63.2568, 76.4478\n"
     ]
    },
    {
     "name": "stdout",
     "output_type": "stream",
     "text": [
      "3, 1, 0.0666, 0.0999, 9.3851, 76.4478\n"
     ]
    },
    {
     "name": "stdout",
     "output_type": "stream",
     "text": [
      "4, 1, 0.0473, 0.0996, 3.1808, 76.4478\n"
     ]
    },
    {
     "name": "stdout",
     "output_type": "stream",
     "text": [
      "5, 1, 0.0464, 0.0990, 3.1388, 76.4478\n"
     ]
    },
    {
     "name": "stdout",
     "output_type": "stream",
     "text": [
      "6, 1, 0.0460, 0.0987, 3.2982, 76.4478\n"
     ]
    },
    {
     "name": "stdout",
     "output_type": "stream",
     "text": [
      "7, 1, 0.0456, 0.0993, 3.2318, 76.4478\n"
     ]
    },
    {
     "name": "stdout",
     "output_type": "stream",
     "text": [
      "8, 1, 0.0455, 0.0984, 3.1814, 76.4478\n"
     ]
    },
    {
     "name": "stdout",
     "output_type": "stream",
     "text": [
      "9, 1, 0.0454, 0.0978, 3.1722, 76.4478\n"
     ]
    },
    {
     "name": "stdout",
     "output_type": "stream",
     "text": [
      "10, 1, 0.0454, 0.0984, 3.2430, 76.4478\n"
     ]
    },
    {
     "name": "stdout",
     "output_type": "stream",
     "text": [
      "w: 256, d: 5, I: 1, J: 1, x: 3.4, B: 256, t: 10\n"
     ]
    },
    {
     "name": "stdout",
     "output_type": "stream",
     "text": [
      "0, 0, 0.1935, 0.1001, 76.4478, 76.4478\n"
     ]
    },
    {
     "name": "stdout",
     "output_type": "stream",
     "text": [
      "1, 1, 5.5644, 0.1000, 352.3992, 76.4478\n"
     ]
    },
    {
     "name": "stdout",
     "output_type": "stream",
     "text": [
      "2, 1, 0.8979, 0.1003, 105.2825, 76.4478\n"
     ]
    },
    {
     "name": "stdout",
     "output_type": "stream",
     "text": [
      "3, 1, 0.1017, 0.0994, 21.6530, 76.4478\n"
     ]
    },
    {
     "name": "stdout",
     "output_type": "stream",
     "text": [
      "4, 1, 0.0567, 0.1004, 6.0110, 76.4478\n"
     ]
    },
    {
     "name": "stdout",
     "output_type": "stream",
     "text": [
      "5, 1, 0.0473, 0.0995, 4.2074, 76.4478\n"
     ]
    },
    {
     "name": "stdout",
     "output_type": "stream",
     "text": [
      "6, 1, 0.0460, 0.0987, 4.2941, 76.4478\n"
     ]
    },
    {
     "name": "stdout",
     "output_type": "stream",
     "text": [
      "7, 1, 0.0455, 0.1000, 4.1907, 76.4478\n"
     ]
    },
    {
     "name": "stdout",
     "output_type": "stream",
     "text": [
      "8, 1, 0.0454, 0.0989, 4.2355, 76.4478\n"
     ]
    },
    {
     "name": "stdout",
     "output_type": "stream",
     "text": [
      "9, 1, 0.0453, 0.1004, 4.4049, 76.4478\n"
     ]
    },
    {
     "name": "stdout",
     "output_type": "stream",
     "text": [
      "10, 1, 0.0453, 0.0990, 4.2882, 76.4478\n"
     ]
    },
    {
     "name": "stdout",
     "output_type": "stream",
     "text": [
      "w: 256, d: 5, I: 1, J: 1, x: 3.6, B: 256, t: 10\n"
     ]
    },
    {
     "name": "stdout",
     "output_type": "stream",
     "text": [
      "0, 0, 0.1935, 0.1001, 76.4478, 76.4478\n"
     ]
    },
    {
     "name": "stdout",
     "output_type": "stream",
     "text": [
      "1, 1, 7.4009, 0.1000, 434.5548, 76.4478\n"
     ]
    },
    {
     "name": "stdout",
     "output_type": "stream",
     "text": [
      "2, 1, 1.8802, 0.1003, 225.2247, 76.4478\n"
     ]
    },
    {
     "name": "stdout",
     "output_type": "stream",
     "text": [
      "3, 1, 0.2917, 0.0996, 121.6122, 76.4478\n"
     ]
    },
    {
     "name": "stdout",
     "output_type": "stream",
     "text": [
      "4, 1, 0.4982, 0.0999, 72.7023, 76.4478\n"
     ]
    },
    {
     "name": "stdout",
     "output_type": "stream",
     "text": [
      "5, 1, 0.3844, 0.0998, 53.6584, 76.4478\n"
     ]
    },
    {
     "name": "stdout",
     "output_type": "stream",
     "text": [
      "6, 1, 0.0507, 0.1005, 0.4279, 76.4478\n"
     ]
    },
    {
     "name": "stdout",
     "output_type": "stream",
     "text": [
      "7, 1, 0.0506, 0.1003, 0.4027, 76.4478\n"
     ]
    },
    {
     "name": "stdout",
     "output_type": "stream",
     "text": [
      "8, 1, 0.0505, 0.0999, 0.3733, 76.4478\n"
     ]
    },
    {
     "name": "stdout",
     "output_type": "stream",
     "text": [
      "9, 1, 0.0504, 0.1005, 0.3732, 76.4478\n"
     ]
    },
    {
     "name": "stdout",
     "output_type": "stream",
     "text": [
      "10, 1, 0.0502, 0.0999, 0.3459, 76.4478\n"
     ]
    },
    {
     "name": "stdout",
     "output_type": "stream",
     "text": [
      "w: 256, d: 5, I: 1, J: 1, x: 3.8, B: 256, t: 10\n"
     ]
    },
    {
     "name": "stdout",
     "output_type": "stream",
     "text": [
      "0, 0, 0.1935, 0.1001, 76.4478, 76.4478\n"
     ]
    },
    {
     "name": "stdout",
     "output_type": "stream",
     "text": [
      "1, 1, 10.0379, 0.1000, 546.1586, 76.4478\n"
     ]
    },
    {
     "name": "stdout",
     "output_type": "stream",
     "text": [
      "2, 1, 4.3946, 0.1003, 558.0046, 76.4478\n"
     ]
    },
    {
     "name": "stdout",
     "output_type": "stream",
     "text": [
      "3, 1, 2.4017, 0.0999, 3454.1045, 76.4478\n"
     ]
    },
    {
     "name": "stdout",
     "output_type": "stream",
     "text": [
      "4, 1, 6268.7197, 0.0998, 209012.6875, 76.4478\n"
     ]
    },
    {
     "name": "stdout",
     "output_type": "stream",
     "text": [
      "5, 1, 275965736260730880.0000, 0.1000, 1085287177127985152.0000, 76.4478\n",
      "Divergence\n"
     ]
    },
    {
     "name": "stdout",
     "output_type": "stream",
     "text": [
      "w: 512, d: 5, I: 1, J: 1, x: 0.0, B: 256, t: 10\n"
     ]
    },
    {
     "name": "stderr",
     "output_type": "stream",
     "text": [
      "2024-11-05 04:01:23.883667: W external/xla/xla/tsl/framework/bfc_allocator.cc:306] Allocator (GPU_0_bfc) ran out of memory trying to allocate 16.52GiB with freed_by_count=0. The caller indicates that this is not a failure, but this may mean that there could be performance gains if more memory were available.\n"
     ]
    },
    {
     "name": "stderr",
     "output_type": "stream",
     "text": [
      "2024-11-05 04:01:35.719414: W external/xla/xla/tsl/framework/bfc_allocator.cc:306] Allocator (GPU_0_bfc) ran out of memory trying to allocate 16.52GiB with freed_by_count=0. The caller indicates that this is not a failure, but this may mean that there could be performance gains if more memory were available.\n"
     ]
    },
    {
     "name": "stderr",
     "output_type": "stream",
     "text": [
      "2024-11-05 04:01:51.585376: W external/xla/xla/tsl/framework/bfc_allocator.cc:306] Allocator (GPU_0_bfc) ran out of memory trying to allocate 17.52GiB with freed_by_count=0. The caller indicates that this is not a failure, but this may mean that there could be performance gains if more memory were available.\n"
     ]
    },
    {
     "name": "stderr",
     "output_type": "stream",
     "text": [
      "2024-11-05 04:01:53.207694: E external/xla/xla/service/slow_operation_alarm.cc:65] Trying algorithm eng48{k0=1,k2=7,k5=3,k14=2} for conv (f32[512,512,3,3]{3,2,1,0}, u8[0]{0}) custom-call(f32[512,512,32,32]{3,2,1,0}, f32[512,512,32,32]{3,2,1,0}), window={size=3x3 pad=1_1x1_1}, dim_labels=bf01_oi01->bf01, custom_call_target=\"__cudnn$convBackwardFilter\", backend_config={\"cudnn_conv_backend_config\":{\"activation_mode\":\"kNone\",\"conv_result_scale\":1,\"leakyrelu_alpha\":0,\"side_input_scale\":0},\"force_earliest_schedule\":false,\"operation_queue_id\":\"0\",\"wait_on_operation_queues\":[]} is taking a while...\n"
     ]
    },
    {
     "name": "stderr",
     "output_type": "stream",
     "text": [
      "2024-11-05 04:01:53.640729: E external/xla/xla/service/slow_operation_alarm.cc:133] The operation took 1.433186587s\n",
      "Trying algorithm eng48{k0=1,k2=7,k5=3,k14=2} for conv (f32[512,512,3,3]{3,2,1,0}, u8[0]{0}) custom-call(f32[512,512,32,32]{3,2,1,0}, f32[512,512,32,32]{3,2,1,0}), window={size=3x3 pad=1_1x1_1}, dim_labels=bf01_oi01->bf01, custom_call_target=\"__cudnn$convBackwardFilter\", backend_config={\"cudnn_conv_backend_config\":{\"activation_mode\":\"kNone\",\"conv_result_scale\":1,\"leakyrelu_alpha\":0,\"side_input_scale\":0},\"force_earliest_schedule\":false,\"operation_queue_id\":\"0\",\"wait_on_operation_queues\":[]} is taking a while...\n"
     ]
    },
    {
     "name": "stderr",
     "output_type": "stream",
     "text": [
      "2024-11-05 04:01:59.838796: E external/xla/xla/service/slow_operation_alarm.cc:65] Trying algorithm eng20{k2=6,k3=0} for conv (f32[512,512,3,3]{3,2,1,0}, u8[0]{0}) custom-call(f32[512,512,32,32]{3,2,1,0}, f32[512,512,32,32]{3,2,1,0}), window={size=3x3 pad=1_1x1_1}, dim_labels=bf01_oi01->bf01, custom_call_target=\"__cudnn$convBackwardFilter\", backend_config={\"cudnn_conv_backend_config\":{\"activation_mode\":\"kNone\",\"conv_result_scale\":1,\"leakyrelu_alpha\":0,\"side_input_scale\":0},\"force_earliest_schedule\":false,\"operation_queue_id\":\"0\",\"wait_on_operation_queues\":[]} is taking a while...\n",
      "2024-11-05 04:01:59.888483: E external/xla/xla/service/slow_operation_alarm.cc:133] The operation took 1.049825778s\n",
      "Trying algorithm eng20{k2=6,k3=0} for conv (f32[512,512,3,3]{3,2,1,0}, u8[0]{0}) custom-call(f32[512,512,32,32]{3,2,1,0}, f32[512,512,32,32]{3,2,1,0}), window={size=3x3 pad=1_1x1_1}, dim_labels=bf01_oi01->bf01, custom_call_target=\"__cudnn$convBackwardFilter\", backend_config={\"cudnn_conv_backend_config\":{\"activation_mode\":\"kNone\",\"conv_result_scale\":1,\"leakyrelu_alpha\":0,\"side_input_scale\":0},\"force_earliest_schedule\":false,\"operation_queue_id\":\"0\",\"wait_on_operation_queues\":[]} is taking a while...\n"
     ]
    },
    {
     "name": "stderr",
     "output_type": "stream",
     "text": [
      "2024-11-05 04:02:00.888685: E external/xla/xla/service/slow_operation_alarm.cc:65] Trying algorithm eng1{k2=6,k3=0} for conv (f32[512,512,3,3]{3,2,1,0}, u8[0]{0}) custom-call(f32[512,512,32,32]{3,2,1,0}, f32[512,512,32,32]{3,2,1,0}), window={size=3x3 pad=1_1x1_1}, dim_labels=bf01_oi01->bf01, custom_call_target=\"__cudnn$convBackwardFilter\", backend_config={\"cudnn_conv_backend_config\":{\"activation_mode\":\"kNone\",\"conv_result_scale\":1,\"leakyrelu_alpha\":0,\"side_input_scale\":0},\"force_earliest_schedule\":false,\"operation_queue_id\":\"0\",\"wait_on_operation_queues\":[]} is taking a while...\n",
      "2024-11-05 04:02:00.943938: E external/xla/xla/service/slow_operation_alarm.cc:133] The operation took 1.055393707s\n",
      "Trying algorithm eng1{k2=6,k3=0} for conv (f32[512,512,3,3]{3,2,1,0}, u8[0]{0}) custom-call(f32[512,512,32,32]{3,2,1,0}, f32[512,512,32,32]{3,2,1,0}), window={size=3x3 pad=1_1x1_1}, dim_labels=bf01_oi01->bf01, custom_call_target=\"__cudnn$convBackwardFilter\", backend_config={\"cudnn_conv_backend_config\":{\"activation_mode\":\"kNone\",\"conv_result_scale\":1,\"leakyrelu_alpha\":0,\"side_input_scale\":0},\"force_earliest_schedule\":false,\"operation_queue_id\":\"0\",\"wait_on_operation_queues\":[]} is taking a while...\n"
     ]
    },
    {
     "name": "stderr",
     "output_type": "stream",
     "text": [
      "2024-11-05 04:02:33.616486: W external/xla/xla/tsl/framework/bfc_allocator.cc:306] Allocator (GPU_0_bfc) ran out of memory trying to allocate 13.69GiB with freed_by_count=0. The caller indicates that this is not a failure, but this may mean that there could be performance gains if more memory were available.\n"
     ]
    },
    {
     "name": "stdout",
     "output_type": "stream",
     "text": [
      "0, 0, 0.2170, 0.1007, 122.3643, 122.3643\n"
     ]
    },
    {
     "name": "stderr",
     "output_type": "stream",
     "text": [
      "2024-11-05 04:02:46.205758: E external/xla/xla/service/slow_operation_alarm.cc:65] Trying algorithm eng3{k11=2} for conv (f32[256,512,32,32]{3,2,1,0}, u8[0]{0}) custom-call(f32[256,512,32,32]{3,2,1,0}, f32[512,512,3,3]{3,2,1,0}), window={size=3x3 pad=1_1x1_1}, dim_labels=bf01_oi01->bf01, custom_call_target=\"__cudnn$convForward\", backend_config={\"cudnn_conv_backend_config\":{\"activation_mode\":\"kNone\",\"conv_result_scale\":1,\"leakyrelu_alpha\":0,\"side_input_scale\":0},\"force_earliest_schedule\":false,\"operation_queue_id\":\"0\",\"wait_on_operation_queues\":[]} is taking a while...\n",
      "2024-11-05 04:02:46.387479: E external/xla/xla/service/slow_operation_alarm.cc:133] The operation took 1.181880812s\n",
      "Trying algorithm eng3{k11=2} for conv (f32[256,512,32,32]{3,2,1,0}, u8[0]{0}) custom-call(f32[256,512,32,32]{3,2,1,0}, f32[512,512,3,3]{3,2,1,0}), window={size=3x3 pad=1_1x1_1}, dim_labels=bf01_oi01->bf01, custom_call_target=\"__cudnn$convForward\", backend_config={\"cudnn_conv_backend_config\":{\"activation_mode\":\"kNone\",\"conv_result_scale\":1,\"leakyrelu_alpha\":0,\"side_input_scale\":0},\"force_earliest_schedule\":false,\"operation_queue_id\":\"0\",\"wait_on_operation_queues\":[]} is taking a while...\n"
     ]
    },
    {
     "name": "stderr",
     "output_type": "stream",
     "text": [
      "2024-11-05 04:03:17.808483: E external/xla/xla/service/slow_operation_alarm.cc:65] Trying algorithm eng12{k11=2} for conv (f32[256,512,32,32]{3,2,1,0}, u8[0]{0}) custom-call(f32[256,512,32,32]{3,2,1,0}, f32[512,512,3,3]{3,2,1,0}, f32[512]{0}, f32[256,512,32,32]{3,2,1,0}), window={size=3x3 pad=1_1x1_1}, dim_labels=bf01_oi01->bf01, custom_call_target=\"__cudnn$convBiasActivationForward\", backend_config={\"cudnn_conv_backend_config\":{\"activation_mode\":\"kNone\",\"conv_result_scale\":1,\"leakyrelu_alpha\":0,\"side_input_scale\":1},\"force_earliest_schedule\":false,\"operation_queue_id\":\"0\",\"wait_on_operation_queues\":[]} is taking a while...\n",
      "2024-11-05 04:03:17.997757: E external/xla/xla/service/slow_operation_alarm.cc:133] The operation took 1.189426044s\n",
      "Trying algorithm eng12{k11=2} for conv (f32[256,512,32,32]{3,2,1,0}, u8[0]{0}) custom-call(f32[256,512,32,32]{3,2,1,0}, f32[512,512,3,3]{3,2,1,0}, f32[512]{0}, f32[256,512,32,32]{3,2,1,0}), window={size=3x3 pad=1_1x1_1}, dim_labels=bf01_oi01->bf01, custom_call_target=\"__cudnn$convBiasActivationForward\", backend_config={\"cudnn_conv_backend_config\":{\"activation_mode\":\"kNone\",\"conv_result_scale\":1,\"leakyrelu_alpha\":0,\"side_input_scale\":1},\"force_earliest_schedule\":false,\"operation_queue_id\":\"0\",\"wait_on_operation_queues\":[]} is taking a while...\n"
     ]
    },
    {
     "name": "stdout",
     "output_type": "stream",
     "text": [
      "1, 1, 0.0608, 0.0994, 102.9552, 122.3643\n"
     ]
    },
    {
     "name": "stdout",
     "output_type": "stream",
     "text": [
      "2, 1, 0.0533, 0.1009, 106.3739, 122.3643\n"
     ]
    },
    {
     "name": "stdout",
     "output_type": "stream",
     "text": [
      "3, 1, 0.0526, 0.1007, 105.1972, 122.3643\n"
     ]
    },
    {
     "name": "stdout",
     "output_type": "stream",
     "text": [
      "4, 1, 0.0522, 0.0993, 103.0038, 122.3643\n"
     ]
    },
    {
     "name": "stdout",
     "output_type": "stream",
     "text": [
      "5, 1, 0.0520, 0.1009, 102.5380, 122.3643\n"
     ]
    },
    {
     "name": "stdout",
     "output_type": "stream",
     "text": [
      "6, 1, 0.0517, 0.1004, 103.0095, 122.3643\n"
     ]
    },
    {
     "name": "stdout",
     "output_type": "stream",
     "text": [
      "7, 1, 0.0514, 0.1001, 101.6737, 122.3643\n"
     ]
    },
    {
     "name": "stdout",
     "output_type": "stream",
     "text": [
      "8, 1, 0.0511, 0.1007, 104.6157, 122.3643\n"
     ]
    },
    {
     "name": "stdout",
     "output_type": "stream",
     "text": [
      "9, 1, 0.0510, 0.1002, 103.2833, 122.3643\n"
     ]
    },
    {
     "name": "stdout",
     "output_type": "stream",
     "text": [
      "10, 1, 0.0506, 0.0974, 102.1154, 122.3643\n"
     ]
    },
    {
     "name": "stdout",
     "output_type": "stream",
     "text": [
      "w: 512, d: 5, I: 1, J: 1, x: 0.2, B: 256, t: 10\n"
     ]
    },
    {
     "name": "stdout",
     "output_type": "stream",
     "text": [
      "0, 0, 0.2170, 0.1007, 122.3643, 122.3643\n"
     ]
    },
    {
     "name": "stdout",
     "output_type": "stream",
     "text": [
      "1, 1, 0.0714, 0.1002, 103.0970, 122.3643\n"
     ]
    },
    {
     "name": "stdout",
     "output_type": "stream",
     "text": [
      "2, 1, 0.0548, 0.1000, 105.4925, 122.3643\n"
     ]
    },
    {
     "name": "stdout",
     "output_type": "stream",
     "text": [
      "3, 1, 0.0528, 0.0993, 102.4802, 122.3643\n"
     ]
    },
    {
     "name": "stdout",
     "output_type": "stream",
     "text": [
      "4, 1, 0.0520, 0.0995, 102.1024, 122.3643\n"
     ]
    },
    {
     "name": "stdout",
     "output_type": "stream",
     "text": [
      "5, 1, 0.0517, 0.1007, 100.6835, 122.3643\n"
     ]
    },
    {
     "name": "stdout",
     "output_type": "stream",
     "text": [
      "6, 1, 0.0515, 0.1000, 101.4097, 122.3643\n"
     ]
    },
    {
     "name": "stdout",
     "output_type": "stream",
     "text": [
      "7, 1, 0.0512, 0.0995, 99.9451, 122.3643\n"
     ]
    },
    {
     "name": "stdout",
     "output_type": "stream",
     "text": [
      "8, 1, 0.0509, 0.1009, 103.1125, 122.3643\n"
     ]
    },
    {
     "name": "stdout",
     "output_type": "stream",
     "text": [
      "9, 1, 0.0507, 0.1002, 101.5246, 122.3643\n"
     ]
    },
    {
     "name": "stdout",
     "output_type": "stream",
     "text": [
      "10, 1, 0.0504, 0.0979, 100.4686, 122.3643\n"
     ]
    },
    {
     "name": "stdout",
     "output_type": "stream",
     "text": [
      "w: 512, d: 5, I: 1, J: 1, x: 0.4, B: 256, t: 10\n"
     ]
    },
    {
     "name": "stdout",
     "output_type": "stream",
     "text": [
      "0, 0, 0.2170, 0.1007, 122.3643, 122.3643\n"
     ]
    },
    {
     "name": "stdout",
     "output_type": "stream",
     "text": [
      "1, 1, 0.0929, 0.1002, 105.3074, 122.3643\n"
     ]
    },
    {
     "name": "stdout",
     "output_type": "stream",
     "text": [
      "2, 1, 0.0610, 0.0996, 104.3665, 122.3643\n"
     ]
    },
    {
     "name": "stdout",
     "output_type": "stream",
     "text": [
      "3, 1, 0.0549, 0.0988, 98.0318, 122.3643\n"
     ]
    },
    {
     "name": "stdout",
     "output_type": "stream",
     "text": [
      "4, 1, 0.0523, 0.1002, 100.6389, 122.3643\n"
     ]
    },
    {
     "name": "stdout",
     "output_type": "stream",
     "text": [
      "5, 1, 0.0516, 0.0988, 96.8202, 122.3643\n"
     ]
    },
    {
     "name": "stdout",
     "output_type": "stream",
     "text": [
      "6, 1, 0.0513, 0.1007, 99.2969, 122.3643\n"
     ]
    },
    {
     "name": "stdout",
     "output_type": "stream",
     "text": [
      "7, 1, 0.0511, 0.0988, 96.3168, 122.3643\n"
     ]
    },
    {
     "name": "stdout",
     "output_type": "stream",
     "text": [
      "8, 1, 0.0507, 0.1007, 100.8328, 122.3643\n"
     ]
    },
    {
     "name": "stdout",
     "output_type": "stream",
     "text": [
      "9, 1, 0.0504, 0.1002, 98.1962, 122.3643\n"
     ]
    },
    {
     "name": "stdout",
     "output_type": "stream",
     "text": [
      "10, 1, 0.0503, 0.0981, 97.9936, 122.3643\n"
     ]
    },
    {
     "name": "stdout",
     "output_type": "stream",
     "text": [
      "w: 512, d: 5, I: 1, J: 1, x: 0.6, B: 256, t: 10\n"
     ]
    },
    {
     "name": "stdout",
     "output_type": "stream",
     "text": [
      "0, 0, 0.2170, 0.1007, 122.3643, 122.3643\n"
     ]
    },
    {
     "name": "stdout",
     "output_type": "stream",
     "text": [
      "1, 1, 0.1289, 0.1004, 108.8856, 122.3643\n"
     ]
    },
    {
     "name": "stdout",
     "output_type": "stream",
     "text": [
      "2, 1, 0.0788, 0.0989, 102.9748, 122.3643\n"
     ]
    },
    {
     "name": "stdout",
     "output_type": "stream",
     "text": [
      "3, 1, 0.0632, 0.0991, 94.6436, 122.3643\n"
     ]
    },
    {
     "name": "stdout",
     "output_type": "stream",
     "text": [
      "4, 1, 0.0564, 0.0995, 97.6423, 122.3643\n"
     ]
    },
    {
     "name": "stdout",
     "output_type": "stream",
     "text": [
      "5, 1, 0.0534, 0.0990, 88.4449, 122.3643\n"
     ]
    },
    {
     "name": "stdout",
     "output_type": "stream",
     "text": [
      "6, 1, 0.0524, 0.1008, 95.9170, 122.3643\n"
     ]
    },
    {
     "name": "stdout",
     "output_type": "stream",
     "text": [
      "7, 1, 0.0526, 0.0997, 87.9412, 122.3643\n"
     ]
    },
    {
     "name": "stdout",
     "output_type": "stream",
     "text": [
      "8, 1, 0.0517, 0.0998, 97.0107, 122.3643\n"
     ]
    },
    {
     "name": "stdout",
     "output_type": "stream",
     "text": [
      "9, 1, 0.0504, 0.0982, 90.3690, 122.3643\n"
     ]
    },
    {
     "name": "stdout",
     "output_type": "stream",
     "text": [
      "10, 1, 0.0508, 0.0977, 93.9877, 122.3643\n"
     ]
    },
    {
     "name": "stdout",
     "output_type": "stream",
     "text": [
      "w: 512, d: 5, I: 1, J: 1, x: 0.8, B: 256, t: 10\n"
     ]
    },
    {
     "name": "stdout",
     "output_type": "stream",
     "text": [
      "0, 0, 0.2170, 0.1007, 122.3643, 122.3643\n"
     ]
    },
    {
     "name": "stdout",
     "output_type": "stream",
     "text": [
      "1, 1, 0.1839, 0.1006, 113.7488, 122.3643\n"
     ]
    },
    {
     "name": "stdout",
     "output_type": "stream",
     "text": [
      "2, 1, 0.1198, 0.0986, 101.2493, 122.3643\n"
     ]
    },
    {
     "name": "stdout",
     "output_type": "stream",
     "text": [
      "3, 1, 0.0835, 0.1001, 93.7052, 122.3643\n"
     ]
    },
    {
     "name": "stdout",
     "output_type": "stream",
     "text": [
      "4, 1, 0.0677, 0.0999, 91.2641, 122.3643\n"
     ]
    },
    {
     "name": "stdout",
     "output_type": "stream",
     "text": [
      "5, 1, 0.0593, 0.0986, 79.2350, 122.3643\n"
     ]
    },
    {
     "name": "stdout",
     "output_type": "stream",
     "text": [
      "6, 1, 0.0566, 0.0996, 88.2886, 122.3643\n"
     ]
    },
    {
     "name": "stdout",
     "output_type": "stream",
     "text": [
      "7, 1, 0.0567, 0.1015, 72.8029, 122.3643\n"
     ]
    },
    {
     "name": "stdout",
     "output_type": "stream",
     "text": [
      "8, 1, 0.0548, 0.1000, 88.2915, 122.3643\n"
     ]
    },
    {
     "name": "stdout",
     "output_type": "stream",
     "text": [
      "9, 1, 0.0520, 0.0986, 72.5810, 122.3643\n"
     ]
    },
    {
     "name": "stdout",
     "output_type": "stream",
     "text": [
      "10, 1, 0.0526, 0.0986, 84.8753, 122.3643\n"
     ]
    },
    {
     "name": "stdout",
     "output_type": "stream",
     "text": [
      "w: 512, d: 5, I: 1, J: 1, x: 1.0, B: 256, t: 10\n"
     ]
    },
    {
     "name": "stdout",
     "output_type": "stream",
     "text": [
      "0, 0, 0.2170, 0.1007, 122.3643, 122.3643\n"
     ]
    },
    {
     "name": "stdout",
     "output_type": "stream",
     "text": [
      "1, 1, 0.2633, 0.1004, 119.9837, 122.3643\n"
     ]
    },
    {
     "name": "stdout",
     "output_type": "stream",
     "text": [
      "2, 1, 0.1962, 0.0990, 99.0905, 122.3643\n"
     ]
    },
    {
     "name": "stdout",
     "output_type": "stream",
     "text": [
      "3, 1, 0.1076, 0.0994, 84.7420, 122.3643\n"
     ]
    },
    {
     "name": "stdout",
     "output_type": "stream",
     "text": [
      "4, 1, 0.0735, 0.1001, 78.5647, 122.3643\n"
     ]
    },
    {
     "name": "stdout",
     "output_type": "stream",
     "text": [
      "5, 1, 0.0591, 0.0993, 65.3168, 122.3643\n"
     ]
    },
    {
     "name": "stdout",
     "output_type": "stream",
     "text": [
      "6, 1, 0.0553, 0.1000, 73.8252, 122.3643\n"
     ]
    },
    {
     "name": "stdout",
     "output_type": "stream",
     "text": [
      "7, 1, 0.0549, 0.1013, 61.1451, 122.3643\n"
     ]
    },
    {
     "name": "stdout",
     "output_type": "stream",
     "text": [
      "8, 1, 0.0526, 0.0997, 72.9530, 122.3643\n"
     ]
    },
    {
     "name": "stdout",
     "output_type": "stream",
     "text": [
      "9, 1, 0.0504, 0.0989, 56.6023, 122.3643\n"
     ]
    },
    {
     "name": "stdout",
     "output_type": "stream",
     "text": [
      "10, 1, 0.0507, 0.0994, 69.7797, 122.3643\n"
     ]
    },
    {
     "name": "stdout",
     "output_type": "stream",
     "text": [
      "w: 512, d: 5, I: 1, J: 1, x: 1.2, B: 256, t: 10\n"
     ]
    },
    {
     "name": "stdout",
     "output_type": "stream",
     "text": [
      "0, 0, 0.2170, 0.1007, 122.3643, 122.3643\n"
     ]
    },
    {
     "name": "stdout",
     "output_type": "stream",
     "text": [
      "1, 1, 0.3734, 0.1006, 127.9034, 122.3643\n"
     ]
    },
    {
     "name": "stdout",
     "output_type": "stream",
     "text": [
      "2, 1, 0.3091, 0.0991, 96.0078, 122.3643\n"
     ]
    },
    {
     "name": "stdout",
     "output_type": "stream",
     "text": [
      "3, 1, 0.1082, 0.0993, 67.3597, 122.3643\n"
     ]
    },
    {
     "name": "stdout",
     "output_type": "stream",
     "text": [
      "4, 1, 0.0627, 0.0998, 60.2809, 122.3643\n"
     ]
    },
    {
     "name": "stdout",
     "output_type": "stream",
     "text": [
      "5, 1, 0.0522, 0.1004, 49.2656, 122.3643\n"
     ]
    },
    {
     "name": "stdout",
     "output_type": "stream",
     "text": [
      "6, 1, 0.0504, 0.0993, 55.7948, 122.3643\n"
     ]
    },
    {
     "name": "stdout",
     "output_type": "stream",
     "text": [
      "7, 1, 0.0503, 0.0997, 47.5296, 122.3643\n"
     ]
    },
    {
     "name": "stdout",
     "output_type": "stream",
     "text": [
      "8, 1, 0.0492, 0.0994, 55.2001, 122.3643\n"
     ]
    },
    {
     "name": "stdout",
     "output_type": "stream",
     "text": [
      "9, 1, 0.0486, 0.0979, 42.9567, 122.3643\n"
     ]
    },
    {
     "name": "stdout",
     "output_type": "stream",
     "text": [
      "10, 1, 0.0486, 0.0968, 53.0328, 122.3643\n"
     ]
    },
    {
     "name": "stdout",
     "output_type": "stream",
     "text": [
      "w: 512, d: 5, I: 1, J: 1, x: 1.4, B: 256, t: 10\n"
     ]
    },
    {
     "name": "stdout",
     "output_type": "stream",
     "text": [
      "0, 0, 0.2170, 0.1007, 122.3643, 122.3643\n"
     ]
    },
    {
     "name": "stdout",
     "output_type": "stream",
     "text": [
      "1, 1, 0.5210, 0.1000, 137.6943, 122.3643\n"
     ]
    },
    {
     "name": "stdout",
     "output_type": "stream",
     "text": [
      "2, 1, 0.4308, 0.0995, 91.2227, 122.3643\n"
     ]
    },
    {
     "name": "stdout",
     "output_type": "stream",
     "text": [
      "3, 1, 0.0850, 0.1004, 46.6835, 122.3643\n"
     ]
    },
    {
     "name": "stdout",
     "output_type": "stream",
     "text": [
      "4, 1, 0.0517, 0.1003, 40.9785, 122.3643\n"
     ]
    },
    {
     "name": "stdout",
     "output_type": "stream",
     "text": [
      "5, 1, 0.0488, 0.1001, 34.9083, 122.3643\n"
     ]
    },
    {
     "name": "stdout",
     "output_type": "stream",
     "text": [
      "6, 1, 0.0485, 0.0996, 34.3189, 122.3643\n"
     ]
    },
    {
     "name": "stdout",
     "output_type": "stream",
     "text": [
      "7, 1, 0.0484, 0.0992, 34.5785, 122.3643\n"
     ]
    },
    {
     "name": "stdout",
     "output_type": "stream",
     "text": [
      "8, 1, 0.0480, 0.0989, 34.0425, 122.3643\n"
     ]
    },
    {
     "name": "stdout",
     "output_type": "stream",
     "text": [
      "9, 1, 0.0479, 0.0981, 33.4794, 122.3643\n"
     ]
    },
    {
     "name": "stdout",
     "output_type": "stream",
     "text": [
      "10, 1, 0.0477, 0.0994, 33.5292, 122.3643\n"
     ]
    },
    {
     "name": "stdout",
     "output_type": "stream",
     "text": [
      "w: 512, d: 5, I: 1, J: 1, x: 1.6, B: 256, t: 10\n"
     ]
    },
    {
     "name": "stdout",
     "output_type": "stream",
     "text": [
      "0, 0, 0.2170, 0.1007, 122.3643, 122.3643\n"
     ]
    },
    {
     "name": "stdout",
     "output_type": "stream",
     "text": [
      "1, 1, 0.7142, 0.1001, 149.6576, 122.3643\n"
     ]
    },
    {
     "name": "stdout",
     "output_type": "stream",
     "text": [
      "2, 1, 0.5072, 0.0998, 83.0126, 122.3643\n"
     ]
    },
    {
     "name": "stdout",
     "output_type": "stream",
     "text": [
      "3, 1, 0.0704, 0.0990, 30.7432, 122.3643\n"
     ]
    },
    {
     "name": "stdout",
     "output_type": "stream",
     "text": [
      "4, 1, 0.0492, 0.0993, 24.1741, 122.3643\n"
     ]
    },
    {
     "name": "stdout",
     "output_type": "stream",
     "text": [
      "5, 1, 0.0481, 0.1003, 24.4271, 122.3643\n"
     ]
    },
    {
     "name": "stdout",
     "output_type": "stream",
     "text": [
      "6, 1, 0.0479, 0.1007, 24.7595, 122.3643\n"
     ]
    },
    {
     "name": "stdout",
     "output_type": "stream",
     "text": [
      "7, 1, 0.0477, 0.1005, 24.7442, 122.3643\n"
     ]
    },
    {
     "name": "stdout",
     "output_type": "stream",
     "text": [
      "8, 1, 0.0474, 0.1000, 24.7078, 122.3643\n"
     ]
    },
    {
     "name": "stdout",
     "output_type": "stream",
     "text": [
      "9, 1, 0.0473, 0.1000, 23.9765, 122.3643\n"
     ]
    },
    {
     "name": "stdout",
     "output_type": "stream",
     "text": [
      "10, 1, 0.0472, 0.1003, 24.1181, 122.3643\n"
     ]
    },
    {
     "name": "stdout",
     "output_type": "stream",
     "text": [
      "w: 512, d: 5, I: 1, J: 1, x: 1.8, B: 256, t: 10\n"
     ]
    },
    {
     "name": "stdout",
     "output_type": "stream",
     "text": [
      "0, 0, 0.2170, 0.1007, 122.3643, 122.3643\n"
     ]
    },
    {
     "name": "stdout",
     "output_type": "stream",
     "text": [
      "1, 1, 0.9616, 0.1001, 164.1978, 122.3643\n"
     ]
    },
    {
     "name": "stdout",
     "output_type": "stream",
     "text": [
      "2, 1, 0.5012, 0.0999, 71.2995, 122.3643\n"
     ]
    },
    {
     "name": "stdout",
     "output_type": "stream",
     "text": [
      "3, 1, 0.0688, 0.1002, 22.4135, 122.3643\n"
     ]
    },
    {
     "name": "stdout",
     "output_type": "stream",
     "text": [
      "4, 1, 0.0519, 0.0997, 18.6851, 122.3643\n"
     ]
    },
    {
     "name": "stdout",
     "output_type": "stream",
     "text": [
      "5, 1, 0.0489, 0.1011, 18.3249, 122.3643\n"
     ]
    },
    {
     "name": "stdout",
     "output_type": "stream",
     "text": [
      "6, 1, 0.0480, 0.1002, 18.6221, 122.3643\n"
     ]
    },
    {
     "name": "stdout",
     "output_type": "stream",
     "text": [
      "7, 1, 0.0474, 0.1001, 18.7564, 122.3643\n"
     ]
    },
    {
     "name": "stdout",
     "output_type": "stream",
     "text": [
      "8, 1, 0.0471, 0.0998, 18.8145, 122.3643\n"
     ]
    },
    {
     "name": "stdout",
     "output_type": "stream",
     "text": [
      "9, 1, 0.0469, 0.0990, 18.3061, 122.3643\n"
     ]
    },
    {
     "name": "stdout",
     "output_type": "stream",
     "text": [
      "10, 1, 0.0468, 0.0992, 18.4238, 122.3643\n"
     ]
    },
    {
     "name": "stdout",
     "output_type": "stream",
     "text": [
      "w: 512, d: 5, I: 1, J: 1, x: 2.0, B: 256, t: 10\n"
     ]
    },
    {
     "name": "stdout",
     "output_type": "stream",
     "text": [
      "0, 0, 0.2170, 0.1007, 122.3643, 122.3643\n"
     ]
    },
    {
     "name": "stdout",
     "output_type": "stream",
     "text": [
      "1, 1, 1.2736, 0.1000, 181.8175, 122.3643\n"
     ]
    },
    {
     "name": "stdout",
     "output_type": "stream",
     "text": [
      "2, 1, 0.4361, 0.1003, 59.7328, 122.3643\n"
     ]
    },
    {
     "name": "stdout",
     "output_type": "stream",
     "text": [
      "3, 1, 0.0697, 0.1006, 18.5276, 122.3643\n"
     ]
    },
    {
     "name": "stdout",
     "output_type": "stream",
     "text": [
      "4, 1, 0.0536, 0.1005, 15.5055, 122.3643\n"
     ]
    },
    {
     "name": "stdout",
     "output_type": "stream",
     "text": [
      "5, 1, 0.0495, 0.0992, 15.0927, 122.3643\n"
     ]
    },
    {
     "name": "stdout",
     "output_type": "stream",
     "text": [
      "6, 1, 0.0481, 0.0987, 15.3814, 122.3643\n"
     ]
    },
    {
     "name": "stdout",
     "output_type": "stream",
     "text": [
      "7, 1, 0.0472, 0.1007, 15.5578, 122.3643\n"
     ]
    },
    {
     "name": "stdout",
     "output_type": "stream",
     "text": [
      "8, 1, 0.0468, 0.0996, 15.6257, 122.3643\n"
     ]
    },
    {
     "name": "stdout",
     "output_type": "stream",
     "text": [
      "9, 1, 0.0466, 0.0995, 15.3043, 122.3643\n"
     ]
    },
    {
     "name": "stdout",
     "output_type": "stream",
     "text": [
      "10, 1, 0.0464, 0.0982, 15.4245, 122.3643\n"
     ]
    },
    {
     "name": "stdout",
     "output_type": "stream",
     "text": [
      "w: 512, d: 5, I: 1, J: 1, x: 2.2, B: 256, t: 10\n"
     ]
    },
    {
     "name": "stdout",
     "output_type": "stream",
     "text": [
      "0, 0, 0.2170, 0.1007, 122.3643, 122.3643\n"
     ]
    },
    {
     "name": "stdout",
     "output_type": "stream",
     "text": [
      "1, 1, 1.6625, 0.1000, 203.2755, 122.3643\n"
     ]
    },
    {
     "name": "stdout",
     "output_type": "stream",
     "text": [
      "2, 1, 0.3735, 0.0999, 52.9810, 122.3643\n"
     ]
    },
    {
     "name": "stdout",
     "output_type": "stream",
     "text": [
      "3, 1, 0.0680, 0.1004, 16.1076, 122.3643\n"
     ]
    },
    {
     "name": "stdout",
     "output_type": "stream",
     "text": [
      "4, 1, 0.0526, 0.1004, 13.2650, 122.3643\n"
     ]
    },
    {
     "name": "stdout",
     "output_type": "stream",
     "text": [
      "5, 1, 0.0488, 0.0994, 12.9140, 122.3643\n"
     ]
    },
    {
     "name": "stdout",
     "output_type": "stream",
     "text": [
      "6, 1, 0.0476, 0.1006, 13.2284, 122.3643\n"
     ]
    },
    {
     "name": "stdout",
     "output_type": "stream",
     "text": [
      "7, 1, 0.0468, 0.1014, 13.3852, 122.3643\n"
     ]
    },
    {
     "name": "stdout",
     "output_type": "stream",
     "text": [
      "8, 1, 0.0464, 0.0998, 13.3604, 122.3643\n"
     ]
    },
    {
     "name": "stdout",
     "output_type": "stream",
     "text": [
      "9, 1, 0.0462, 0.0998, 13.1469, 122.3643\n"
     ]
    },
    {
     "name": "stdout",
     "output_type": "stream",
     "text": [
      "10, 1, 0.0462, 0.0978, 13.2573, 122.3643\n"
     ]
    },
    {
     "name": "stdout",
     "output_type": "stream",
     "text": [
      "w: 512, d: 5, I: 1, J: 1, x: 2.4, B: 256, t: 10\n"
     ]
    },
    {
     "name": "stdout",
     "output_type": "stream",
     "text": [
      "0, 0, 0.2170, 0.1007, 122.3643, 122.3643\n"
     ]
    },
    {
     "name": "stdout",
     "output_type": "stream",
     "text": [
      "1, 1, 2.1447, 0.1000, 229.4141, 122.3643\n"
     ]
    },
    {
     "name": "stdout",
     "output_type": "stream",
     "text": [
      "2, 1, 0.3421, 0.1004, 51.0934, 122.3643\n"
     ]
    },
    {
     "name": "stdout",
     "output_type": "stream",
     "text": [
      "3, 1, 0.0645, 0.1005, 14.3205, 122.3643\n"
     ]
    },
    {
     "name": "stdout",
     "output_type": "stream",
     "text": [
      "4, 1, 0.0501, 0.1009, 11.4884, 122.3643\n"
     ]
    },
    {
     "name": "stdout",
     "output_type": "stream",
     "text": [
      "5, 1, 0.0475, 0.1008, 11.1924, 122.3643\n"
     ]
    },
    {
     "name": "stdout",
     "output_type": "stream",
     "text": [
      "6, 1, 0.0468, 0.1008, 11.4915, 122.3643\n"
     ]
    },
    {
     "name": "stdout",
     "output_type": "stream",
     "text": [
      "7, 1, 0.0463, 0.0996, 11.6048, 122.3643\n"
     ]
    },
    {
     "name": "stdout",
     "output_type": "stream",
     "text": [
      "8, 1, 0.0461, 0.0984, 11.4765, 122.3643\n"
     ]
    },
    {
     "name": "stdout",
     "output_type": "stream",
     "text": [
      "9, 1, 0.0460, 0.1003, 11.3432, 122.3643\n"
     ]
    },
    {
     "name": "stdout",
     "output_type": "stream",
     "text": [
      "10, 1, 0.0459, 0.0980, 11.4266, 122.3643\n"
     ]
    },
    {
     "name": "stdout",
     "output_type": "stream",
     "text": [
      "w: 512, d: 5, I: 1, J: 1, x: 2.6, B: 256, t: 10\n"
     ]
    },
    {
     "name": "stdout",
     "output_type": "stream",
     "text": [
      "0, 0, 0.2170, 0.1007, 122.3643, 122.3643\n"
     ]
    },
    {
     "name": "stdout",
     "output_type": "stream",
     "text": [
      "1, 1, 2.7434, 0.1000, 261.4302, 122.3643\n"
     ]
    },
    {
     "name": "stdout",
     "output_type": "stream",
     "text": [
      "2, 1, 0.3596, 0.1007, 55.0119, 122.3643\n"
     ]
    },
    {
     "name": "stdout",
     "output_type": "stream",
     "text": [
      "3, 1, 0.0613, 0.0999, 13.8855, 122.3643\n"
     ]
    },
    {
     "name": "stdout",
     "output_type": "stream",
     "text": [
      "4, 1, 0.0475, 0.1001, 10.1813, 122.3643\n"
     ]
    },
    {
     "name": "stdout",
     "output_type": "stream",
     "text": [
      "5, 1, 0.0462, 0.1006, 10.0650, 122.3643\n"
     ]
    },
    {
     "name": "stdout",
     "output_type": "stream",
     "text": [
      "6, 1, 0.0460, 0.1009, 10.4391, 122.3643\n"
     ]
    },
    {
     "name": "stdout",
     "output_type": "stream",
     "text": [
      "7, 1, 0.0459, 0.1014, 10.4951, 122.3643\n"
     ]
    },
    {
     "name": "stdout",
     "output_type": "stream",
     "text": [
      "8, 1, 0.0458, 0.0997, 10.2772, 122.3643\n"
     ]
    },
    {
     "name": "stdout",
     "output_type": "stream",
     "text": [
      "9, 1, 0.0457, 0.1002, 10.2307, 122.3643\n"
     ]
    },
    {
     "name": "stdout",
     "output_type": "stream",
     "text": [
      "10, 1, 0.0457, 0.1009, 10.1701, 122.3643\n"
     ]
    },
    {
     "name": "stdout",
     "output_type": "stream",
     "text": [
      "w: 512, d: 5, I: 1, J: 1, x: 2.8, B: 256, t: 10\n"
     ]
    },
    {
     "name": "stdout",
     "output_type": "stream",
     "text": [
      "0, 0, 0.2170, 0.1007, 122.3643, 122.3643\n"
     ]
    },
    {
     "name": "stdout",
     "output_type": "stream",
     "text": [
      "1, 1, 3.4923, 0.1000, 301.1121, 122.3643\n"
     ]
    },
    {
     "name": "stdout",
     "output_type": "stream",
     "text": [
      "2, 1, 0.4461, 0.1012, 67.4825, 122.3643\n"
     ]
    },
    {
     "name": "stdout",
     "output_type": "stream",
     "text": [
      "3, 1, 0.0633, 0.0997, 15.8908, 122.3643\n"
     ]
    },
    {
     "name": "stdout",
     "output_type": "stream",
     "text": [
      "4, 1, 0.0459, 0.1006, 11.0566, 122.3643\n"
     ]
    },
    {
     "name": "stdout",
     "output_type": "stream",
     "text": [
      "5, 1, 0.0456, 0.1006, 10.6579, 122.3643\n"
     ]
    },
    {
     "name": "stdout",
     "output_type": "stream",
     "text": [
      "6, 1, 0.0456, 0.1004, 11.2994, 122.3643\n"
     ]
    },
    {
     "name": "stdout",
     "output_type": "stream",
     "text": [
      "7, 1, 0.0456, 0.1004, 11.1307, 122.3643\n"
     ]
    },
    {
     "name": "stdout",
     "output_type": "stream",
     "text": [
      "8, 1, 0.0455, 0.0992, 10.6412, 122.3643\n"
     ]
    },
    {
     "name": "stdout",
     "output_type": "stream",
     "text": [
      "9, 1, 0.0455, 0.1003, 11.0344, 122.3643\n"
     ]
    },
    {
     "name": "stdout",
     "output_type": "stream",
     "text": [
      "10, 1, 0.0455, 0.1014, 10.5470, 122.3643\n"
     ]
    },
    {
     "name": "stdout",
     "output_type": "stream",
     "text": [
      "w: 512, d: 5, I: 1, J: 1, x: 3.0, B: 256, t: 10\n"
     ]
    },
    {
     "name": "stdout",
     "output_type": "stream",
     "text": [
      "0, 0, 0.2170, 0.1007, 122.3643, 122.3643\n"
     ]
    },
    {
     "name": "stdout",
     "output_type": "stream",
     "text": [
      "1, 1, 4.4433, 0.1000, 350.7432, 122.3643\n"
     ]
    },
    {
     "name": "stdout",
     "output_type": "stream",
     "text": [
      "2, 1, 0.6364, 0.1000, 93.8428, 122.3643\n"
     ]
    },
    {
     "name": "stdout",
     "output_type": "stream",
     "text": [
      "3, 1, 0.0706, 0.0992, 21.9505, 122.3643\n"
     ]
    },
    {
     "name": "stdout",
     "output_type": "stream",
     "text": [
      "4, 1, 0.0507, 0.1000, 17.4929, 122.3643\n"
     ]
    },
    {
     "name": "stdout",
     "output_type": "stream",
     "text": [
      "5, 1, 0.0466, 0.0998, 12.0132, 122.3643\n"
     ]
    },
    {
     "name": "stdout",
     "output_type": "stream",
     "text": [
      "6, 1, 0.0459, 0.0990, 14.8927, 122.3643\n"
     ]
    },
    {
     "name": "stdout",
     "output_type": "stream",
     "text": [
      "7, 1, 0.0456, 0.1002, 12.7773, 122.3643\n"
     ]
    },
    {
     "name": "stdout",
     "output_type": "stream",
     "text": [
      "8, 1, 0.0455, 0.0992, 13.0447, 122.3643\n"
     ]
    },
    {
     "name": "stdout",
     "output_type": "stream",
     "text": [
      "9, 1, 0.0455, 0.1010, 13.6904, 122.3643\n"
     ]
    },
    {
     "name": "stdout",
     "output_type": "stream",
     "text": [
      "10, 1, 0.0455, 0.1002, 12.5434, 122.3643\n"
     ]
    },
    {
     "name": "stdout",
     "output_type": "stream",
     "text": [
      "w: 512, d: 5, I: 1, J: 1, x: 3.2, B: 256, t: 10\n"
     ]
    },
    {
     "name": "stdout",
     "output_type": "stream",
     "text": [
      "0, 0, 0.2170, 0.1007, 122.3643, 122.3643\n"
     ]
    },
    {
     "name": "stdout",
     "output_type": "stream",
     "text": [
      "1, 1, 5.6744, 0.1000, 413.7892, 122.3643\n"
     ]
    },
    {
     "name": "stdout",
     "output_type": "stream",
     "text": [
      "2, 1, 1.0250, 0.0995, 149.5873, 122.3643\n"
     ]
    },
    {
     "name": "stdout",
     "output_type": "stream",
     "text": [
      "3, 1, 0.0985, 0.1001, 40.1682, 122.3643\n"
     ]
    },
    {
     "name": "stdout",
     "output_type": "stream",
     "text": [
      "4, 1, 0.2169, 0.0998, 53.6120, 122.3643\n"
     ]
    },
    {
     "name": "stdout",
     "output_type": "stream",
     "text": [
      "5, 1, 0.1161, 0.0997, 18.2061, 122.3643\n"
     ]
    },
    {
     "name": "stdout",
     "output_type": "stream",
     "text": [
      "6, 1, 0.0541, 0.1001, 7.8207, 122.3643\n"
     ]
    },
    {
     "name": "stdout",
     "output_type": "stream",
     "text": [
      "7, 1, 0.0498, 0.1010, 6.6147, 122.3643\n"
     ]
    },
    {
     "name": "stdout",
     "output_type": "stream",
     "text": [
      "8, 1, 0.0479, 0.1009, 6.4844, 122.3643\n"
     ]
    },
    {
     "name": "stdout",
     "output_type": "stream",
     "text": [
      "9, 1, 0.0467, 0.1006, 6.4288, 122.3643\n"
     ]
    },
    {
     "name": "stdout",
     "output_type": "stream",
     "text": [
      "10, 1, 0.0462, 0.1003, 6.2740, 122.3643\n"
     ]
    },
    {
     "name": "stdout",
     "output_type": "stream",
     "text": [
      "w: 512, d: 5, I: 1, J: 1, x: 3.4, B: 256, t: 10\n"
     ]
    },
    {
     "name": "stdout",
     "output_type": "stream",
     "text": [
      "0, 0, 0.2170, 0.1007, 122.3643, 122.3643\n"
     ]
    },
    {
     "name": "stdout",
     "output_type": "stream",
     "text": [
      "1, 1, 7.3031, 0.1000, 494.7240, 122.3643\n"
     ]
    },
    {
     "name": "stdout",
     "output_type": "stream",
     "text": [
      "2, 1, 1.8538, 0.1007, 274.8469, 122.3643\n"
     ]
    },
    {
     "name": "stdout",
     "output_type": "stream",
     "text": [
      "3, 1, 0.2049, 0.1000, 115.9541, 122.3643\n"
     ]
    },
    {
     "name": "stdout",
     "output_type": "stream",
     "text": [
      "4, 1, 6.6812, 0.1001, 476.5044, 122.3643\n"
     ]
    },
    {
     "name": "stdout",
     "output_type": "stream",
     "text": [
      "5, 1, 0.0679, 0.0997, 6.3711, 122.3643\n"
     ]
    },
    {
     "name": "stdout",
     "output_type": "stream",
     "text": [
      "6, 1, 0.0552, 0.0996, 3.6562, 122.3643\n"
     ]
    },
    {
     "name": "stdout",
     "output_type": "stream",
     "text": [
      "7, 1, 0.0514, 0.0995, 3.1983, 122.3643\n"
     ]
    },
    {
     "name": "stdout",
     "output_type": "stream",
     "text": [
      "8, 1, 0.0494, 0.1005, 3.2485, 122.3643\n"
     ]
    },
    {
     "name": "stdout",
     "output_type": "stream",
     "text": [
      "9, 1, 0.0480, 0.1005, 3.1429, 122.3643\n"
     ]
    },
    {
     "name": "stdout",
     "output_type": "stream",
     "text": [
      "10, 1, 0.0472, 0.1008, 3.3896, 122.3643\n"
     ]
    },
    {
     "name": "stdout",
     "output_type": "stream",
     "text": [
      "w: 512, d: 5, I: 1, J: 1, x: 3.6, B: 256, t: 10\n"
     ]
    },
    {
     "name": "stdout",
     "output_type": "stream",
     "text": [
      "0, 0, 0.2170, 0.1007, 122.3643, 122.3643\n"
     ]
    },
    {
     "name": "stdout",
     "output_type": "stream",
     "text": [
      "1, 1, 9.5120, 0.1000, 600.5657, 122.3643\n"
     ]
    },
    {
     "name": "stdout",
     "output_type": "stream",
     "text": [
      "2, 1, 3.8077, 0.0994, 569.8345, 122.3643\n"
     ]
    },
    {
     "name": "stdout",
     "output_type": "stream",
     "text": [
      "3, 1, 4.5864, 0.1000, 1023.3492, 122.3643\n"
     ]
    },
    {
     "name": "stdout",
     "output_type": "stream",
     "text": [
      "4, 1, 386.9028, 0.1001, 43271.4102, 122.3643\n"
     ]
    },
    {
     "name": "stdout",
     "output_type": "stream",
     "text": [
      "5, 1, 10459146.0000, 0.0998, 160188832.0000, 122.3643\n",
      "Divergence\n"
     ]
    }
   ],
   "source": [
    "# for storing trajectories\n",
    "dfs = list()\n",
    "\n",
    "#run for all widths\n",
    "for width in widths:\n",
    "    config.width = width\n",
    "    #run for init_averages different initializations\n",
    "    for iteration in range(1, init_averages+1):\n",
    "        config.init_rng = jax.random.PRNGKey(iteration)\n",
    "        #run for sgd_run different mini batch sequences\n",
    "        for run in range(1, sgd_runs + 1):\n",
    "            config.sgd_rng = jax.random.PRNGKey(run)\n",
    "            lr_exp = lr_exp_start\n",
    "            divergence = False\n",
    "\n",
    "            while not divergence:\n",
    "                config.lr_exp = lr_exp\n",
    "                config.lr_const = 2**lr_exp\n",
    "                print(f'w: {config.width}, d: {config.depth}, I: {iteration}, J: {run}, x: {lr_exp:0.1f}, B: {config.batch_size}, t: {config.num_steps}')\n",
    "\n",
    "                divergence, train_results = train_and_evaluate(config, train_ds)\n",
    "\n",
    "                if not divergence:\n",
    "                    # append training results\n",
    "                    df = pd.DataFrame(train_results, columns = ['step', 'epoch', 'train_loss_step', 'train_loss_init', 'train_accuracy', 'sharpness_step', 'sharpness_init'], dtype = float)\n",
    "                    df['lr_exp'] = config.lr_exp; df['lr_const'] = config.lr_const; df['batch_size'] = config.batch_size; df['num_steps'] = config.num_epochs; df['I'] = iteration; df['J'] = run; df['width'] = config.width; df['depth'] = config.depth\n",
    "                    dfs.append(df)\n",
    "                    del df\n",
    "\n",
    "                else:\n",
    "                    print('Divergence')\n",
    "\n",
    "                del train_results\n",
    "\n",
    "                lr_exp += lr_step\n",
    "\n",
    "                collected = gc.collect()\n",
    "                #print(\"Garbage collector: collected %d objects.\" % (collected))\n",
    "\n",
    "# concatenate results\n",
    "dfs = pd.concat(dfs, axis = 0, ignore_index = True)\n"
   ]
  },
  {
   "cell_type": "markdown",
   "id": "60f3741e",
   "metadata": {
    "id": "aKW6PqQ1y4Ak",
    "papermill": {
     "duration": 0.025658,
     "end_time": "2024-11-05T04:54:42.163009",
     "exception": false,
     "start_time": "2024-11-05T04:54:42.137351",
     "status": "completed"
    },
    "tags": []
   },
   "source": [
    "Post processing"
   ]
  },
  {
   "cell_type": "code",
   "execution_count": 11,
   "id": "29979414",
   "metadata": {
    "execution": {
     "iopub.execute_input": "2024-11-05T04:54:42.215364Z",
     "iopub.status.busy": "2024-11-05T04:54:42.214835Z",
     "iopub.status.idle": "2024-11-05T04:54:42.234374Z",
     "shell.execute_reply": "2024-11-05T04:54:42.233310Z"
    },
    "id": "_uUMiK4dy6Kw",
    "papermill": {
     "duration": 0.047315,
     "end_time": "2024-11-05T04:54:42.235813",
     "exception": false,
     "start_time": "2024-11-05T04:54:42.188498",
     "status": "completed"
    },
    "tags": []
   },
   "outputs": [],
   "source": [
    "# early training dynamics\n",
    "dfs = dfs.astype(float)\n",
    "dfs['norm_sharp'] = dfs['sharpness_step'] / dfs['sharpness_init']\n",
    "dfs['norm_loss'] = dfs['train_loss_step'] / dfs['train_loss_init']"
   ]
  },
  {
   "cell_type": "markdown",
   "id": "1caa44d3",
   "metadata": {
    "id": "LU_fOJmBiunD",
    "papermill": {
     "duration": 0.025715,
     "end_time": "2024-11-05T04:54:42.292989",
     "exception": false,
     "start_time": "2024-11-05T04:54:42.267274",
     "status": "completed"
    },
    "tags": []
   },
   "source": [
    "### Plot training trajectories"
   ]
  },
  {
   "cell_type": "code",
   "execution_count": 12,
   "id": "4bab30b6",
   "metadata": {
    "colab": {
     "base_uri": "https://localhost:8080/",
     "height": 1000
    },
    "execution": {
     "iopub.execute_input": "2024-11-05T04:54:42.346085Z",
     "iopub.status.busy": "2024-11-05T04:54:42.345733Z",
     "iopub.status.idle": "2024-11-05T04:54:43.323010Z",
     "shell.execute_reply": "2024-11-05T04:54:43.322279Z"
    },
    "executionInfo": {
     "elapsed": 2974,
     "status": "ok",
     "timestamp": 1684873583634,
     "user": {
      "displayName": "Dayal",
      "userId": "08303688375445058607"
     },
     "user_tz": 240
    },
    "id": "3a92CEEziz18",
    "outputId": "5cf506f1-d3ee-438f-ce92-b19a203eef55",
    "papermill": {
     "duration": 1.007106,
     "end_time": "2024-11-05T04:54:43.325600",
     "exception": false,
     "start_time": "2024-11-05T04:54:42.318494",
     "status": "completed"
    },
    "tags": []
   },
   "outputs": [
    {
     "name": "stdout",
     "output_type": "stream",
     "text": [
      "[0. 1. 2. 3.]\n"
     ]
    },
    {
     "data": {
      "image/png": "[encoded data removed]",
      "text/plain": [
       "<Figure size 1200x400 with 2 Axes>"
      ]
     },
     "metadata": {},
     "output_type": "display_data"
    },
    {
     "data": {
      "image/png": "[encoded data removed]",
      "text/plain": [
       "<Figure size 1200x400 with 2 Axes>"
      ]
     },
     "metadata": {},
     "output_type": "display_data"
    },
    {
     "data": {
      "image/png": "[encoded data removed]",
      "text/plain": [
       "<Figure size 1200x400 with 2 Axes>"
      ]
     },
     "metadata": {},
     "output_type": "display_data"
    }
   ],
   "source": [
    "lr_plot = [0.0, 0.5, 1.0, 1.5, 2.0, 2.5, 3.0]\n",
    "dfs['lr_exp'] = dfs['lr_exp'].round(1)\n",
    "dfs['lr_const'] = dfs['lr_const'].round(1)\n",
    "\n",
    "df_plot = get_rows_where_col_in(dfs, 'lr_exp', lr_plot)\n",
    "print(df_plot['lr_exp'].unique())\n",
    "\n",
    "for i, width in enumerate(widths):\n",
    "    \n",
    "    df_width = get_rows_where_col_equals(df_plot, 'width', width)\n",
    "\n",
    "    fig, axes = plt.subplots(1, 2, figsize = (12, 4))\n",
    "    ax = axes[0]\n",
    "    ax = sns.lineplot(x = 'step', y = 'train_loss_step', data = df_width, hue = 'lr_const', palette = 'crest', legend = 'full', ax = ax)\n",
    "    ax.set_xlabel('step')\n",
    "    ax.set_ylabel(r'Training loss')\n",
    "    ax.set_title(f'width: {width}')\n",
    "    ax.get_legend().remove()\n",
    "\n",
    "    ax = axes[1]\n",
    "    ax = sns.lineplot(x = 'step', y = 'norm_sharp', data = df_width, hue = 'lr_const', palette = 'crest', legend = 'full', ax = ax)\n",
    "    ax.set_xlabel('step')\n",
    "    ax.set_ylabel(r'$\\frac{\\lambda_t^H}{\\lambda_0^H}$')\n",
    "    ax.set_title(f'width: {width}')\n",
    "    ax.legend(title = r'$c$', loc='center left', bbox_to_anchor=(1, 0.5))\n"
   ]
  },
  {
   "cell_type": "markdown",
   "id": "7c173ac8",
   "metadata": {
    "id": "Oz88X27hAe3D",
    "papermill": {
     "duration": 0.028011,
     "end_time": "2024-11-05T04:54:43.397886",
     "exception": false,
     "start_time": "2024-11-05T04:54:43.369875",
     "status": "completed"
    },
    "tags": []
   },
   "source": [
    "### Estimate critical constants"
   ]
  },
  {
   "cell_type": "code",
   "execution_count": 13,
   "id": "361d1c27",
   "metadata": {
    "execution": {
     "iopub.execute_input": "2024-11-05T04:54:43.474849Z",
     "iopub.status.busy": "2024-11-05T04:54:43.474151Z",
     "iopub.status.idle": "2024-11-05T04:54:43.495271Z",
     "shell.execute_reply": "2024-11-05T04:54:43.494305Z"
    },
    "id": "Kya_EBGDATye",
    "papermill": {
     "duration": 0.070832,
     "end_time": "2024-11-05T04:54:43.496513",
     "exception": false,
     "start_time": "2024-11-05T04:54:43.425681",
     "status": "completed"
    },
    "tags": []
   },
   "outputs": [],
   "source": [
    "# note: For zero initialized networks, sharpness does not decrease appreciably during early training. \n",
    "# To avoid random fluctuations in sharpness to be considered as sharpness catapult, we compare the normalized sharpness with 1+epsilon to define sharpness catapult.\n",
    "\n",
    "epsilon = 0.05\n",
    "\n",
    "#estimate c_loss\n",
    "df_filtered = dfs[dfs['norm_loss'] > 1.0]\n",
    "df_grouped = df_filtered.groupby('width')['lr_const'].min()\n",
    "df_closs = df_grouped.reset_index().astype(float)\n",
    "df_closs['1w'] = 1 / df_closs['width']\n",
    "\n",
    "#estimate c_sharp\n",
    "df_filtered = dfs[dfs['norm_sharp'] > 1 + epsilon]\n",
    "df_grouped = df_filtered.groupby('width')['lr_const'].min()\n",
    "df_csharp = df_grouped.reset_index().astype(float)\n",
    "df_csharp['1w'] = 1 / df_csharp['width']\n",
    "\n",
    "#estimate c_max\n",
    "df_grouped = dfs.groupby('width')['lr_const'].max()\n",
    "df_cmax = df_grouped.reset_index().astype(float)\n",
    "df_cmax['1w'] = 1 / df_cmax['width']\n",
    "\n"
   ]
  },
  {
   "cell_type": "markdown",
   "id": "112a9e05",
   "metadata": {
    "id": "zVcp-xIRv5ib",
    "papermill": {
     "duration": 0.028067,
     "end_time": "2024-11-05T04:54:43.558971",
     "exception": false,
     "start_time": "2024-11-05T04:54:43.530904",
     "status": "completed"
    },
    "tags": []
   },
   "source": [
    "### Plot the phase diagram"
   ]
  },
  {
   "cell_type": "code",
   "execution_count": 14,
   "id": "f3160b7f",
   "metadata": {
    "colab": {
     "base_uri": "https://localhost:8080/",
     "height": 580
    },
    "execution": {
     "iopub.execute_input": "2024-11-05T04:54:43.617302Z",
     "iopub.status.busy": "2024-11-05T04:54:43.616678Z",
     "iopub.status.idle": "2024-11-05T04:54:43.832922Z",
     "shell.execute_reply": "2024-11-05T04:54:43.832202Z"
    },
    "executionInfo": {
     "elapsed": 507,
     "status": "ok",
     "timestamp": 1684873584138,
     "user": {
      "displayName": "Dayal",
      "userId": "08303688375445058607"
     },
     "user_tz": 240
    },
    "id": "quXF4TeoNy3I",
    "outputId": "830f46de-22fd-4fda-db40-6cca53879660",
    "papermill": {
     "duration": 0.248638,
     "end_time": "2024-11-05T04:54:43.835683",
     "exception": false,
     "start_time": "2024-11-05T04:54:43.587045",
     "status": "completed"
    },
    "tags": []
   },
   "outputs": [
    {
     "data": {
      "text/plain": [
       "(np.float64(0.0018223300615953274), np.float64(0.008088007217510936))"
      ]
     },
     "execution_count": 14,
     "metadata": {},
     "output_type": "execute_result"
    },
    {
     "data": {
      "image/png": "[encoded data removed]",
      "text/plain": [
       "<Figure size 800x600 with 1 Axes>"
      ]
     },
     "metadata": {},
     "output_type": "display_data"
    }
   ],
   "source": [
    "order = 1 #order of curve to fit\n",
    "# for this phase diagram order 1 works better\n",
    "\n",
    "fig, ax = plt.subplots(1, 1, figsize = (8, 6))\n",
    "colors = sns.color_palette('tab10', 3)\n",
    "\n",
    "ax.scatter('lr_const', '1w', data = df_closs, marker = 's', color = 'black', label = r'$\\langle c_{loss} \\rangle$', facecolors = 'none', zorder = 2, s = 64)\n",
    "ax.scatter('lr_const', '1w', data = df_csharp, marker = '^', color = 'black', label = r'$\\langle c_{sharp} \\rangle$', facecolors = 'none', zorder = 2, s = 64)\n",
    "ax.scatter('lr_const', '1w', data = df_cmax, marker = 'D', color = 'black', label = r'$\\langle c_{max} \\rangle$', facecolors = 'none', zorder = 2, s = 64)\n",
    "\n",
    "# fit curves\n",
    "y = df_closs['1w'].values\n",
    "\n",
    "ymin = np.min(y)\n",
    "ymax = np.max(y)\n",
    "\n",
    "y_new = np.array([2**i for i in np.arange(np.log2(ymin) - 0.1, np.log2(ymax) + 0.1, 0.05)])\n",
    "\n",
    "x = df_closs['lr_const'].values\n",
    "coeffs = np.polyfit(y, x, order)\n",
    "smooth_loss = poly(coeffs, y_new)\n",
    "ax.plot(smooth_loss, y_new, '-', color = 'black')\n",
    "\n",
    "x = df_csharp['lr_const'].values\n",
    "coeffs = np.polyfit(y, x, order)\n",
    "smooth_sharp = poly(coeffs, y_new)\n",
    "ax.plot(smooth_sharp, y_new, '-', color = 'black')\n",
    "\n",
    "\n",
    "x = df_cmax['lr_const'].values\n",
    "coeffs = np.polyfit(y, x, order)\n",
    "smooth_max = poly(coeffs, y_new)\n",
    "ax.plot(smooth_max, y_new, '-', color = 'black')\n",
    "\n",
    "x_max = np.max(x) + 5\n",
    "\n",
    "#Fill colors\n",
    "y1 = 0.0*np.ones(len(y_new))\n",
    "y2 = 2*np.ones(len(y_new))\n",
    "ax.fill(np.append(y1, y2[::-1]), np.append(y_new, y_new[::-1]), '#CFF5E7')\n",
    "\n",
    "y1 = 2*np.ones(len(y_new))\n",
    "y2 = smooth_loss\n",
    "ax.fill(np.append(y1, y2[::-1]), np.append(y_new, y_new[::-1]), '#FFFAD7')\n",
    "\n",
    "y1 = smooth_loss\n",
    "y2 = smooth_sharp\n",
    "ax.fill(np.append(y1, y2[::-1]), np.append(y_new, y_new[::-1]), '#FCDDB0')\n",
    "\n",
    "y1 = smooth_sharp\n",
    "y2 = smooth_max\n",
    "ax.fill(np.append(y1, y2[::-1]), np.append(y_new, y_new[::-1]), '#FF9F9F')\n",
    "\n",
    "y1 = smooth_max\n",
    "y2 = x_max*np.ones(len(y_new))\n",
    "ax.fill(np.append(y1, y2[::-1]), np.append(y_new, y_new[::-1]), '#E97777')\n",
    "\n",
    "\n",
    "ax.axvline(x = 2.0, linestyle = '--', color = 'gray')\n",
    "ax.set_xscale('log', base = 2)\n",
    "ax.set_yscale('log', base = 2)\n",
    "ax.legend(fontsize = 20, loc='upper left', facecolor = 'white', framealpha = 0.5)\n",
    "ax.set_ylabel(r'$1/w$')\n",
    "ax.set_xlabel(r'$c$')\n",
    "ax.set_xlim(0.5, x_max)\n",
    "ax.set_ylim(y_new[0], y_new[-1])\n",
    "\n"
   ]
  },
  {
   "cell_type": "markdown",
   "id": "1b8cbb3b",
   "metadata": {
    "id": "fJRET89awRW7",
    "papermill": {
     "duration": 0.028856,
     "end_time": "2024-11-05T04:54:43.911151",
     "exception": false,
     "start_time": "2024-11-05T04:54:43.882295",
     "status": "completed"
    },
    "tags": []
   },
   "source": [
    "Key results: \n",
    "\n",
    "\n",
    "*   critical constants $c_{loss}, c_{sharp}$ do not scale with $1 / w$\n",
    "*   $c_{loss} = 2$ independent of depth and width."
   ]
  }
 ],
 "metadata": {
  "accelerator": "GPU",
  "colab": {
   "authorship_tag": "ABX9TyNiR+DeEgZcx6P0gQLVdroR",
   "gpuType": "V100",
   "provenance": []
  },
  "gpuClass": "standard",
  "kernelspec": {
   "display_name": "ppmlFall",
   "language": "python",
   "name": "python3"
  },
  "language_info": {
   "codemirror_mode": {
    "name": "ipython",
    "version": 3
   },
   "file_extension": ".py",
   "mimetype": "text/x-python",
   "name": "python",
   "nbconvert_exporter": "python",
   "pygments_lexer": "ipython3",
   "version": "3.10.12"
  },
  "papermill": {
   "default_parameters": {},
   "duration": 5595.798749,
   "end_time": "2024-11-05T04:54:46.861985",
   "environment_variables": {},
   "exception": null,
   "input_path": "4098_early_training_phase_diagram_zeros.ipynb",
   "output_path": "output.ipynb",
   "parameters": {},
   "start_time": "2024-11-05T03:21:31.063236",
   "version": "2.6.0"
  }
 },
 "nbformat": 4,
 "nbformat_minor": 5
}