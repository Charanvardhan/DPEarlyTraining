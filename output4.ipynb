{
 "cells": [
  {
   "cell_type": "markdown",
   "id": "e0d357f9",
   "metadata": {
    "id": "PbG_QnLnrSQZ",
    "papermill": {
     "duration": 0.011296,
     "end_time": "2024-11-06T16:16:41.005283",
     "exception": false,
     "start_time": "2024-11-06T16:16:40.993987",
     "status": "completed"
    },
    "tags": []
   },
   "source": [
    "### Installations"
   ]
  },
  {
   "cell_type": "code",
   "execution_count": 1,
   "id": "672b8ae2",
   "metadata": {
    "execution": {
     "iopub.execute_input": "2024-11-06T16:16:41.022174Z",
     "iopub.status.busy": "2024-11-06T16:16:41.021213Z",
     "iopub.status.idle": "2024-11-06T16:16:42.305383Z",
     "shell.execute_reply": "2024-11-06T16:16:42.304002Z"
    },
    "papermill": {
     "duration": 1.294908,
     "end_time": "2024-11-06T16:16:42.307788",
     "exception": false,
     "start_time": "2024-11-06T16:16:41.012880",
     "status": "completed"
    },
    "tags": []
   },
   "outputs": [
    {
     "name": "stdout",
     "output_type": "stream",
     "text": [
      "Available GPUs: 1\n",
      "Current device: 0\n",
      "Device name: NVIDIA GeForce RTX 3090\n"
     ]
    }
   ],
   "source": [
    "import os\n",
    "os.environ[\"CUDA_VISIBLE_DEVICES\"] = \"1\" \n",
    "\n",
    "import torch\n",
    "print(\"Available GPUs:\", torch.cuda.device_count())\n",
    "print(\"Current device:\", torch.cuda.current_device())\n",
    "print(\"Device name:\", torch.cuda.get_device_name(0))"
   ]
  },
  {
   "cell_type": "code",
   "execution_count": 2,
   "id": "9b5a8eea",
   "metadata": {
    "colab": {
     "base_uri": "https://localhost:8080/"
    },
    "execution": {
     "iopub.execute_input": "2024-11-06T16:16:42.328964Z",
     "iopub.status.busy": "2024-11-06T16:16:42.327709Z",
     "iopub.status.idle": "2024-11-06T16:16:42.333221Z",
     "shell.execute_reply": "2024-11-06T16:16:42.332130Z"
    },
    "executionInfo": {
     "elapsed": 19781,
     "status": "ok",
     "timestamp": 1684947344540,
     "user": {
      "displayName": "Dayal",
      "userId": "08303688375445058607"
     },
     "user_tz": 240
    },
    "id": "hO49W5e7s7CO",
    "outputId": "4a76bf4b-2f38-43e6-a71e-bdf91f907f64",
    "papermill": {
     "duration": 0.016559,
     "end_time": "2024-11-06T16:16:42.334688",
     "exception": false,
     "start_time": "2024-11-06T16:16:42.318129",
     "status": "completed"
    },
    "tags": []
   },
   "outputs": [],
   "source": [
    "# !nvidia-smi -L\n",
    "# !pip install -q jax flax optax ml_collections "
   ]
  },
  {
   "cell_type": "markdown",
   "id": "bdf7c7c0",
   "metadata": {
    "id": "LdnrHfYzrZTE",
    "papermill": {
     "duration": 0.008985,
     "end_time": "2024-11-06T16:16:42.351888",
     "exception": false,
     "start_time": "2024-11-06T16:16:42.342903",
     "status": "completed"
    },
    "tags": []
   },
   "source": [
    "### Optional: Load Google drive and change directory to neurips_2023_demo"
   ]
  },
  {
   "cell_type": "code",
   "execution_count": 3,
   "id": "58e167c8",
   "metadata": {
    "colab": {
     "base_uri": "https://localhost:8080/"
    },
    "execution": {
     "iopub.execute_input": "2024-11-06T16:16:42.367482Z",
     "iopub.status.busy": "2024-11-06T16:16:42.366417Z",
     "iopub.status.idle": "2024-11-06T16:16:42.374327Z",
     "shell.execute_reply": "2024-11-06T16:16:42.373115Z"
    },
    "executionInfo": {
     "elapsed": 23706,
     "status": "ok",
     "timestamp": 1684947368239,
     "user": {
      "displayName": "Dayal",
      "userId": "08303688375445058607"
     },
     "user_tz": 240
    },
    "id": "K9fG7CRcqeFs",
    "outputId": "946d087f-098a-4f2b-f7a4-c6eac80da857",
    "papermill": {
     "duration": 0.017239,
     "end_time": "2024-11-06T16:16:42.376550",
     "exception": false,
     "start_time": "2024-11-06T16:16:42.359311",
     "status": "completed"
    },
    "tags": []
   },
   "outputs": [],
   "source": [
    "import sys\n",
    "\n",
    "if \"google.colab\" in sys.modules:\n",
    "    print(\"Running on Google Colab\")\n",
    "\n",
    "    from google.colab import drive\n",
    "    drive.mount('/content/drive')\n",
    "    %cd /content/drive/MyDrive/neurips_2023_15410/"
   ]
  },
  {
   "cell_type": "code",
   "execution_count": null,
   "id": "9da154ab",
   "metadata": {
    "papermill": {
     "duration": 0.006703,
     "end_time": "2024-11-06T16:16:42.395241",
     "exception": false,
     "start_time": "2024-11-06T16:16:42.388538",
     "status": "completed"
    },
    "tags": []
   },
   "outputs": [],
   "source": []
  },
  {
   "cell_type": "markdown",
   "id": "f82ae1e7",
   "metadata": {
    "id": "bheorS64sJci",
    "papermill": {
     "duration": 0.004281,
     "end_time": "2024-11-06T16:16:42.404795",
     "exception": false,
     "start_time": "2024-11-06T16:16:42.400514",
     "status": "completed"
    },
    "tags": []
   },
   "source": [
    "### Load libraries\n",
    "\n",
    "Requirements: data_utils_pytorch, model_utils, train_mse_utils / train_xent_utils in the current directory"
   ]
  },
  {
   "cell_type": "code",
   "execution_count": 4,
   "id": "42f1ee7c",
   "metadata": {
    "execution": {
     "iopub.execute_input": "2024-11-06T16:16:42.416374Z",
     "iopub.status.busy": "2024-11-06T16:16:42.415590Z",
     "iopub.status.idle": "2024-11-06T16:16:44.542338Z",
     "shell.execute_reply": "2024-11-06T16:16:44.541525Z"
    },
    "id": "Us5F8JggsrYl",
    "papermill": {
     "duration": 2.133243,
     "end_time": "2024-11-06T16:16:44.544459",
     "exception": false,
     "start_time": "2024-11-06T16:16:42.411216",
     "status": "completed"
    },
    "tags": []
   },
   "outputs": [],
   "source": [
    "loss = 'mse'\n",
    "# custom modules\n",
    "import data_utils_pytorch\n",
    "import model_utils as models\n",
    "\n",
    "if loss == 'mse':\n",
    "    import train_mse_utils as train_utils\n",
    "elif loss == 'xent':\n",
    "    import train_xent_utils as train_utils\n",
    "else:\n",
    "    print('Unsupported loss function')\n",
    "    raise\n",
    "\n",
    "\n",
    "# in use imports\n",
    "import jax\n",
    "from jax import numpy as jnp\n",
    "import optax\n",
    "from ml_collections import config_dict\n",
    "\n",
    "#usual imports\n",
    "import numpy as np\n",
    "import pandas as pd\n",
    "from sys import argv\n",
    "import gc\n",
    "import matplotlib.pyplot as plt\n",
    "import matplotlib\n",
    "matplotlib.rcParams.update({'font.size':15})\n",
    "import seaborn as sns"
   ]
  },
  {
   "cell_type": "markdown",
   "id": "41210ebf",
   "metadata": {
    "id": "XLV1eiF3sZ38",
    "papermill": {
     "duration": 0.007046,
     "end_time": "2024-11-06T16:16:44.557942",
     "exception": false,
     "start_time": "2024-11-06T16:16:44.550896",
     "status": "completed"
    },
    "tags": []
   },
   "source": [
    "### Helper functions"
   ]
  },
  {
   "cell_type": "code",
   "execution_count": 5,
   "id": "23c9bdd5",
   "metadata": {
    "execution": {
     "iopub.execute_input": "2024-11-06T16:16:44.570650Z",
     "iopub.status.busy": "2024-11-06T16:16:44.570044Z",
     "iopub.status.idle": "2024-11-06T16:16:44.575881Z",
     "shell.execute_reply": "2024-11-06T16:16:44.574963Z"
    },
    "id": "RKPrPg0Xz-FF",
    "papermill": {
     "duration": 0.012779,
     "end_time": "2024-11-06T16:16:44.576965",
     "exception": false,
     "start_time": "2024-11-06T16:16:44.564186",
     "status": "completed"
    },
    "tags": []
   },
   "outputs": [],
   "source": [
    "def poly(coeffs, x):\n",
    "    \"Given polynomial coefficients coeffs, evaluates the polynomal f(x)\"\n",
    "    degree = len(coeffs)-1\n",
    "    output = 0\n",
    "    for i in range(len(coeffs)):\n",
    "        output += coeffs[i] * x**(degree-i)\n",
    "    return output"
   ]
  },
  {
   "cell_type": "markdown",
   "id": "17e68102",
   "metadata": {
    "id": "mrmS7Uj80LmX",
    "papermill": {
     "duration": 0.004083,
     "end_time": "2024-11-06T16:16:44.585094",
     "exception": false,
     "start_time": "2024-11-06T16:16:44.581011",
     "status": "completed"
    },
    "tags": []
   },
   "source": [
    "pandas helper functions"
   ]
  },
  {
   "cell_type": "code",
   "execution_count": 6,
   "id": "2d5958e6",
   "metadata": {
    "execution": {
     "iopub.execute_input": "2024-11-06T16:16:44.595139Z",
     "iopub.status.busy": "2024-11-06T16:16:44.594485Z",
     "iopub.status.idle": "2024-11-06T16:16:44.603223Z",
     "shell.execute_reply": "2024-11-06T16:16:44.602124Z"
    },
    "id": "wzu3T4Su0Mf4",
    "papermill": {
     "duration": 0.015217,
     "end_time": "2024-11-06T16:16:44.604427",
     "exception": false,
     "start_time": "2024-11-06T16:16:44.589210",
     "status": "completed"
    },
    "tags": []
   },
   "outputs": [],
   "source": [
    "def get_rows_where_col_equals(df, col, value):\n",
    "\treturn df.loc[df[col] == value].copy()\n",
    " \n",
    "def get_rows_where_col_in(df, col, values):\n",
    "\treturn df.loc[df[col].isin(values)].copy()\n",
    "\n",
    "def get_rows_where_col_greater(df, col, value):\n",
    "\treturn df.loc[df[col] > value].copy()\n",
    "\n",
    "def get_rows_where_col_less(df, col, value):\n",
    "\treturn df.loc[df[col] < value].copy()"
   ]
  },
  {
   "cell_type": "markdown",
   "id": "c75d408e",
   "metadata": {
    "id": "FtzDAFWosw5y",
    "papermill": {
     "duration": 0.004198,
     "end_time": "2024-11-06T16:16:44.612940",
     "exception": false,
     "start_time": "2024-11-06T16:16:44.608742",
     "status": "completed"
    },
    "tags": []
   },
   "source": [
    "### Model definition\n",
    "\n",
    "In this demo, we will use a 8 layer ReLU FCN to obtain the phase diagram of early training. The model can be changed to Myrtle CNNs, ResNets or linear FCNs using the model_util.py"
   ]
  },
  {
   "cell_type": "code",
   "execution_count": 7,
   "id": "83818791",
   "metadata": {
    "execution": {
     "iopub.execute_input": "2024-11-06T16:16:44.622298Z",
     "iopub.status.busy": "2024-11-06T16:16:44.621631Z",
     "iopub.status.idle": "2024-11-06T16:16:44.634100Z",
     "shell.execute_reply": "2024-11-06T16:16:44.633094Z"
    },
    "id": "9PNmudd5tgak",
    "papermill": {
     "duration": 0.018686,
     "end_time": "2024-11-06T16:16:44.635282",
     "exception": false,
     "start_time": "2024-11-06T16:16:44.616596",
     "status": "completed"
    },
    "tags": []
   },
   "outputs": [],
   "source": [
    "def create_train_state(config, batches):\n",
    "    \"\"\"\n",
    "    Description: Creates a Flax train state with learning rate eta = c / sharpness init\n",
    "    Input: \n",
    "        1. config: ml_collections dict which contains the model and optimizer hyperparameters\n",
    "        2. batches: batches used for sharpness estimation\n",
    "    Output:\n",
    "        1. state: Flax state with learning rate eta = c / sharpness init\n",
    "        2. sharpness_init: sharpness at initialization\n",
    "    \"\"\"\n",
    "\n",
    "    #create model\n",
    "    model = models.Myrtle(num_filters=config.width,\n",
    "    num_layers=config.depth,\n",
    "    num_classes=config.num_classes,\n",
    "    use_bias=config.use_bias,\n",
    "    varw=config.varw\n",
    "    )\n",
    "\n",
    "    #initialize the parameters\n",
    "    example = jax.random.normal(config.init_rng, shape = config.in_dim)\n",
    "    init_params = model.init(config.init_rng, example)['params'] #initialize parameters\n",
    "\n",
    "    #create a dummy state and optimizer for sharpness calculation\n",
    "    _opt = optax.sgd(learning_rate = 0.1, momentum = config.momentum)\n",
    "    _state = train_utils.TrainState.create(apply_fn = model.apply, params = init_params, opt = _opt)\n",
    "\n",
    "    #calculate hessian and learning rate\n",
    "    sharpness_init = train_utils.estimate_hessian(_state, batches, num_batches = config.measure_batches, power_iterations = config.power_iterations)\n",
    "    lr_rate = config.lr_const/sharpness_init\n",
    "\n",
    "    # create a new state with learning rate lr_rate; \n",
    "    # updating learning rate does not work since the recemt flax update\n",
    "    opt = optax.sgd(learning_rate = lr_rate, momentum = config.momentum)\n",
    "    state = train_utils.TrainState.create(apply_fn = model.apply, params = init_params, opt = opt)\n",
    "    return state, sharpness_init"
   ]
  },
  {
   "cell_type": "markdown",
   "id": "5fb3f413",
   "metadata": {
    "id": "EToG5ukut2zg",
    "papermill": {
     "duration": 0.004267,
     "end_time": "2024-11-06T16:16:44.643963",
     "exception": false,
     "start_time": "2024-11-06T16:16:44.639696",
     "status": "completed"
    },
    "tags": []
   },
   "source": [
    "### Training loop"
   ]
  },
  {
   "cell_type": "code",
   "execution_count": 8,
   "id": "1f17b9c3",
   "metadata": {
    "execution": {
     "iopub.execute_input": "2024-11-06T16:16:44.654409Z",
     "iopub.status.busy": "2024-11-06T16:16:44.653326Z",
     "iopub.status.idle": "2024-11-06T16:16:44.670607Z",
     "shell.execute_reply": "2024-11-06T16:16:44.669593Z"
    },
    "id": "mMEaFZWKvRX5",
    "papermill": {
     "duration": 0.023918,
     "end_time": "2024-11-06T16:16:44.671788",
     "exception": false,
     "start_time": "2024-11-06T16:16:44.647870",
     "status": "completed"
    },
    "tags": []
   },
   "outputs": [],
   "source": [
    "def train_and_evaluate(config, train_ds):\n",
    "    \"\"\"\n",
    "    Description: Creates a training state and trains for 10 steps\n",
    "    Input: \n",
    "        1. config: ml_collections dictionary containing all the hyperparameters\n",
    "        2. train_ds: tuple (x_train, y_train) of the training data\n",
    "    Output: \n",
    "        1. Divergence: bool; Flag for training divergence\n",
    "        2. train_results: np array containing training loss, sharpness and accuracy trajectories\n",
    "    \"\"\"\n",
    "\n",
    "    train_results = list()\n",
    "\n",
    "    #create train and validation batches using rng\n",
    "    rng = config.sgd_rng\n",
    "    # create train and test batches for measurements: measure batches are called train_batches and val_batches; training batches are called batches\n",
    "    train_batches = data_utils_pytorch.data_stream(rng, train_ds, config.measure_examples)\n",
    "\n",
    "    #create model\n",
    "    state, sharpness_init = create_train_state(config, train_batches)\n",
    "    init_params = state.params\n",
    "\n",
    "    #print(f'Top Hessian init: {sharpness_init:0.4f}, Learning rate: {config.lr_const/sharpness_init:0.4f}')\n",
    "\n",
    "    #measure metrics at initialization\n",
    "    train_loss_init, train_acc_init = train_utils.measure_state(state, train_batches, config.num_train, config.measure_examples)\n",
    "\n",
    "    #store results at init\n",
    "    result_init = jnp.asarray([0, 0, train_loss_init, train_loss_init, train_acc_init, sharpness_init, sharpness_init])\n",
    "    train_results.append(result_init)\n",
    "    print(f'{0}, {0}, {train_loss_init:0.4f}, {train_acc_init:0.4f}, {sharpness_init:0.4f}, {sharpness_init:0.4f}')\n",
    "\n",
    "    divergence = False\n",
    "\n",
    "    for epoch in range(config.num_epochs):\n",
    "\n",
    "        rng, _ = jax.random.split(rng)\n",
    "        batches = data_utils_pytorch.data_stream(rng, train_ds, config.batch_size)\n",
    "\n",
    "        for batch_ix in range(config.num_steps):\n",
    "            #get the next batch and calculate the step\n",
    "            batch = next(batches)\n",
    "            x, y = batch\n",
    "            step = config.num_batches*epoch + batch_ix\n",
    "            \n",
    "            #compute gradient and other metrics and update the model\n",
    "            state, loss_batch = train_utils.train_batch(state, batch)\n",
    "\n",
    "            # hard cut-off on loss divergence; catapult loss is at most of O(width); max width in this experiment is 2048\n",
    "            if loss_batch > 10**5: \n",
    "                divergence = True\n",
    "                break\n",
    "\n",
    "            # evaluate training loss, accuracy and sharpness at step t            \n",
    "            train_loss_step, train_acc_step = train_utils.measure_state(state, train_batches, config.num_train, config.measure_examples)\n",
    "            sharpness_step = train_utils.estimate_hessian(state, batches, num_batches = config.measure_batches, power_iterations = config.power_iterations)\n",
    "    \n",
    "            #store results\n",
    "            result_step = jnp.asarray([step+1, epoch+1, train_loss_step, train_loss_init, train_acc_step, sharpness_step, sharpness_init])\n",
    "            train_results.append(result_step)\n",
    "            print(f'{step+1}, {epoch+1}, {train_loss_step:0.4f}, {train_acc_step:0.4f}, {sharpness_step:0.4f}, {sharpness_init:0.4f}')\n",
    "    \n",
    "    del state\n",
    "    train_results = jnp.asarray(train_results)\n",
    "    train_results = jax.device_get(train_results)\n",
    "    return divergence, train_results\n"
   ]
  },
  {
   "cell_type": "markdown",
   "id": "8f32fa37",
   "metadata": {
    "id": "TRJpM7cTuOdl",
    "papermill": {
     "duration": 0.005967,
     "end_time": "2024-11-06T16:16:44.683283",
     "exception": false,
     "start_time": "2024-11-06T16:16:44.677316",
     "status": "completed"
    },
    "tags": []
   },
   "source": [
    "### Hyperparameters"
   ]
  },
  {
   "cell_type": "code",
   "execution_count": 9,
   "id": "3836d9ed",
   "metadata": {
    "execution": {
     "iopub.execute_input": "2024-11-06T16:16:44.693147Z",
     "iopub.status.busy": "2024-11-06T16:16:44.692463Z",
     "iopub.status.idle": "2024-11-06T16:17:06.928205Z",
     "shell.execute_reply": "2024-11-06T16:17:06.927569Z"
    },
    "id": "bYcCxrDHxXgT",
    "papermill": {
     "duration": 22.242122,
     "end_time": "2024-11-06T16:17:06.929333",
     "exception": false,
     "start_time": "2024-11-06T16:16:44.687211",
     "status": "completed"
    },
    "tags": []
   },
   "outputs": [
    {
     "name": "stdout",
     "output_type": "stream",
     "text": [
      "Files already downloaded and verified\n"
     ]
    },
    {
     "name": "stdout",
     "output_type": "stream",
     "text": [
      "Files already downloaded and verified\n"
     ]
    },
    {
     "name": "stdout",
     "output_type": "stream",
     "text": [
      "(32, 32, 3) ================================\n"
     ]
    }
   ],
   "source": [
    "dataset = 'cifar10'\n",
    "num_classes = 10\n",
    "\n",
    "train_ds, test_ds, info = data_utils_pytorch.load_data_pytorch(dataset, num_classes)\n",
    "\n",
    "#Hyperparameters\n",
    "config = config_dict.ConfigDict()\n",
    "config.num_train, config.num_test = info.num_train, info.num_test\n",
    "\n",
    "config.act = 'relu'\n",
    "config.model = f'fc_{config.act}'\n",
    "config.use_bias = False \n",
    "config.varw = 2.0 # this is the variance of all but last layer\n",
    "config.varwL = 1.0 # last layer variance\n",
    "\n",
    "widths = [128, 256, 512]\n",
    "config.depth = 5\n",
    "config.in_dim = info.in_dim\n",
    "config.num_classes = info.num_classes \n",
    "\n",
    "# batch size\n",
    "config.batch_size = 128\n",
    "# batch size for hessian measurement\n",
    "config.measure_examples = 512\n",
    "#number of batches for hessian measurement\n",
    "config.measure_batches = 1\n",
    "\n",
    "config.num_batches = data_utils_pytorch.estimate_num_batches(config.num_train, config.batch_size)\n",
    "\n",
    "#number of power iterations\n",
    "config.power_iterations = 20\n",
    "\n",
    "#optimizer related hyperparameters\n",
    "# Sample learning rates in powers of 2 starting with 2**0.0\n",
    "lr_exp_start = jax.device_put(0.0)\n",
    "lr_step = 0.2 # step size for increasing the learning rate\n",
    "config.momentum = jax.device_put(0.0) # momentum for sgd\n",
    "config.num_steps = 10 # train for ten steps\n",
    "config.num_epochs = 1 # one epoch only\n",
    "\n",
    "# averages\n",
    "init_averages = 1 #number of initialization averages\n",
    "sgd_runs = 1 # number of sgd runs for each initialization"
   ]
  },
  {
   "cell_type": "markdown",
   "id": "21f8f8a1",
   "metadata": {
    "id": "dQdxQDfkudVk",
    "papermill": {
     "duration": 0.004403,
     "end_time": "2024-11-06T16:17:06.938041",
     "exception": false,
     "start_time": "2024-11-06T16:17:06.933638",
     "status": "completed"
    },
    "tags": []
   },
   "source": [
    "### Early time experiment:\n",
    "\n",
    "* We will train a 8 layer ReLU FCN for 10 steps using MSE loss using SGD with learning rate $\\eta = c / \\lambda_0^H$ and batch size $B = 512$. Here, $\\lambda_0^H$ is the sharpness at initialization. The same experiment can be performed with other architectures by replacing the model definition in the create_train_state function\n",
    "\n",
    "* We will sample learning rate constants $c$ in powers of 2, i.e., $c = 2^x$ with $x$ incremented in steps of $0.1$. \n",
    "\n",
    "* We will start with $x = x_{min} = 0.0$, wich corresponds to $\\eta = 1 / \\lambda_0^H$, as we are interested in the catapult dynamics.\n",
    "\n",
    "* To reduce computational time, we will run the experiment for only one random initialization.\n",
    "\n",
    "\n",
    "Note: This experiment takes about 45 mins to run on a V100 with 16 GB RAM. \n"
   ]
  },
  {
   "cell_type": "code",
   "execution_count": 10,
   "id": "96ef009c",
   "metadata": {
    "colab": {
     "base_uri": "https://localhost:8080/"
    },
    "execution": {
     "iopub.execute_input": "2024-11-06T16:17:06.947114Z",
     "iopub.status.busy": "2024-11-06T16:17:06.946809Z",
     "iopub.status.idle": "2024-11-06T17:31:09.111409Z",
     "shell.execute_reply": "2024-11-06T17:31:09.110461Z"
    },
    "executionInfo": {
     "elapsed": 2111853,
     "status": "ok",
     "timestamp": 1684873580662,
     "user": {
      "displayName": "Dayal",
      "userId": "08303688375445058607"
     },
     "user_tz": 240
    },
    "id": "y4-eRUbixSiE",
    "outputId": "079bdc97-ad79-41ea-c323-a7f0b023d9e4",
    "papermill": {
     "duration": 4442.171055,
     "end_time": "2024-11-06T17:31:09.113227",
     "exception": false,
     "start_time": "2024-11-06T16:17:06.942172",
     "status": "completed"
    },
    "tags": []
   },
   "outputs": [
    {
     "name": "stdout",
     "output_type": "stream",
     "text": [
      "w: 128, d: 5, I: 1, J: 1, x: 0.0, B: 128, t: 10\n"
     ]
    },
    {
     "name": "stdout",
     "output_type": "stream",
     "text": [
      "0, 0, 0.6092, 0.1000, 89.8406, 89.8406\n"
     ]
    },
    {
     "name": "stdout",
     "output_type": "stream",
     "text": [
      "1, 1, 0.1296, 0.0996, 27.9524, 89.8406\n"
     ]
    },
    {
     "name": "stdout",
     "output_type": "stream",
     "text": [
      "2, 1, 0.0905, 0.0991, 28.1488, 89.8406\n"
     ]
    },
    {
     "name": "stdout",
     "output_type": "stream",
     "text": [
      "3, 1, 0.0728, 0.0991, 27.6349, 89.8406\n"
     ]
    },
    {
     "name": "stdout",
     "output_type": "stream",
     "text": [
      "4, 1, 0.0639, 0.0987, 26.8227, 89.8406\n"
     ]
    },
    {
     "name": "stdout",
     "output_type": "stream",
     "text": [
      "5, 1, 0.0588, 0.0974, 27.8646, 89.8406\n"
     ]
    },
    {
     "name": "stdout",
     "output_type": "stream",
     "text": [
      "6, 1, 0.0558, 0.0972, 26.1333, 89.8406\n"
     ]
    },
    {
     "name": "stdout",
     "output_type": "stream",
     "text": [
      "7, 1, 0.0538, 0.0975, 26.8840, 89.8406\n"
     ]
    },
    {
     "name": "stdout",
     "output_type": "stream",
     "text": [
      "8, 1, 0.0527, 0.0978, 26.7269, 89.8406\n"
     ]
    },
    {
     "name": "stdout",
     "output_type": "stream",
     "text": [
      "9, 1, 0.0521, 0.0976, 26.0630, 89.8406\n"
     ]
    },
    {
     "name": "stdout",
     "output_type": "stream",
     "text": [
      "10, 1, 0.0517, 0.0977, 27.7522, 89.8406\n"
     ]
    },
    {
     "name": "stdout",
     "output_type": "stream",
     "text": [
      "w: 128, d: 5, I: 1, J: 1, x: 0.2, B: 128, t: 10\n"
     ]
    },
    {
     "name": "stdout",
     "output_type": "stream",
     "text": [
      "0, 0, 0.6092, 0.1000, 89.8406, 89.8406\n"
     ]
    },
    {
     "name": "stdout",
     "output_type": "stream",
     "text": [
      "1, 1, 0.1094, 0.0997, 28.4678, 89.8406\n"
     ]
    },
    {
     "name": "stdout",
     "output_type": "stream",
     "text": [
      "2, 1, 0.0790, 0.0995, 27.6468, 89.8406\n"
     ]
    },
    {
     "name": "stdout",
     "output_type": "stream",
     "text": [
      "3, 1, 0.0660, 0.0986, 26.9717, 89.8406\n"
     ]
    },
    {
     "name": "stdout",
     "output_type": "stream",
     "text": [
      "4, 1, 0.0594, 0.0979, 26.1076, 89.8406\n"
     ]
    },
    {
     "name": "stdout",
     "output_type": "stream",
     "text": [
      "5, 1, 0.0559, 0.0975, 27.2091, 89.8406\n"
     ]
    },
    {
     "name": "stdout",
     "output_type": "stream",
     "text": [
      "6, 1, 0.0540, 0.0980, 25.4986, 89.8406\n"
     ]
    },
    {
     "name": "stdout",
     "output_type": "stream",
     "text": [
      "7, 1, 0.0526, 0.0979, 26.2775, 89.8406\n"
     ]
    },
    {
     "name": "stdout",
     "output_type": "stream",
     "text": [
      "8, 1, 0.0519, 0.0985, 26.1425, 89.8406\n"
     ]
    },
    {
     "name": "stdout",
     "output_type": "stream",
     "text": [
      "9, 1, 0.0515, 0.0972, 25.4676, 89.8406\n"
     ]
    },
    {
     "name": "stdout",
     "output_type": "stream",
     "text": [
      "10, 1, 0.0511, 0.0982, 27.1563, 89.8406\n"
     ]
    },
    {
     "name": "stdout",
     "output_type": "stream",
     "text": [
      "w: 128, d: 5, I: 1, J: 1, x: 0.4, B: 128, t: 10\n"
     ]
    },
    {
     "name": "stdout",
     "output_type": "stream",
     "text": [
      "0, 0, 0.6092, 0.1000, 89.8406, 89.8406\n"
     ]
    },
    {
     "name": "stdout",
     "output_type": "stream",
     "text": [
      "1, 1, 0.0956, 0.0969, 29.1484, 89.8406\n"
     ]
    },
    {
     "name": "stdout",
     "output_type": "stream",
     "text": [
      "2, 1, 0.0697, 0.0979, 26.8493, 89.8406\n"
     ]
    },
    {
     "name": "stdout",
     "output_type": "stream",
     "text": [
      "3, 1, 0.0606, 0.0965, 26.0755, 89.8406\n"
     ]
    },
    {
     "name": "stdout",
     "output_type": "stream",
     "text": [
      "4, 1, 0.0561, 0.0973, 25.1897, 89.8406\n"
     ]
    },
    {
     "name": "stdout",
     "output_type": "stream",
     "text": [
      "5, 1, 0.0539, 0.0978, 26.3468, 89.8406\n"
     ]
    },
    {
     "name": "stdout",
     "output_type": "stream",
     "text": [
      "6, 1, 0.0527, 0.0989, 24.6916, 89.8406\n"
     ]
    },
    {
     "name": "stdout",
     "output_type": "stream",
     "text": [
      "7, 1, 0.0517, 0.0984, 25.4464, 89.8406\n"
     ]
    },
    {
     "name": "stdout",
     "output_type": "stream",
     "text": [
      "8, 1, 0.0512, 0.0980, 25.3803, 89.8406\n"
     ]
    },
    {
     "name": "stdout",
     "output_type": "stream",
     "text": [
      "9, 1, 0.0510, 0.0983, 24.6321, 89.8406\n"
     ]
    },
    {
     "name": "stdout",
     "output_type": "stream",
     "text": [
      "10, 1, 0.0507, 0.0983, 26.3311, 89.8406\n"
     ]
    },
    {
     "name": "stdout",
     "output_type": "stream",
     "text": [
      "w: 128, d: 5, I: 1, J: 1, x: 0.6, B: 128, t: 10\n"
     ]
    },
    {
     "name": "stdout",
     "output_type": "stream",
     "text": [
      "0, 0, 0.6092, 0.1000, 89.8406, 89.8406\n"
     ]
    },
    {
     "name": "stdout",
     "output_type": "stream",
     "text": [
      "1, 1, 0.0894, 0.0985, 30.1152, 89.8406\n"
     ]
    },
    {
     "name": "stdout",
     "output_type": "stream",
     "text": [
      "2, 1, 0.0625, 0.0969, 25.6833, 89.8406\n"
     ]
    },
    {
     "name": "stdout",
     "output_type": "stream",
     "text": [
      "3, 1, 0.0566, 0.0964, 24.9211, 89.8406\n"
     ]
    },
    {
     "name": "stdout",
     "output_type": "stream",
     "text": [
      "4, 1, 0.0537, 0.0983, 24.0590, 89.8406\n"
     ]
    },
    {
     "name": "stdout",
     "output_type": "stream",
     "text": [
      "5, 1, 0.0524, 0.0983, 25.2680, 89.8406\n"
     ]
    },
    {
     "name": "stdout",
     "output_type": "stream",
     "text": [
      "6, 1, 0.0518, 0.0981, 23.6554, 89.8406\n"
     ]
    },
    {
     "name": "stdout",
     "output_type": "stream",
     "text": [
      "7, 1, 0.0510, 0.0985, 24.3734, 89.8406\n"
     ]
    },
    {
     "name": "stdout",
     "output_type": "stream",
     "text": [
      "8, 1, 0.0507, 0.0990, 24.3366, 89.8406\n"
     ]
    },
    {
     "name": "stdout",
     "output_type": "stream",
     "text": [
      "9, 1, 0.0505, 0.0985, 23.5544, 89.8406\n"
     ]
    },
    {
     "name": "stdout",
     "output_type": "stream",
     "text": [
      "10, 1, 0.0503, 0.0988, 25.2331, 89.8406\n"
     ]
    },
    {
     "name": "stdout",
     "output_type": "stream",
     "text": [
      "w: 128, d: 5, I: 1, J: 1, x: 0.8, B: 128, t: 10\n"
     ]
    },
    {
     "name": "stdout",
     "output_type": "stream",
     "text": [
      "0, 0, 0.6092, 0.1000, 89.8406, 89.8406\n"
     ]
    },
    {
     "name": "stdout",
     "output_type": "stream",
     "text": [
      "1, 1, 0.0917, 0.0988, 31.2589, 89.8406\n"
     ]
    },
    {
     "name": "stdout",
     "output_type": "stream",
     "text": [
      "2, 1, 0.0574, 0.0982, 24.0638, 89.8406\n"
     ]
    },
    {
     "name": "stdout",
     "output_type": "stream",
     "text": [
      "3, 1, 0.0539, 0.0973, 23.4741, 89.8406\n"
     ]
    },
    {
     "name": "stdout",
     "output_type": "stream",
     "text": [
      "4, 1, 0.0521, 0.0980, 22.6764, 89.8406\n"
     ]
    },
    {
     "name": "stdout",
     "output_type": "stream",
     "text": [
      "5, 1, 0.0514, 0.0987, 23.8838, 89.8406\n"
     ]
    },
    {
     "name": "stdout",
     "output_type": "stream",
     "text": [
      "6, 1, 0.0511, 0.0986, 22.3327, 89.8406\n"
     ]
    },
    {
     "name": "stdout",
     "output_type": "stream",
     "text": [
      "7, 1, 0.0505, 0.0987, 22.9668, 89.8406\n"
     ]
    },
    {
     "name": "stdout",
     "output_type": "stream",
     "text": [
      "8, 1, 0.0503, 0.0991, 23.0364, 89.8406\n"
     ]
    },
    {
     "name": "stdout",
     "output_type": "stream",
     "text": [
      "9, 1, 0.0501, 0.0990, 22.1269, 89.8406\n"
     ]
    },
    {
     "name": "stdout",
     "output_type": "stream",
     "text": [
      "10, 1, 0.0499, 0.0990, 23.7753, 89.8406\n"
     ]
    },
    {
     "name": "stdout",
     "output_type": "stream",
     "text": [
      "w: 128, d: 5, I: 1, J: 1, x: 1.0, B: 128, t: 10\n"
     ]
    },
    {
     "name": "stdout",
     "output_type": "stream",
     "text": [
      "0, 0, 0.6092, 0.1000, 89.8406, 89.8406\n"
     ]
    },
    {
     "name": "stdout",
     "output_type": "stream",
     "text": [
      "1, 1, 0.1029, 0.0983, 32.7105, 89.8406\n"
     ]
    },
    {
     "name": "stdout",
     "output_type": "stream",
     "text": [
      "2, 1, 0.0547, 0.0985, 21.9990, 89.8406\n"
     ]
    },
    {
     "name": "stdout",
     "output_type": "stream",
     "text": [
      "3, 1, 0.0523, 0.0985, 21.7165, 89.8406\n"
     ]
    },
    {
     "name": "stdout",
     "output_type": "stream",
     "text": [
      "4, 1, 0.0511, 0.0981, 20.9944, 89.8406\n"
     ]
    },
    {
     "name": "stdout",
     "output_type": "stream",
     "text": [
      "5, 1, 0.0507, 0.0993, 22.1107, 89.8406\n"
     ]
    },
    {
     "name": "stdout",
     "output_type": "stream",
     "text": [
      "6, 1, 0.0505, 0.0996, 20.6403, 89.8406\n"
     ]
    },
    {
     "name": "stdout",
     "output_type": "stream",
     "text": [
      "7, 1, 0.0500, 0.0989, 21.2426, 89.8406\n"
     ]
    },
    {
     "name": "stdout",
     "output_type": "stream",
     "text": [
      "8, 1, 0.0498, 0.0995, 21.3576, 89.8406\n"
     ]
    },
    {
     "name": "stdout",
     "output_type": "stream",
     "text": [
      "9, 1, 0.0496, 0.0985, 20.4062, 89.8406\n"
     ]
    },
    {
     "name": "stdout",
     "output_type": "stream",
     "text": [
      "10, 1, 0.0495, 0.0996, 21.8961, 89.8406\n"
     ]
    },
    {
     "name": "stdout",
     "output_type": "stream",
     "text": [
      "w: 128, d: 5, I: 1, J: 1, x: 1.2, B: 128, t: 10\n"
     ]
    },
    {
     "name": "stdout",
     "output_type": "stream",
     "text": [
      "0, 0, 0.6092, 0.1000, 89.8406, 89.8406\n"
     ]
    },
    {
     "name": "stdout",
     "output_type": "stream",
     "text": [
      "1, 1, 0.1226, 0.0990, 34.3859, 89.8406\n"
     ]
    },
    {
     "name": "stdout",
     "output_type": "stream",
     "text": [
      "2, 1, 0.0544, 0.0988, 19.3652, 89.8406\n"
     ]
    },
    {
     "name": "stdout",
     "output_type": "stream",
     "text": [
      "3, 1, 0.0518, 0.0984, 19.7109, 89.8406\n"
     ]
    },
    {
     "name": "stdout",
     "output_type": "stream",
     "text": [
      "4, 1, 0.0505, 0.0983, 19.0457, 89.8406\n"
     ]
    },
    {
     "name": "stdout",
     "output_type": "stream",
     "text": [
      "5, 1, 0.0501, 0.0990, 20.0529, 89.8406\n"
     ]
    },
    {
     "name": "stdout",
     "output_type": "stream",
     "text": [
      "6, 1, 0.0500, 0.1003, 18.6525, 89.8406\n"
     ]
    },
    {
     "name": "stdout",
     "output_type": "stream",
     "text": [
      "7, 1, 0.0496, 0.0995, 19.2281, 89.8406\n"
     ]
    },
    {
     "name": "stdout",
     "output_type": "stream",
     "text": [
      "8, 1, 0.0494, 0.0988, 19.3250, 89.8406\n"
     ]
    },
    {
     "name": "stdout",
     "output_type": "stream",
     "text": [
      "9, 1, 0.0492, 0.0982, 18.4854, 89.8406\n"
     ]
    },
    {
     "name": "stdout",
     "output_type": "stream",
     "text": [
      "10, 1, 0.0491, 0.1003, 19.6709, 89.8406\n"
     ]
    },
    {
     "name": "stdout",
     "output_type": "stream",
     "text": [
      "w: 128, d: 5, I: 1, J: 1, x: 1.4, B: 128, t: 10\n"
     ]
    },
    {
     "name": "stdout",
     "output_type": "stream",
     "text": [
      "0, 0, 0.6092, 0.1000, 89.8406, 89.8406\n"
     ]
    },
    {
     "name": "stdout",
     "output_type": "stream",
     "text": [
      "1, 1, 0.1495, 0.0999, 36.2797, 89.8406\n"
     ]
    },
    {
     "name": "stdout",
     "output_type": "stream",
     "text": [
      "2, 1, 0.0565, 0.0999, 16.7820, 89.8406\n"
     ]
    },
    {
     "name": "stdout",
     "output_type": "stream",
     "text": [
      "3, 1, 0.0518, 0.0985, 17.5160, 89.8406\n"
     ]
    },
    {
     "name": "stdout",
     "output_type": "stream",
     "text": [
      "4, 1, 0.0503, 0.0986, 17.0350, 89.8406\n"
     ]
    },
    {
     "name": "stdout",
     "output_type": "stream",
     "text": [
      "5, 1, 0.0498, 0.0995, 17.8200, 89.8406\n"
     ]
    },
    {
     "name": "stdout",
     "output_type": "stream",
     "text": [
      "6, 1, 0.0496, 0.0997, 16.6956, 89.8406\n"
     ]
    },
    {
     "name": "stdout",
     "output_type": "stream",
     "text": [
      "7, 1, 0.0491, 0.0991, 17.0656, 89.8406\n"
     ]
    },
    {
     "name": "stdout",
     "output_type": "stream",
     "text": [
      "8, 1, 0.0490, 0.0995, 17.1355, 89.8406\n"
     ]
    },
    {
     "name": "stdout",
     "output_type": "stream",
     "text": [
      "9, 1, 0.0488, 0.0996, 16.4698, 89.8406\n"
     ]
    },
    {
     "name": "stdout",
     "output_type": "stream",
     "text": [
      "10, 1, 0.0487, 0.0996, 17.2506, 89.8406\n"
     ]
    },
    {
     "name": "stdout",
     "output_type": "stream",
     "text": [
      "w: 128, d: 5, I: 1, J: 1, x: 1.6, B: 128, t: 10\n"
     ]
    },
    {
     "name": "stdout",
     "output_type": "stream",
     "text": [
      "0, 0, 0.6092, 0.1000, 89.8406, 89.8406\n"
     ]
    },
    {
     "name": "stdout",
     "output_type": "stream",
     "text": [
      "1, 1, 0.1825, 0.1001, 38.4741, 89.8406\n"
     ]
    },
    {
     "name": "stdout",
     "output_type": "stream",
     "text": [
      "2, 1, 0.0608, 0.0997, 18.5856, 89.8406\n"
     ]
    },
    {
     "name": "stdout",
     "output_type": "stream",
     "text": [
      "3, 1, 0.0516, 0.0986, 16.1791, 89.8406\n"
     ]
    },
    {
     "name": "stdout",
     "output_type": "stream",
     "text": [
      "4, 1, 0.0500, 0.0978, 15.6675, 89.8406\n"
     ]
    },
    {
     "name": "stdout",
     "output_type": "stream",
     "text": [
      "5, 1, 0.0494, 0.1000, 16.5009, 89.8406\n"
     ]
    },
    {
     "name": "stdout",
     "output_type": "stream",
     "text": [
      "6, 1, 0.0492, 0.0996, 15.5969, 89.8406\n"
     ]
    },
    {
     "name": "stdout",
     "output_type": "stream",
     "text": [
      "7, 1, 0.0488, 0.0993, 15.4596, 89.8406\n"
     ]
    },
    {
     "name": "stdout",
     "output_type": "stream",
     "text": [
      "8, 1, 0.0486, 0.0998, 15.4483, 89.8406\n"
     ]
    },
    {
     "name": "stdout",
     "output_type": "stream",
     "text": [
      "9, 1, 0.0484, 0.1005, 15.0029, 89.8406\n"
     ]
    },
    {
     "name": "stdout",
     "output_type": "stream",
     "text": [
      "10, 1, 0.0483, 0.0986, 15.0380, 89.8406\n"
     ]
    },
    {
     "name": "stdout",
     "output_type": "stream",
     "text": [
      "w: 128, d: 5, I: 1, J: 1, x: 1.8, B: 128, t: 10\n"
     ]
    },
    {
     "name": "stdout",
     "output_type": "stream",
     "text": [
      "0, 0, 0.6092, 0.1000, 89.8406, 89.8406\n"
     ]
    },
    {
     "name": "stdout",
     "output_type": "stream",
     "text": [
      "1, 1, 0.2211, 0.1001, 41.0564, 89.8406\n"
     ]
    },
    {
     "name": "stdout",
     "output_type": "stream",
     "text": [
      "2, 1, 0.0678, 0.1005, 18.1918, 89.8406\n"
     ]
    },
    {
     "name": "stdout",
     "output_type": "stream",
     "text": [
      "3, 1, 0.0508, 0.0987, 14.2318, 89.8406\n"
     ]
    },
    {
     "name": "stdout",
     "output_type": "stream",
     "text": [
      "4, 1, 0.0494, 0.0980, 13.9578, 89.8406\n"
     ]
    },
    {
     "name": "stdout",
     "output_type": "stream",
     "text": [
      "5, 1, 0.0488, 0.0987, 14.3141, 89.8406\n"
     ]
    },
    {
     "name": "stdout",
     "output_type": "stream",
     "text": [
      "6, 1, 0.0486, 0.0991, 13.7932, 89.8406\n"
     ]
    },
    {
     "name": "stdout",
     "output_type": "stream",
     "text": [
      "7, 1, 0.0483, 0.0989, 13.6984, 89.8406\n"
     ]
    },
    {
     "name": "stdout",
     "output_type": "stream",
     "text": [
      "8, 1, 0.0481, 0.0995, 13.6942, 89.8406\n"
     ]
    },
    {
     "name": "stdout",
     "output_type": "stream",
     "text": [
      "9, 1, 0.0480, 0.1006, 13.3979, 89.8406\n"
     ]
    },
    {
     "name": "stdout",
     "output_type": "stream",
     "text": [
      "10, 1, 0.0478, 0.0983, 13.2888, 89.8406\n"
     ]
    },
    {
     "name": "stdout",
     "output_type": "stream",
     "text": [
      "w: 128, d: 5, I: 1, J: 1, x: 2.0, B: 128, t: 10\n"
     ]
    },
    {
     "name": "stdout",
     "output_type": "stream",
     "text": [
      "0, 0, 0.6092, 0.1000, 89.8406, 89.8406\n"
     ]
    },
    {
     "name": "stdout",
     "output_type": "stream",
     "text": [
      "1, 1, 0.2665, 0.1000, 44.2801, 89.8406\n"
     ]
    },
    {
     "name": "stdout",
     "output_type": "stream",
     "text": [
      "2, 1, 0.0778, 0.1000, 18.0160, 89.8406\n"
     ]
    },
    {
     "name": "stdout",
     "output_type": "stream",
     "text": [
      "3, 1, 0.0502, 0.1006, 12.0503, 89.8406\n"
     ]
    },
    {
     "name": "stdout",
     "output_type": "stream",
     "text": [
      "4, 1, 0.0487, 0.0991, 11.9448, 89.8406\n"
     ]
    },
    {
     "name": "stdout",
     "output_type": "stream",
     "text": [
      "5, 1, 0.0481, 0.1001, 12.0408, 89.8406\n"
     ]
    },
    {
     "name": "stdout",
     "output_type": "stream",
     "text": [
      "6, 1, 0.0480, 0.0991, 11.7768, 89.8406\n"
     ]
    },
    {
     "name": "stdout",
     "output_type": "stream",
     "text": [
      "7, 1, 0.0477, 0.0996, 11.6262, 89.8406\n"
     ]
    },
    {
     "name": "stdout",
     "output_type": "stream",
     "text": [
      "8, 1, 0.0476, 0.1001, 11.6894, 89.8406\n"
     ]
    },
    {
     "name": "stdout",
     "output_type": "stream",
     "text": [
      "9, 1, 0.0475, 0.1002, 11.4392, 89.8406\n"
     ]
    },
    {
     "name": "stdout",
     "output_type": "stream",
     "text": [
      "10, 1, 0.0474, 0.0990, 11.2162, 89.8406\n"
     ]
    },
    {
     "name": "stdout",
     "output_type": "stream",
     "text": [
      "w: 128, d: 5, I: 1, J: 1, x: 2.2, B: 128, t: 10\n"
     ]
    },
    {
     "name": "stdout",
     "output_type": "stream",
     "text": [
      "0, 0, 0.6092, 0.1000, 89.8406, 89.8406\n"
     ]
    },
    {
     "name": "stdout",
     "output_type": "stream",
     "text": [
      "1, 1, 0.3210, 0.1000, 48.2569, 89.8406\n"
     ]
    },
    {
     "name": "stdout",
     "output_type": "stream",
     "text": [
      "2, 1, 0.0908, 0.0997, 17.9296, 89.8406\n"
     ]
    },
    {
     "name": "stdout",
     "output_type": "stream",
     "text": [
      "3, 1, 0.0509, 0.1004, 10.0254, 89.8406\n"
     ]
    },
    {
     "name": "stdout",
     "output_type": "stream",
     "text": [
      "4, 1, 0.0485, 0.0996, 9.8814, 89.8406\n"
     ]
    },
    {
     "name": "stdout",
     "output_type": "stream",
     "text": [
      "5, 1, 0.0475, 0.1014, 9.5814, 89.8406\n"
     ]
    },
    {
     "name": "stdout",
     "output_type": "stream",
     "text": [
      "6, 1, 0.0474, 0.0999, 9.4831, 89.8406\n"
     ]
    },
    {
     "name": "stdout",
     "output_type": "stream",
     "text": [
      "7, 1, 0.0471, 0.0992, 9.3988, 89.8406\n"
     ]
    },
    {
     "name": "stdout",
     "output_type": "stream",
     "text": [
      "8, 1, 0.0470, 0.0996, 9.4771, 89.8406\n"
     ]
    },
    {
     "name": "stdout",
     "output_type": "stream",
     "text": [
      "9, 1, 0.0470, 0.1008, 9.3551, 89.8406\n"
     ]
    },
    {
     "name": "stdout",
     "output_type": "stream",
     "text": [
      "10, 1, 0.0469, 0.1001, 9.2401, 89.8406\n"
     ]
    },
    {
     "name": "stdout",
     "output_type": "stream",
     "text": [
      "w: 128, d: 5, I: 1, J: 1, x: 2.4, B: 128, t: 10\n"
     ]
    },
    {
     "name": "stdout",
     "output_type": "stream",
     "text": [
      "0, 0, 0.6092, 0.1000, 89.8406, 89.8406\n"
     ]
    },
    {
     "name": "stdout",
     "output_type": "stream",
     "text": [
      "1, 1, 0.3883, 0.1000, 53.3870, 89.8406\n"
     ]
    },
    {
     "name": "stdout",
     "output_type": "stream",
     "text": [
      "2, 1, 0.1061, 0.0998, 18.0392, 89.8406\n"
     ]
    },
    {
     "name": "stdout",
     "output_type": "stream",
     "text": [
      "3, 1, 0.0529, 0.1007, 8.3117, 89.8406\n"
     ]
    },
    {
     "name": "stdout",
     "output_type": "stream",
     "text": [
      "4, 1, 0.0494, 0.1018, 7.9788, 89.8406\n"
     ]
    },
    {
     "name": "stdout",
     "output_type": "stream",
     "text": [
      "5, 1, 0.0477, 0.1002, 7.5493, 89.8406\n"
     ]
    },
    {
     "name": "stdout",
     "output_type": "stream",
     "text": [
      "6, 1, 0.0472, 0.1002, 7.4036, 89.8406\n"
     ]
    },
    {
     "name": "stdout",
     "output_type": "stream",
     "text": [
      "7, 1, 0.0468, 0.1001, 7.4195, 89.8406\n"
     ]
    },
    {
     "name": "stdout",
     "output_type": "stream",
     "text": [
      "8, 1, 0.0466, 0.0996, 7.4609, 89.8406\n"
     ]
    },
    {
     "name": "stdout",
     "output_type": "stream",
     "text": [
      "9, 1, 0.0465, 0.1007, 7.3509, 89.8406\n"
     ]
    },
    {
     "name": "stdout",
     "output_type": "stream",
     "text": [
      "10, 1, 0.0465, 0.0998, 7.4239, 89.8406\n"
     ]
    },
    {
     "name": "stdout",
     "output_type": "stream",
     "text": [
      "w: 128, d: 5, I: 1, J: 1, x: 2.6, B: 128, t: 10\n"
     ]
    },
    {
     "name": "stdout",
     "output_type": "stream",
     "text": [
      "0, 0, 0.6092, 0.1000, 89.8406, 89.8406\n"
     ]
    },
    {
     "name": "stdout",
     "output_type": "stream",
     "text": [
      "1, 1, 0.4740, 0.1000, 60.0696, 89.8406\n"
     ]
    },
    {
     "name": "stdout",
     "output_type": "stream",
     "text": [
      "2, 1, 0.1217, 0.0997, 18.3463, 89.8406\n"
     ]
    },
    {
     "name": "stdout",
     "output_type": "stream",
     "text": [
      "3, 1, 0.0548, 0.1001, 7.1213, 89.8406\n"
     ]
    },
    {
     "name": "stdout",
     "output_type": "stream",
     "text": [
      "4, 1, 0.0507, 0.1000, 6.5456, 89.8406\n"
     ]
    },
    {
     "name": "stdout",
     "output_type": "stream",
     "text": [
      "5, 1, 0.0485, 0.1014, 5.8856, 89.8406\n"
     ]
    },
    {
     "name": "stdout",
     "output_type": "stream",
     "text": [
      "6, 1, 0.0476, 0.1016, 5.5082, 89.8406\n"
     ]
    },
    {
     "name": "stdout",
     "output_type": "stream",
     "text": [
      "7, 1, 0.0470, 0.1017, 5.4461, 89.8406\n"
     ]
    },
    {
     "name": "stdout",
     "output_type": "stream",
     "text": [
      "8, 1, 0.0466, 0.1015, 5.3438, 89.8406\n"
     ]
    },
    {
     "name": "stdout",
     "output_type": "stream",
     "text": [
      "9, 1, 0.0464, 0.1020, 5.3501, 89.8406\n"
     ]
    },
    {
     "name": "stdout",
     "output_type": "stream",
     "text": [
      "10, 1, 0.0463, 0.1016, 5.8473, 89.8406\n"
     ]
    },
    {
     "name": "stdout",
     "output_type": "stream",
     "text": [
      "w: 128, d: 5, I: 1, J: 1, x: 2.8, B: 128, t: 10\n"
     ]
    },
    {
     "name": "stdout",
     "output_type": "stream",
     "text": [
      "0, 0, 0.6092, 0.1000, 89.8406, 89.8406\n"
     ]
    },
    {
     "name": "stdout",
     "output_type": "stream",
     "text": [
      "1, 1, 0.5858, 0.1000, 68.5412, 89.8406\n"
     ]
    },
    {
     "name": "stdout",
     "output_type": "stream",
     "text": [
      "2, 1, 0.1385, 0.1005, 19.3996, 89.8406\n"
     ]
    },
    {
     "name": "stdout",
     "output_type": "stream",
     "text": [
      "3, 1, 0.0546, 0.0999, 6.6062, 89.8406\n"
     ]
    },
    {
     "name": "stdout",
     "output_type": "stream",
     "text": [
      "4, 1, 0.0504, 0.1004, 5.4731, 89.8406\n"
     ]
    },
    {
     "name": "stdout",
     "output_type": "stream",
     "text": [
      "5, 1, 0.0483, 0.1006, 5.1703, 89.8406\n"
     ]
    },
    {
     "name": "stdout",
     "output_type": "stream",
     "text": [
      "6, 1, 0.0474, 0.1016, 4.8912, 89.8406\n"
     ]
    },
    {
     "name": "stdout",
     "output_type": "stream",
     "text": [
      "7, 1, 0.0468, 0.1014, 4.9400, 89.8406\n"
     ]
    },
    {
     "name": "stdout",
     "output_type": "stream",
     "text": [
      "8, 1, 0.0464, 0.1006, 4.8321, 89.8406\n"
     ]
    },
    {
     "name": "stdout",
     "output_type": "stream",
     "text": [
      "9, 1, 0.0463, 0.1012, 4.9677, 89.8406\n"
     ]
    },
    {
     "name": "stdout",
     "output_type": "stream",
     "text": [
      "10, 1, 0.0462, 0.1006, 5.4688, 89.8406\n"
     ]
    },
    {
     "name": "stdout",
     "output_type": "stream",
     "text": [
      "w: 128, d: 5, I: 1, J: 1, x: 3.0, B: 128, t: 10\n"
     ]
    },
    {
     "name": "stdout",
     "output_type": "stream",
     "text": [
      "0, 0, 0.6092, 0.1000, 89.8406, 89.8406\n"
     ]
    },
    {
     "name": "stdout",
     "output_type": "stream",
     "text": [
      "1, 1, 0.7360, 0.1000, 79.5810, 89.8406\n"
     ]
    },
    {
     "name": "stdout",
     "output_type": "stream",
     "text": [
      "2, 1, 0.1608, 0.1001, 21.4654, 89.8406\n"
     ]
    },
    {
     "name": "stdout",
     "output_type": "stream",
     "text": [
      "3, 1, 0.0536, 0.0999, 5.9956, 89.8406\n"
     ]
    },
    {
     "name": "stdout",
     "output_type": "stream",
     "text": [
      "4, 1, 0.0492, 0.0999, 4.6225, 89.8406\n"
     ]
    },
    {
     "name": "stdout",
     "output_type": "stream",
     "text": [
      "5, 1, 0.0477, 0.1006, 4.4097, 89.8406\n"
     ]
    },
    {
     "name": "stdout",
     "output_type": "stream",
     "text": [
      "6, 1, 0.0471, 0.0998, 4.1340, 89.8406\n"
     ]
    },
    {
     "name": "stdout",
     "output_type": "stream",
     "text": [
      "7, 1, 0.0466, 0.1012, 4.1809, 89.8406\n"
     ]
    },
    {
     "name": "stdout",
     "output_type": "stream",
     "text": [
      "8, 1, 0.0463, 0.1015, 4.0827, 89.8406\n"
     ]
    },
    {
     "name": "stdout",
     "output_type": "stream",
     "text": [
      "9, 1, 0.0461, 0.1009, 4.2192, 89.8406\n"
     ]
    },
    {
     "name": "stdout",
     "output_type": "stream",
     "text": [
      "10, 1, 0.0461, 0.1002, 4.6789, 89.8406\n"
     ]
    },
    {
     "name": "stdout",
     "output_type": "stream",
     "text": [
      "w: 128, d: 5, I: 1, J: 1, x: 3.2, B: 128, t: 10\n"
     ]
    },
    {
     "name": "stdout",
     "output_type": "stream",
     "text": [
      "0, 0, 0.6092, 0.1000, 89.8406, 89.8406\n"
     ]
    },
    {
     "name": "stdout",
     "output_type": "stream",
     "text": [
      "1, 1, 0.9431, 0.1000, 93.9778, 89.8406\n"
     ]
    },
    {
     "name": "stdout",
     "output_type": "stream",
     "text": [
      "2, 1, 0.1905, 0.1001, 24.3967, 89.8406\n"
     ]
    },
    {
     "name": "stdout",
     "output_type": "stream",
     "text": [
      "3, 1, 0.0536, 0.0988, 4.9207, 89.8406\n"
     ]
    },
    {
     "name": "stdout",
     "output_type": "stream",
     "text": [
      "4, 1, 0.0488, 0.0997, 3.5699, 89.8406\n"
     ]
    },
    {
     "name": "stdout",
     "output_type": "stream",
     "text": [
      "5, 1, 0.0475, 0.1009, 3.3578, 89.8406\n"
     ]
    },
    {
     "name": "stdout",
     "output_type": "stream",
     "text": [
      "6, 1, 0.0469, 0.0994, 3.1158, 89.8406\n"
     ]
    },
    {
     "name": "stdout",
     "output_type": "stream",
     "text": [
      "7, 1, 0.0466, 0.1009, 3.1695, 89.8406\n"
     ]
    },
    {
     "name": "stdout",
     "output_type": "stream",
     "text": [
      "8, 1, 0.0463, 0.1021, 3.0361, 89.8406\n"
     ]
    },
    {
     "name": "stdout",
     "output_type": "stream",
     "text": [
      "9, 1, 0.0461, 0.1002, 3.1660, 89.8406\n"
     ]
    },
    {
     "name": "stdout",
     "output_type": "stream",
     "text": [
      "10, 1, 0.0461, 0.1002, 3.5471, 89.8406\n"
     ]
    },
    {
     "name": "stdout",
     "output_type": "stream",
     "text": [
      "w: 128, d: 5, I: 1, J: 1, x: 3.4, B: 128, t: 10\n"
     ]
    },
    {
     "name": "stdout",
     "output_type": "stream",
     "text": [
      "0, 0, 0.6092, 0.1000, 89.8406, 89.8406\n"
     ]
    },
    {
     "name": "stdout",
     "output_type": "stream",
     "text": [
      "1, 1, 1.2367, 0.1000, 112.8928, 89.8406\n"
     ]
    },
    {
     "name": "stdout",
     "output_type": "stream",
     "text": [
      "2, 1, 0.2306, 0.0998, 28.3798, 89.8406\n"
     ]
    },
    {
     "name": "stdout",
     "output_type": "stream",
     "text": [
      "3, 1, 0.0540, 0.0998, 3.7153, 89.8406\n"
     ]
    },
    {
     "name": "stdout",
     "output_type": "stream",
     "text": [
      "4, 1, 0.0496, 0.0997, 2.4685, 89.8406\n"
     ]
    },
    {
     "name": "stdout",
     "output_type": "stream",
     "text": [
      "5, 1, 0.0482, 0.1002, 2.3929, 89.8406\n"
     ]
    },
    {
     "name": "stdout",
     "output_type": "stream",
     "text": [
      "6, 1, 0.0473, 0.0998, 2.0564, 89.8406\n"
     ]
    },
    {
     "name": "stdout",
     "output_type": "stream",
     "text": [
      "7, 1, 0.0468, 0.0997, 2.3581, 89.8406\n"
     ]
    },
    {
     "name": "stdout",
     "output_type": "stream",
     "text": [
      "8, 1, 0.0465, 0.0991, 1.9925, 89.8406\n"
     ]
    },
    {
     "name": "stdout",
     "output_type": "stream",
     "text": [
      "9, 1, 0.0463, 0.0992, 2.3597, 89.8406\n"
     ]
    },
    {
     "name": "stdout",
     "output_type": "stream",
     "text": [
      "10, 1, 0.0461, 0.0996, 2.6313, 89.8406\n"
     ]
    },
    {
     "name": "stdout",
     "output_type": "stream",
     "text": [
      "w: 128, d: 5, I: 1, J: 1, x: 3.6, B: 128, t: 10\n"
     ]
    },
    {
     "name": "stdout",
     "output_type": "stream",
     "text": [
      "0, 0, 0.6092, 0.1000, 89.8406, 89.8406\n"
     ]
    },
    {
     "name": "stdout",
     "output_type": "stream",
     "text": [
      "1, 1, 1.6642, 0.1000, 138.3568, 89.8406\n"
     ]
    },
    {
     "name": "stdout",
     "output_type": "stream",
     "text": [
      "2, 1, 0.2941, 0.0994, 34.8127, 89.8406\n"
     ]
    },
    {
     "name": "stdout",
     "output_type": "stream",
     "text": [
      "3, 1, 0.0548, 0.0998, 3.3250, 89.8406\n"
     ]
    },
    {
     "name": "stdout",
     "output_type": "stream",
     "text": [
      "4, 1, 0.0512, 0.1002, 1.5819, 89.8406\n"
     ]
    },
    {
     "name": "stdout",
     "output_type": "stream",
     "text": [
      "5, 1, 0.0496, 0.1004, 1.5857, 89.8406\n"
     ]
    },
    {
     "name": "stdout",
     "output_type": "stream",
     "text": [
      "6, 1, 0.0485, 0.1005, 1.4698, 89.8406\n"
     ]
    },
    {
     "name": "stdout",
     "output_type": "stream",
     "text": [
      "7, 1, 0.0478, 0.1002, 1.4350, 89.8406\n"
     ]
    },
    {
     "name": "stdout",
     "output_type": "stream",
     "text": [
      "8, 1, 0.0473, 0.1000, 1.4974, 89.8406\n"
     ]
    },
    {
     "name": "stdout",
     "output_type": "stream",
     "text": [
      "9, 1, 0.0469, 0.1005, 1.4159, 89.8406\n"
     ]
    },
    {
     "name": "stdout",
     "output_type": "stream",
     "text": [
      "10, 1, 0.0467, 0.1003, 1.4945, 89.8406\n"
     ]
    },
    {
     "name": "stdout",
     "output_type": "stream",
     "text": [
      "w: 128, d: 5, I: 1, J: 1, x: 3.8, B: 128, t: 10\n"
     ]
    },
    {
     "name": "stdout",
     "output_type": "stream",
     "text": [
      "0, 0, 0.6092, 0.1000, 89.8406, 89.8406\n"
     ]
    },
    {
     "name": "stdout",
     "output_type": "stream",
     "text": [
      "1, 1, 2.3032, 0.1000, 173.3318, 89.8406\n"
     ]
    },
    {
     "name": "stdout",
     "output_type": "stream",
     "text": [
      "2, 1, 0.4500, 0.1003, 48.7076, 89.8406\n"
     ]
    },
    {
     "name": "stdout",
     "output_type": "stream",
     "text": [
      "3, 1, 0.0571, 0.0994, 3.5241, 89.8406\n"
     ]
    },
    {
     "name": "stdout",
     "output_type": "stream",
     "text": [
      "4, 1, 0.0518, 0.0998, 1.9064, 89.8406\n"
     ]
    },
    {
     "name": "stdout",
     "output_type": "stream",
     "text": [
      "5, 1, 0.0500, 0.0993, 1.7310, 89.8406\n"
     ]
    },
    {
     "name": "stdout",
     "output_type": "stream",
     "text": [
      "6, 1, 0.0489, 0.0998, 1.6842, 89.8406\n"
     ]
    },
    {
     "name": "stdout",
     "output_type": "stream",
     "text": [
      "7, 1, 0.0481, 0.1003, 1.5804, 89.8406\n"
     ]
    },
    {
     "name": "stdout",
     "output_type": "stream",
     "text": [
      "8, 1, 0.0475, 0.0998, 1.6570, 89.8406\n"
     ]
    },
    {
     "name": "stdout",
     "output_type": "stream",
     "text": [
      "9, 1, 0.0472, 0.0993, 1.5927, 89.8406\n"
     ]
    },
    {
     "name": "stdout",
     "output_type": "stream",
     "text": [
      "10, 1, 0.0468, 0.1000, 1.7754, 89.8406\n"
     ]
    },
    {
     "name": "stdout",
     "output_type": "stream",
     "text": [
      "w: 128, d: 5, I: 1, J: 1, x: 4.0, B: 128, t: 10\n"
     ]
    },
    {
     "name": "stdout",
     "output_type": "stream",
     "text": [
      "0, 0, 0.6092, 0.1000, 89.8406, 89.8406\n"
     ]
    },
    {
     "name": "stdout",
     "output_type": "stream",
     "text": [
      "1, 1, 3.2843, 0.1000, 222.3846, 89.8406\n"
     ]
    },
    {
     "name": "stdout",
     "output_type": "stream",
     "text": [
      "2, 1, 0.8660, 0.1001, 83.8154, 89.8406\n"
     ]
    },
    {
     "name": "stdout",
     "output_type": "stream",
     "text": [
      "3, 1, 0.0716, 0.0998, 10.2116, 89.8406\n"
     ]
    },
    {
     "name": "stdout",
     "output_type": "stream",
     "text": [
      "4, 1, 0.0503, 0.0997, 1.7781, 89.8406\n"
     ]
    },
    {
     "name": "stdout",
     "output_type": "stream",
     "text": [
      "5, 1, 0.0491, 0.0986, 1.8131, 89.8406\n"
     ]
    },
    {
     "name": "stdout",
     "output_type": "stream",
     "text": [
      "6, 1, 0.0482, 0.0993, 1.7061, 89.8406\n"
     ]
    },
    {
     "name": "stdout",
     "output_type": "stream",
     "text": [
      "7, 1, 0.0476, 0.0991, 1.9833, 89.8406\n"
     ]
    },
    {
     "name": "stdout",
     "output_type": "stream",
     "text": [
      "8, 1, 0.0472, 0.0994, 1.8227, 89.8406\n"
     ]
    },
    {
     "name": "stdout",
     "output_type": "stream",
     "text": [
      "9, 1, 0.0468, 0.0992, 1.9733, 89.8406\n"
     ]
    },
    {
     "name": "stdout",
     "output_type": "stream",
     "text": [
      "10, 1, 0.0466, 0.0993, 2.1300, 89.8406\n"
     ]
    },
    {
     "name": "stdout",
     "output_type": "stream",
     "text": [
      "w: 128, d: 5, I: 1, J: 1, x: 4.2, B: 128, t: 10\n"
     ]
    },
    {
     "name": "stdout",
     "output_type": "stream",
     "text": [
      "0, 0, 0.6092, 0.1000, 89.8406, 89.8406\n"
     ]
    },
    {
     "name": "stdout",
     "output_type": "stream",
     "text": [
      "1, 1, 4.8379, 0.1000, 293.2582, 89.8406\n"
     ]
    },
    {
     "name": "stdout",
     "output_type": "stream",
     "text": [
      "2, 1, 2.1103, 0.1002, 168.2766, 89.8406\n"
     ]
    },
    {
     "name": "stdout",
     "output_type": "stream",
     "text": [
      "3, 1, 0.0871, 0.1001, 49.0513, 89.8406\n"
     ]
    },
    {
     "name": "stdout",
     "output_type": "stream",
     "text": [
      "4, 1, 0.0607, 0.1001, 5.0445, 89.8406\n"
     ]
    },
    {
     "name": "stdout",
     "output_type": "stream",
     "text": [
      "5, 1, 0.0504, 0.0990, 2.1562, 89.8406\n"
     ]
    },
    {
     "name": "stdout",
     "output_type": "stream",
     "text": [
      "6, 1, 0.0485, 0.0999, 1.7441, 89.8406\n"
     ]
    },
    {
     "name": "stdout",
     "output_type": "stream",
     "text": [
      "7, 1, 0.0477, 0.0997, 1.5399, 89.8406\n"
     ]
    },
    {
     "name": "stdout",
     "output_type": "stream",
     "text": [
      "8, 1, 0.0472, 0.0989, 1.5588, 89.8406\n"
     ]
    },
    {
     "name": "stdout",
     "output_type": "stream",
     "text": [
      "9, 1, 0.0469, 0.0987, 1.6627, 89.8406\n"
     ]
    },
    {
     "name": "stdout",
     "output_type": "stream",
     "text": [
      "10, 1, 0.0467, 0.0982, 1.5805, 89.8406\n"
     ]
    },
    {
     "name": "stdout",
     "output_type": "stream",
     "text": [
      "w: 128, d: 5, I: 1, J: 1, x: 4.4, B: 128, t: 10\n"
     ]
    },
    {
     "name": "stdout",
     "output_type": "stream",
     "text": [
      "0, 0, 0.6092, 0.1000, 89.8406, 89.8406\n"
     ]
    },
    {
     "name": "stdout",
     "output_type": "stream",
     "text": [
      "1, 1, 7.3820, 0.1000, 398.1415, 89.8406\n"
     ]
    },
    {
     "name": "stdout",
     "output_type": "stream",
     "text": [
      "2, 1, 7.1748, 0.1002, 485.6406, 89.8406\n"
     ]
    },
    {
     "name": "stdout",
     "output_type": "stream",
     "text": [
      "3, 1, 0.0866, 0.1000, 25.3331, 89.8406\n"
     ]
    },
    {
     "name": "stdout",
     "output_type": "stream",
     "text": [
      "4, 1, 0.0865, 0.1000, 12.4639, 89.8406\n"
     ]
    },
    {
     "name": "stdout",
     "output_type": "stream",
     "text": [
      "5, 1, 1.0072, 0.0998, 1376.9702, 89.8406\n"
     ]
    },
    {
     "name": "stdout",
     "output_type": "stream",
     "text": [
      "6, 1, 32.7277, 0.0995, 20414.5176, 89.8406\n"
     ]
    },
    {
     "name": "stdout",
     "output_type": "stream",
     "text": [
      "7, 1, 461364.8125, 0.1001, 33287726.0000, 89.8406\n",
      "Divergence\n"
     ]
    },
    {
     "name": "stdout",
     "output_type": "stream",
     "text": [
      "w: 256, d: 5, I: 1, J: 1, x: 0.0, B: 128, t: 10\n"
     ]
    },
    {
     "name": "stderr",
     "output_type": "stream",
     "text": [
      "2024-11-06 16:32:38.192370: E external/xla/xla/service/slow_operation_alarm.cc:65] Trying algorithm eng3{k11=2} for conv (f32[512,256,32,32]{3,2,1,0}, u8[0]{0}) custom-call(f32[512,256,32,32]{3,2,1,0}, f32[256,256,3,3]{3,2,1,0}), window={size=3x3 pad=1_1x1_1}, dim_labels=bf01_oi01->bf01, custom_call_target=\"__cudnn$convForward\", backend_config={\"cudnn_conv_backend_config\":{\"activation_mode\":\"kNone\",\"conv_result_scale\":1,\"leakyrelu_alpha\":0,\"side_input_scale\":0},\"force_earliest_schedule\":false,\"operation_queue_id\":\"0\",\"wait_on_operation_queues\":[]} is taking a while...\n"
     ]
    },
    {
     "name": "stderr",
     "output_type": "stream",
     "text": [
      "2024-11-06 16:32:38.512662: E external/xla/xla/service/slow_operation_alarm.cc:133] The operation took 1.32044888s\n",
      "Trying algorithm eng3{k11=2} for conv (f32[512,256,32,32]{3,2,1,0}, u8[0]{0}) custom-call(f32[512,256,32,32]{3,2,1,0}, f32[256,256,3,3]{3,2,1,0}), window={size=3x3 pad=1_1x1_1}, dim_labels=bf01_oi01->bf01, custom_call_target=\"__cudnn$convForward\", backend_config={\"cudnn_conv_backend_config\":{\"activation_mode\":\"kNone\",\"conv_result_scale\":1,\"leakyrelu_alpha\":0,\"side_input_scale\":0},\"force_earliest_schedule\":false,\"operation_queue_id\":\"0\",\"wait_on_operation_queues\":[]} is taking a while...\n"
     ]
    },
    {
     "name": "stdout",
     "output_type": "stream",
     "text": [
      "0, 0, 0.1934, 0.0994, 77.7270, 77.7270\n"
     ]
    },
    {
     "name": "stdout",
     "output_type": "stream",
     "text": [
      "1, 1, 0.0641, 0.0998, 52.2269, 77.7270\n"
     ]
    },
    {
     "name": "stdout",
     "output_type": "stream",
     "text": [
      "2, 1, 0.0525, 0.0985, 52.5538, 77.7270\n"
     ]
    },
    {
     "name": "stdout",
     "output_type": "stream",
     "text": [
      "3, 1, 0.0511, 0.0975, 50.4139, 77.7270\n"
     ]
    },
    {
     "name": "stdout",
     "output_type": "stream",
     "text": [
      "4, 1, 0.0511, 0.0985, 47.6140, 77.7270\n"
     ]
    },
    {
     "name": "stdout",
     "output_type": "stream",
     "text": [
      "5, 1, 0.0506, 0.0982, 51.8281, 77.7270\n"
     ]
    },
    {
     "name": "stdout",
     "output_type": "stream",
     "text": [
      "6, 1, 0.0505, 0.0978, 48.1617, 77.7270\n"
     ]
    },
    {
     "name": "stdout",
     "output_type": "stream",
     "text": [
      "7, 1, 0.0503, 0.0979, 49.5620, 77.7270\n"
     ]
    },
    {
     "name": "stdout",
     "output_type": "stream",
     "text": [
      "8, 1, 0.0502, 0.0985, 49.3766, 77.7270\n"
     ]
    },
    {
     "name": "stdout",
     "output_type": "stream",
     "text": [
      "9, 1, 0.0499, 0.0976, 49.7283, 77.7270\n"
     ]
    },
    {
     "name": "stdout",
     "output_type": "stream",
     "text": [
      "10, 1, 0.0498, 0.0982, 50.4812, 77.7270\n"
     ]
    },
    {
     "name": "stdout",
     "output_type": "stream",
     "text": [
      "w: 256, d: 5, I: 1, J: 1, x: 0.2, B: 128, t: 10\n"
     ]
    },
    {
     "name": "stdout",
     "output_type": "stream",
     "text": [
      "0, 0, 0.1934, 0.0994, 77.7270, 77.7270\n"
     ]
    },
    {
     "name": "stdout",
     "output_type": "stream",
     "text": [
      "1, 1, 0.0756, 0.0997, 55.2224, 77.7270\n"
     ]
    },
    {
     "name": "stdout",
     "output_type": "stream",
     "text": [
      "2, 1, 0.0550, 0.1002, 53.0535, 77.7270\n"
     ]
    },
    {
     "name": "stdout",
     "output_type": "stream",
     "text": [
      "3, 1, 0.0510, 0.0984, 42.5413, 77.7270\n"
     ]
    },
    {
     "name": "stdout",
     "output_type": "stream",
     "text": [
      "4, 1, 0.0510, 0.0980, 43.9367, 77.7270\n"
     ]
    },
    {
     "name": "stdout",
     "output_type": "stream",
     "text": [
      "5, 1, 0.0504, 0.0975, 50.2455, 77.7270\n"
     ]
    },
    {
     "name": "stdout",
     "output_type": "stream",
     "text": [
      "6, 1, 0.0504, 0.0982, 41.3730, 77.7270\n"
     ]
    },
    {
     "name": "stdout",
     "output_type": "stream",
     "text": [
      "7, 1, 0.0501, 0.0981, 47.1677, 77.7270\n"
     ]
    },
    {
     "name": "stdout",
     "output_type": "stream",
     "text": [
      "8, 1, 0.0499, 0.0994, 47.5767, 77.7270\n"
     ]
    },
    {
     "name": "stdout",
     "output_type": "stream",
     "text": [
      "9, 1, 0.0496, 0.0979, 48.2465, 77.7270\n"
     ]
    },
    {
     "name": "stdout",
     "output_type": "stream",
     "text": [
      "10, 1, 0.0496, 0.0983, 48.8637, 77.7270\n"
     ]
    },
    {
     "name": "stdout",
     "output_type": "stream",
     "text": [
      "w: 256, d: 5, I: 1, J: 1, x: 0.4, B: 128, t: 10\n"
     ]
    },
    {
     "name": "stdout",
     "output_type": "stream",
     "text": [
      "0, 0, 0.1934, 0.0994, 77.7270, 77.7270\n"
     ]
    },
    {
     "name": "stdout",
     "output_type": "stream",
     "text": [
      "1, 1, 0.0967, 0.1016, 58.7547, 77.7270\n"
     ]
    },
    {
     "name": "stdout",
     "output_type": "stream",
     "text": [
      "2, 1, 0.0635, 0.1004, 53.9370, 77.7270\n"
     ]
    },
    {
     "name": "stdout",
     "output_type": "stream",
     "text": [
      "3, 1, 0.0524, 0.0985, 44.7327, 77.7270\n"
     ]
    },
    {
     "name": "stdout",
     "output_type": "stream",
     "text": [
      "4, 1, 0.0511, 0.0965, 44.1452, 77.7270\n"
     ]
    },
    {
     "name": "stdout",
     "output_type": "stream",
     "text": [
      "5, 1, 0.0502, 0.0982, 47.3098, 77.7270\n"
     ]
    },
    {
     "name": "stdout",
     "output_type": "stream",
     "text": [
      "6, 1, 0.0502, 0.0979, 41.9390, 77.7270\n"
     ]
    },
    {
     "name": "stdout",
     "output_type": "stream",
     "text": [
      "7, 1, 0.0499, 0.0982, 42.7129, 77.7270\n"
     ]
    },
    {
     "name": "stdout",
     "output_type": "stream",
     "text": [
      "8, 1, 0.0497, 0.0992, 38.9825, 77.7270\n"
     ]
    },
    {
     "name": "stdout",
     "output_type": "stream",
     "text": [
      "9, 1, 0.0494, 0.0980, 45.6412, 77.7270\n"
     ]
    },
    {
     "name": "stdout",
     "output_type": "stream",
     "text": [
      "10, 1, 0.0494, 0.0988, 46.1000, 77.7270\n"
     ]
    },
    {
     "name": "stdout",
     "output_type": "stream",
     "text": [
      "w: 256, d: 5, I: 1, J: 1, x: 0.6, B: 128, t: 10\n"
     ]
    },
    {
     "name": "stdout",
     "output_type": "stream",
     "text": [
      "0, 0, 0.1934, 0.0994, 77.7270, 77.7270\n"
     ]
    },
    {
     "name": "stdout",
     "output_type": "stream",
     "text": [
      "1, 1, 0.1303, 0.1005, 63.0484, 77.7270\n"
     ]
    },
    {
     "name": "stdout",
     "output_type": "stream",
     "text": [
      "2, 1, 0.0843, 0.1005, 55.0707, 77.7270\n"
     ]
    },
    {
     "name": "stdout",
     "output_type": "stream",
     "text": [
      "3, 1, 0.0575, 0.0994, 43.3587, 77.7270\n"
     ]
    },
    {
     "name": "stdout",
     "output_type": "stream",
     "text": [
      "4, 1, 0.0518, 0.0982, 41.8357, 77.7270\n"
     ]
    },
    {
     "name": "stdout",
     "output_type": "stream",
     "text": [
      "5, 1, 0.0499, 0.0983, 37.1655, 77.7270\n"
     ]
    },
    {
     "name": "stdout",
     "output_type": "stream",
     "text": [
      "6, 1, 0.0500, 0.0971, 38.2121, 77.7270\n"
     ]
    },
    {
     "name": "stdout",
     "output_type": "stream",
     "text": [
      "7, 1, 0.0497, 0.0982, 38.9963, 77.7270\n"
     ]
    },
    {
     "name": "stdout",
     "output_type": "stream",
     "text": [
      "8, 1, 0.0493, 0.0990, 37.6776, 77.7270\n"
     ]
    },
    {
     "name": "stdout",
     "output_type": "stream",
     "text": [
      "9, 1, 0.0491, 0.0991, 36.5276, 77.7270\n"
     ]
    },
    {
     "name": "stdout",
     "output_type": "stream",
     "text": [
      "10, 1, 0.0491, 0.0995, 37.3571, 77.7270\n"
     ]
    },
    {
     "name": "stdout",
     "output_type": "stream",
     "text": [
      "w: 256, d: 5, I: 1, J: 1, x: 0.8, B: 128, t: 10\n"
     ]
    },
    {
     "name": "stdout",
     "output_type": "stream",
     "text": [
      "0, 0, 0.1934, 0.0994, 77.7270, 77.7270\n"
     ]
    },
    {
     "name": "stdout",
     "output_type": "stream",
     "text": [
      "1, 1, 0.1799, 0.1002, 68.1967, 77.7270\n"
     ]
    },
    {
     "name": "stdout",
     "output_type": "stream",
     "text": [
      "2, 1, 0.1244, 0.1000, 56.1121, 77.7270\n"
     ]
    },
    {
     "name": "stdout",
     "output_type": "stream",
     "text": [
      "3, 1, 0.0665, 0.1002, 39.9409, 77.7270\n"
     ]
    },
    {
     "name": "stdout",
     "output_type": "stream",
     "text": [
      "4, 1, 0.0522, 0.0994, 33.3480, 77.7270\n"
     ]
    },
    {
     "name": "stdout",
     "output_type": "stream",
     "text": [
      "5, 1, 0.0495, 0.0994, 33.3490, 77.7270\n"
     ]
    },
    {
     "name": "stdout",
     "output_type": "stream",
     "text": [
      "6, 1, 0.0496, 0.0964, 32.7292, 77.7270\n"
     ]
    },
    {
     "name": "stdout",
     "output_type": "stream",
     "text": [
      "7, 1, 0.0493, 0.0992, 33.2127, 77.7270\n"
     ]
    },
    {
     "name": "stdout",
     "output_type": "stream",
     "text": [
      "8, 1, 0.0489, 0.0993, 32.2432, 77.7270\n"
     ]
    },
    {
     "name": "stdout",
     "output_type": "stream",
     "text": [
      "9, 1, 0.0487, 0.0995, 32.0419, 77.7270\n"
     ]
    },
    {
     "name": "stdout",
     "output_type": "stream",
     "text": [
      "10, 1, 0.0487, 0.0988, 32.6936, 77.7270\n"
     ]
    },
    {
     "name": "stdout",
     "output_type": "stream",
     "text": [
      "w: 256, d: 5, I: 1, J: 1, x: 1.0, B: 128, t: 10\n"
     ]
    },
    {
     "name": "stdout",
     "output_type": "stream",
     "text": [
      "0, 0, 0.1934, 0.0994, 77.7270, 77.7270\n"
     ]
    },
    {
     "name": "stdout",
     "output_type": "stream",
     "text": [
      "1, 1, 0.2494, 0.1001, 74.2812, 77.7270\n"
     ]
    },
    {
     "name": "stdout",
     "output_type": "stream",
     "text": [
      "2, 1, 0.1871, 0.1002, 56.4766, 77.7270\n"
     ]
    },
    {
     "name": "stdout",
     "output_type": "stream",
     "text": [
      "3, 1, 0.0716, 0.1004, 33.5424, 77.7270\n"
     ]
    },
    {
     "name": "stdout",
     "output_type": "stream",
     "text": [
      "4, 1, 0.0505, 0.0990, 26.4492, 77.7270\n"
     ]
    },
    {
     "name": "stdout",
     "output_type": "stream",
     "text": [
      "5, 1, 0.0489, 0.1003, 26.4403, 77.7270\n"
     ]
    },
    {
     "name": "stdout",
     "output_type": "stream",
     "text": [
      "6, 1, 0.0490, 0.0975, 26.1658, 77.7270\n"
     ]
    },
    {
     "name": "stdout",
     "output_type": "stream",
     "text": [
      "7, 1, 0.0487, 0.0980, 26.2715, 77.7270\n"
     ]
    },
    {
     "name": "stdout",
     "output_type": "stream",
     "text": [
      "8, 1, 0.0485, 0.0988, 25.7394, 77.7270\n"
     ]
    },
    {
     "name": "stdout",
     "output_type": "stream",
     "text": [
      "9, 1, 0.0482, 0.0993, 25.6094, 77.7270\n"
     ]
    },
    {
     "name": "stdout",
     "output_type": "stream",
     "text": [
      "10, 1, 0.0482, 0.0987, 26.0697, 77.7270\n"
     ]
    },
    {
     "name": "stdout",
     "output_type": "stream",
     "text": [
      "w: 256, d: 5, I: 1, J: 1, x: 1.2, B: 128, t: 10\n"
     ]
    },
    {
     "name": "stdout",
     "output_type": "stream",
     "text": [
      "0, 0, 0.1934, 0.0994, 77.7270, 77.7270\n"
     ]
    },
    {
     "name": "stdout",
     "output_type": "stream",
     "text": [
      "1, 1, 0.3433, 0.1005, 81.4289, 77.7270\n"
     ]
    },
    {
     "name": "stdout",
     "output_type": "stream",
     "text": [
      "2, 1, 0.2647, 0.1002, 55.5428, 77.7270\n"
     ]
    },
    {
     "name": "stdout",
     "output_type": "stream",
     "text": [
      "3, 1, 0.0682, 0.0985, 25.6760, 77.7270\n"
     ]
    },
    {
     "name": "stdout",
     "output_type": "stream",
     "text": [
      "4, 1, 0.0492, 0.0979, 19.7005, 77.7270\n"
     ]
    },
    {
     "name": "stdout",
     "output_type": "stream",
     "text": [
      "5, 1, 0.0483, 0.0987, 19.3720, 77.7270\n"
     ]
    },
    {
     "name": "stdout",
     "output_type": "stream",
     "text": [
      "6, 1, 0.0483, 0.0967, 19.1063, 77.7270\n"
     ]
    },
    {
     "name": "stdout",
     "output_type": "stream",
     "text": [
      "7, 1, 0.0481, 0.0987, 19.1633, 77.7270\n"
     ]
    },
    {
     "name": "stdout",
     "output_type": "stream",
     "text": [
      "8, 1, 0.0480, 0.0994, 18.9187, 77.7270\n"
     ]
    },
    {
     "name": "stdout",
     "output_type": "stream",
     "text": [
      "9, 1, 0.0478, 0.0992, 18.7278, 77.7270\n"
     ]
    },
    {
     "name": "stdout",
     "output_type": "stream",
     "text": [
      "10, 1, 0.0477, 0.0979, 19.0252, 77.7270\n"
     ]
    },
    {
     "name": "stdout",
     "output_type": "stream",
     "text": [
      "w: 256, d: 5, I: 1, J: 1, x: 1.4, B: 128, t: 10\n"
     ]
    },
    {
     "name": "stdout",
     "output_type": "stream",
     "text": [
      "0, 0, 0.1934, 0.0994, 77.7270, 77.7270\n"
     ]
    },
    {
     "name": "stdout",
     "output_type": "stream",
     "text": [
      "1, 1, 0.4663, 0.1002, 89.8228, 77.7270\n"
     ]
    },
    {
     "name": "stdout",
     "output_type": "stream",
     "text": [
      "2, 1, 0.3342, 0.1002, 52.6072, 77.7270\n"
     ]
    },
    {
     "name": "stdout",
     "output_type": "stream",
     "text": [
      "3, 1, 0.0658, 0.0992, 18.4753, 77.7270\n"
     ]
    },
    {
     "name": "stdout",
     "output_type": "stream",
     "text": [
      "4, 1, 0.0499, 0.0986, 13.3294, 77.7270\n"
     ]
    },
    {
     "name": "stdout",
     "output_type": "stream",
     "text": [
      "5, 1, 0.0483, 0.0982, 12.9858, 77.7270\n"
     ]
    },
    {
     "name": "stdout",
     "output_type": "stream",
     "text": [
      "6, 1, 0.0479, 0.0970, 12.6725, 77.7270\n"
     ]
    },
    {
     "name": "stdout",
     "output_type": "stream",
     "text": [
      "7, 1, 0.0476, 0.0981, 12.7193, 77.7270\n"
     ]
    },
    {
     "name": "stdout",
     "output_type": "stream",
     "text": [
      "8, 1, 0.0475, 0.0991, 12.6847, 77.7270\n"
     ]
    },
    {
     "name": "stdout",
     "output_type": "stream",
     "text": [
      "9, 1, 0.0473, 0.1000, 12.3762, 77.7270\n"
     ]
    },
    {
     "name": "stdout",
     "output_type": "stream",
     "text": [
      "10, 1, 0.0472, 0.0975, 12.6349, 77.7270\n"
     ]
    },
    {
     "name": "stdout",
     "output_type": "stream",
     "text": [
      "w: 256, d: 5, I: 1, J: 1, x: 1.6, B: 128, t: 10\n"
     ]
    },
    {
     "name": "stdout",
     "output_type": "stream",
     "text": [
      "0, 0, 0.1934, 0.0994, 77.7270, 77.7270\n"
     ]
    },
    {
     "name": "stdout",
     "output_type": "stream",
     "text": [
      "1, 1, 0.6238, 0.1001, 99.6934, 77.7270\n"
     ]
    },
    {
     "name": "stdout",
     "output_type": "stream",
     "text": [
      "2, 1, 0.3676, 0.1002, 47.9820, 77.7270\n"
     ]
    },
    {
     "name": "stdout",
     "output_type": "stream",
     "text": [
      "3, 1, 0.0679, 0.0998, 13.0676, 77.7270\n"
     ]
    },
    {
     "name": "stdout",
     "output_type": "stream",
     "text": [
      "4, 1, 0.0544, 0.0983, 9.0710, 77.7270\n"
     ]
    },
    {
     "name": "stdout",
     "output_type": "stream",
     "text": [
      "5, 1, 0.0507, 0.0975, 8.7947, 77.7270\n"
     ]
    },
    {
     "name": "stdout",
     "output_type": "stream",
     "text": [
      "6, 1, 0.0492, 0.0965, 7.9617, 77.7270\n"
     ]
    },
    {
     "name": "stdout",
     "output_type": "stream",
     "text": [
      "7, 1, 0.0481, 0.0985, 8.4244, 77.7270\n"
     ]
    },
    {
     "name": "stdout",
     "output_type": "stream",
     "text": [
      "8, 1, 0.0477, 0.1001, 8.0963, 77.7270\n"
     ]
    },
    {
     "name": "stdout",
     "output_type": "stream",
     "text": [
      "9, 1, 0.0472, 0.1002, 8.6247, 77.7270\n"
     ]
    },
    {
     "name": "stdout",
     "output_type": "stream",
     "text": [
      "10, 1, 0.0470, 0.0970, 8.6939, 77.7270\n"
     ]
    },
    {
     "name": "stdout",
     "output_type": "stream",
     "text": [
      "w: 256, d: 5, I: 1, J: 1, x: 1.8, B: 128, t: 10\n"
     ]
    },
    {
     "name": "stdout",
     "output_type": "stream",
     "text": [
      "0, 0, 0.1934, 0.0994, 77.7270, 77.7270\n"
     ]
    },
    {
     "name": "stdout",
     "output_type": "stream",
     "text": [
      "1, 1, 0.8218, 0.1001, 111.3210, 77.7270\n"
     ]
    },
    {
     "name": "stdout",
     "output_type": "stream",
     "text": [
      "2, 1, 0.3531, 0.1002, 42.0350, 77.7270\n"
     ]
    },
    {
     "name": "stdout",
     "output_type": "stream",
     "text": [
      "3, 1, 0.0686, 0.0999, 8.9360, 77.7270\n"
     ]
    },
    {
     "name": "stdout",
     "output_type": "stream",
     "text": [
      "4, 1, 0.0586, 0.0990, 6.5735, 77.7270\n"
     ]
    },
    {
     "name": "stdout",
     "output_type": "stream",
     "text": [
      "5, 1, 0.0541, 0.0976, 6.2054, 77.7270\n"
     ]
    },
    {
     "name": "stdout",
     "output_type": "stream",
     "text": [
      "6, 1, 0.0517, 0.0973, 5.7389, 77.7270\n"
     ]
    },
    {
     "name": "stdout",
     "output_type": "stream",
     "text": [
      "7, 1, 0.0499, 0.0983, 5.9642, 77.7270\n"
     ]
    },
    {
     "name": "stdout",
     "output_type": "stream",
     "text": [
      "8, 1, 0.0489, 0.0997, 5.9314, 77.7270\n"
     ]
    },
    {
     "name": "stdout",
     "output_type": "stream",
     "text": [
      "9, 1, 0.0481, 0.1006, 5.8919, 77.7270\n"
     ]
    },
    {
     "name": "stdout",
     "output_type": "stream",
     "text": [
      "10, 1, 0.0475, 0.0990, 5.9273, 77.7270\n"
     ]
    },
    {
     "name": "stdout",
     "output_type": "stream",
     "text": [
      "w: 256, d: 5, I: 1, J: 1, x: 2.0, B: 128, t: 10\n"
     ]
    },
    {
     "name": "stdout",
     "output_type": "stream",
     "text": [
      "0, 0, 0.1934, 0.0994, 77.7270, 77.7270\n"
     ]
    },
    {
     "name": "stdout",
     "output_type": "stream",
     "text": [
      "1, 1, 1.0676, 0.1001, 125.1655, 77.7270\n"
     ]
    },
    {
     "name": "stdout",
     "output_type": "stream",
     "text": [
      "2, 1, 0.3087, 0.1002, 35.5481, 77.7270\n"
     ]
    },
    {
     "name": "stdout",
     "output_type": "stream",
     "text": [
      "3, 1, 0.0664, 0.1004, 6.1715, 77.7270\n"
     ]
    },
    {
     "name": "stdout",
     "output_type": "stream",
     "text": [
      "4, 1, 0.0594, 0.0984, 4.9013, 77.7270\n"
     ]
    },
    {
     "name": "stdout",
     "output_type": "stream",
     "text": [
      "5, 1, 0.0553, 0.0981, 4.5832, 77.7270\n"
     ]
    },
    {
     "name": "stdout",
     "output_type": "stream",
     "text": [
      "6, 1, 0.0527, 0.0978, 4.1772, 77.7270\n"
     ]
    },
    {
     "name": "stdout",
     "output_type": "stream",
     "text": [
      "7, 1, 0.0507, 0.0977, 4.3333, 77.7270\n"
     ]
    },
    {
     "name": "stdout",
     "output_type": "stream",
     "text": [
      "8, 1, 0.0496, 0.0987, 4.3070, 77.7270\n"
     ]
    },
    {
     "name": "stdout",
     "output_type": "stream",
     "text": [
      "9, 1, 0.0487, 0.0986, 4.2414, 77.7270\n"
     ]
    },
    {
     "name": "stdout",
     "output_type": "stream",
     "text": [
      "10, 1, 0.0479, 0.1001, 4.2644, 77.7270\n"
     ]
    },
    {
     "name": "stdout",
     "output_type": "stream",
     "text": [
      "w: 256, d: 5, I: 1, J: 1, x: 2.2, B: 128, t: 10\n"
     ]
    },
    {
     "name": "stdout",
     "output_type": "stream",
     "text": [
      "0, 0, 0.1934, 0.0994, 77.7270, 77.7270\n"
     ]
    },
    {
     "name": "stdout",
     "output_type": "stream",
     "text": [
      "1, 1, 1.3720, 0.1001, 141.8729, 77.7270\n"
     ]
    },
    {
     "name": "stdout",
     "output_type": "stream",
     "text": [
      "2, 1, 0.2662, 0.1002, 30.8900, 77.7270\n"
     ]
    },
    {
     "name": "stdout",
     "output_type": "stream",
     "text": [
      "3, 1, 0.0629, 0.0986, 4.3864, 77.7270\n"
     ]
    },
    {
     "name": "stdout",
     "output_type": "stream",
     "text": [
      "4, 1, 0.0578, 0.0991, 3.7765, 77.7270\n"
     ]
    },
    {
     "name": "stdout",
     "output_type": "stream",
     "text": [
      "5, 1, 0.0545, 0.0984, 3.7115, 77.7270\n"
     ]
    },
    {
     "name": "stdout",
     "output_type": "stream",
     "text": [
      "6, 1, 0.0522, 0.1000, 3.3710, 77.7270\n"
     ]
    },
    {
     "name": "stdout",
     "output_type": "stream",
     "text": [
      "7, 1, 0.0504, 0.0997, 3.4422, 77.7270\n"
     ]
    },
    {
     "name": "stdout",
     "output_type": "stream",
     "text": [
      "8, 1, 0.0493, 0.0979, 3.4221, 77.7270\n"
     ]
    },
    {
     "name": "stdout",
     "output_type": "stream",
     "text": [
      "9, 1, 0.0485, 0.0982, 3.3512, 77.7270\n"
     ]
    },
    {
     "name": "stdout",
     "output_type": "stream",
     "text": [
      "10, 1, 0.0477, 0.0990, 3.3938, 77.7270\n"
     ]
    },
    {
     "name": "stdout",
     "output_type": "stream",
     "text": [
      "w: 256, d: 5, I: 1, J: 1, x: 2.4, B: 128, t: 10\n"
     ]
    },
    {
     "name": "stdout",
     "output_type": "stream",
     "text": [
      "0, 0, 0.1934, 0.0994, 77.7270, 77.7270\n"
     ]
    },
    {
     "name": "stdout",
     "output_type": "stream",
     "text": [
      "1, 1, 1.7515, 0.1001, 162.2846, 77.7270\n"
     ]
    },
    {
     "name": "stdout",
     "output_type": "stream",
     "text": [
      "2, 1, 0.2517, 0.1002, 29.9622, 77.7270\n"
     ]
    },
    {
     "name": "stdout",
     "output_type": "stream",
     "text": [
      "3, 1, 0.0582, 0.0992, 3.4065, 77.7270\n"
     ]
    },
    {
     "name": "stdout",
     "output_type": "stream",
     "text": [
      "4, 1, 0.0548, 0.0999, 3.0583, 77.7270\n"
     ]
    },
    {
     "name": "stdout",
     "output_type": "stream",
     "text": [
      "5, 1, 0.0524, 0.0999, 3.0690, 77.7270\n"
     ]
    },
    {
     "name": "stdout",
     "output_type": "stream",
     "text": [
      "6, 1, 0.0507, 0.1011, 2.8086, 77.7270\n"
     ]
    },
    {
     "name": "stdout",
     "output_type": "stream",
     "text": [
      "7, 1, 0.0493, 0.0999, 2.8522, 77.7270\n"
     ]
    },
    {
     "name": "stdout",
     "output_type": "stream",
     "text": [
      "8, 1, 0.0485, 0.0989, 2.8265, 77.7270\n"
     ]
    },
    {
     "name": "stdout",
     "output_type": "stream",
     "text": [
      "9, 1, 0.0478, 0.0988, 2.7530, 77.7270\n"
     ]
    },
    {
     "name": "stdout",
     "output_type": "stream",
     "text": [
      "10, 1, 0.0472, 0.0990, 2.8188, 77.7270\n"
     ]
    },
    {
     "name": "stdout",
     "output_type": "stream",
     "text": [
      "w: 256, d: 5, I: 1, J: 1, x: 2.6, B: 128, t: 10\n"
     ]
    },
    {
     "name": "stdout",
     "output_type": "stream",
     "text": [
      "0, 0, 0.1934, 0.0994, 77.7270, 77.7270\n"
     ]
    },
    {
     "name": "stdout",
     "output_type": "stream",
     "text": [
      "1, 1, 2.2306, 0.1001, 187.5220, 77.7270\n"
     ]
    },
    {
     "name": "stdout",
     "output_type": "stream",
     "text": [
      "2, 1, 0.2684, 0.1002, 32.5576, 77.7270\n"
     ]
    },
    {
     "name": "stdout",
     "output_type": "stream",
     "text": [
      "3, 1, 0.0544, 0.0989, 3.7766, 77.7270\n"
     ]
    },
    {
     "name": "stdout",
     "output_type": "stream",
     "text": [
      "4, 1, 0.0519, 0.0997, 3.1733, 77.7270\n"
     ]
    },
    {
     "name": "stdout",
     "output_type": "stream",
     "text": [
      "5, 1, 0.0501, 0.0998, 2.4558, 77.7270\n"
     ]
    },
    {
     "name": "stdout",
     "output_type": "stream",
     "text": [
      "6, 1, 0.0490, 0.0999, 2.3743, 77.7270\n"
     ]
    },
    {
     "name": "stdout",
     "output_type": "stream",
     "text": [
      "7, 1, 0.0480, 0.1001, 2.4270, 77.7270\n"
     ]
    },
    {
     "name": "stdout",
     "output_type": "stream",
     "text": [
      "8, 1, 0.0475, 0.0998, 2.3558, 77.7270\n"
     ]
    },
    {
     "name": "stdout",
     "output_type": "stream",
     "text": [
      "9, 1, 0.0470, 0.1002, 2.3756, 77.7270\n"
     ]
    },
    {
     "name": "stdout",
     "output_type": "stream",
     "text": [
      "10, 1, 0.0465, 0.0995, 2.4351, 77.7270\n"
     ]
    },
    {
     "name": "stdout",
     "output_type": "stream",
     "text": [
      "w: 256, d: 5, I: 1, J: 1, x: 2.8, B: 128, t: 10\n"
     ]
    },
    {
     "name": "stdout",
     "output_type": "stream",
     "text": [
      "0, 0, 0.1934, 0.0994, 77.7270, 77.7270\n"
     ]
    },
    {
     "name": "stdout",
     "output_type": "stream",
     "text": [
      "1, 1, 2.8467, 0.1001, 219.1094, 77.7270\n"
     ]
    },
    {
     "name": "stdout",
     "output_type": "stream",
     "text": [
      "2, 1, 0.3114, 0.1002, 37.6156, 77.7270\n"
     ]
    },
    {
     "name": "stdout",
     "output_type": "stream",
     "text": [
      "3, 1, 0.0539, 0.1011, 4.6228, 77.7270\n"
     ]
    },
    {
     "name": "stdout",
     "output_type": "stream",
     "text": [
      "4, 1, 0.0503, 0.1003, 3.4171, 77.7270\n"
     ]
    },
    {
     "name": "stdout",
     "output_type": "stream",
     "text": [
      "5, 1, 0.0485, 0.1000, 2.8419, 77.7270\n"
     ]
    },
    {
     "name": "stdout",
     "output_type": "stream",
     "text": [
      "6, 1, 0.0477, 0.0995, 2.6950, 77.7270\n"
     ]
    },
    {
     "name": "stdout",
     "output_type": "stream",
     "text": [
      "7, 1, 0.0471, 0.0995, 2.5570, 77.7270\n"
     ]
    },
    {
     "name": "stdout",
     "output_type": "stream",
     "text": [
      "8, 1, 0.0467, 0.1002, 2.4715, 77.7270\n"
     ]
    },
    {
     "name": "stdout",
     "output_type": "stream",
     "text": [
      "9, 1, 0.0463, 0.1000, 2.3765, 77.7270\n"
     ]
    },
    {
     "name": "stdout",
     "output_type": "stream",
     "text": [
      "10, 1, 0.0460, 0.1005, 2.4028, 77.7270\n"
     ]
    },
    {
     "name": "stdout",
     "output_type": "stream",
     "text": [
      "w: 256, d: 5, I: 1, J: 1, x: 3.0, B: 128, t: 10\n"
     ]
    },
    {
     "name": "stdout",
     "output_type": "stream",
     "text": [
      "0, 0, 0.1934, 0.0994, 77.7270, 77.7270\n"
     ]
    },
    {
     "name": "stdout",
     "output_type": "stream",
     "text": [
      "1, 1, 3.6564, 0.1001, 259.2057, 77.7270\n"
     ]
    },
    {
     "name": "stdout",
     "output_type": "stream",
     "text": [
      "2, 1, 0.3904, 0.1002, 46.5110, 77.7270\n"
     ]
    },
    {
     "name": "stdout",
     "output_type": "stream",
     "text": [
      "3, 1, 0.0572, 0.1006, 6.2601, 77.7270\n"
     ]
    },
    {
     "name": "stdout",
     "output_type": "stream",
     "text": [
      "4, 1, 0.0497, 0.1002, 3.6965, 77.7270\n"
     ]
    },
    {
     "name": "stdout",
     "output_type": "stream",
     "text": [
      "5, 1, 0.0477, 0.0996, 2.9786, 77.7270\n"
     ]
    },
    {
     "name": "stdout",
     "output_type": "stream",
     "text": [
      "6, 1, 0.0470, 0.0995, 2.7394, 77.7270\n"
     ]
    },
    {
     "name": "stdout",
     "output_type": "stream",
     "text": [
      "7, 1, 0.0465, 0.0993, 2.6634, 77.7270\n"
     ]
    },
    {
     "name": "stdout",
     "output_type": "stream",
     "text": [
      "8, 1, 0.0462, 0.1005, 2.7532, 77.7270\n"
     ]
    },
    {
     "name": "stdout",
     "output_type": "stream",
     "text": [
      "9, 1, 0.0459, 0.1008, 2.6207, 77.7270\n"
     ]
    },
    {
     "name": "stdout",
     "output_type": "stream",
     "text": [
      "10, 1, 0.0456, 0.0995, 2.7231, 77.7270\n"
     ]
    },
    {
     "name": "stdout",
     "output_type": "stream",
     "text": [
      "w: 256, d: 5, I: 1, J: 1, x: 3.2, B: 128, t: 10\n"
     ]
    },
    {
     "name": "stdout",
     "output_type": "stream",
     "text": [
      "0, 0, 0.1934, 0.0994, 77.7270, 77.7270\n"
     ]
    },
    {
     "name": "stdout",
     "output_type": "stream",
     "text": [
      "1, 1, 4.7462, 0.1001, 311.2108, 77.7270\n"
     ]
    },
    {
     "name": "stdout",
     "output_type": "stream",
     "text": [
      "2, 1, 0.5615, 0.1002, 66.3779, 77.7270\n"
     ]
    },
    {
     "name": "stdout",
     "output_type": "stream",
     "text": [
      "3, 1, 0.0672, 0.1007, 10.0643, 77.7270\n"
     ]
    },
    {
     "name": "stdout",
     "output_type": "stream",
     "text": [
      "4, 1, 0.0478, 0.0997, 4.0360, 77.7270\n"
     ]
    },
    {
     "name": "stdout",
     "output_type": "stream",
     "text": [
      "5, 1, 0.0466, 0.0991, 3.3889, 77.7270\n"
     ]
    },
    {
     "name": "stdout",
     "output_type": "stream",
     "text": [
      "6, 1, 0.0461, 0.0984, 3.6769, 77.7270\n"
     ]
    },
    {
     "name": "stdout",
     "output_type": "stream",
     "text": [
      "7, 1, 0.0459, 0.0989, 3.5554, 77.7270\n"
     ]
    },
    {
     "name": "stdout",
     "output_type": "stream",
     "text": [
      "8, 1, 0.0458, 0.1000, 3.5381, 77.7270\n"
     ]
    },
    {
     "name": "stdout",
     "output_type": "stream",
     "text": [
      "9, 1, 0.0455, 0.0985, 3.1904, 77.7270\n"
     ]
    },
    {
     "name": "stdout",
     "output_type": "stream",
     "text": [
      "10, 1, 0.0454, 0.0971, 3.5785, 77.7270\n"
     ]
    },
    {
     "name": "stdout",
     "output_type": "stream",
     "text": [
      "w: 256, d: 5, I: 1, J: 1, x: 3.4, B: 128, t: 10\n"
     ]
    },
    {
     "name": "stdout",
     "output_type": "stream",
     "text": [
      "0, 0, 0.1934, 0.0994, 77.7270, 77.7270\n"
     ]
    },
    {
     "name": "stdout",
     "output_type": "stream",
     "text": [
      "1, 1, 6.2493, 0.1001, 379.6996, 77.7270\n"
     ]
    },
    {
     "name": "stdout",
     "output_type": "stream",
     "text": [
      "2, 1, 1.0059, 0.1002, 118.7251, 77.7270\n"
     ]
    },
    {
     "name": "stdout",
     "output_type": "stream",
     "text": [
      "3, 1, 0.1115, 0.1004, 26.5958, 77.7270\n"
     ]
    },
    {
     "name": "stdout",
     "output_type": "stream",
     "text": [
      "4, 1, 0.0638, 0.1002, 7.1619, 77.7270\n"
     ]
    },
    {
     "name": "stdout",
     "output_type": "stream",
     "text": [
      "5, 1, 0.0471, 0.1000, 4.6948, 77.7270\n"
     ]
    },
    {
     "name": "stdout",
     "output_type": "stream",
     "text": [
      "6, 1, 0.0459, 0.0991, 4.8860, 77.7270\n"
     ]
    },
    {
     "name": "stdout",
     "output_type": "stream",
     "text": [
      "7, 1, 0.0457, 0.0986, 4.4337, 77.7270\n"
     ]
    },
    {
     "name": "stdout",
     "output_type": "stream",
     "text": [
      "8, 1, 0.0455, 0.0990, 4.6125, 77.7270\n"
     ]
    },
    {
     "name": "stdout",
     "output_type": "stream",
     "text": [
      "9, 1, 0.0454, 0.0998, 4.6209, 77.7270\n"
     ]
    },
    {
     "name": "stdout",
     "output_type": "stream",
     "text": [
      "10, 1, 0.0455, 0.1011, 4.5789, 77.7270\n"
     ]
    },
    {
     "name": "stdout",
     "output_type": "stream",
     "text": [
      "w: 256, d: 5, I: 1, J: 1, x: 3.6, B: 128, t: 10\n"
     ]
    },
    {
     "name": "stdout",
     "output_type": "stream",
     "text": [
      "0, 0, 0.1934, 0.0994, 77.7270, 77.7270\n"
     ]
    },
    {
     "name": "stdout",
     "output_type": "stream",
     "text": [
      "1, 1, 8.3749, 0.1001, 471.8372, 77.7270\n"
     ]
    },
    {
     "name": "stdout",
     "output_type": "stream",
     "text": [
      "2, 1, 2.2224, 0.1002, 271.8209, 77.7270\n"
     ]
    },
    {
     "name": "stdout",
     "output_type": "stream",
     "text": [
      "3, 1, 0.3293, 0.1000, 211.9761, 77.7270\n"
     ]
    },
    {
     "name": "stdout",
     "output_type": "stream",
     "text": [
      "4, 1, 1.1539, 0.1002, 151.3492, 77.7270\n"
     ]
    },
    {
     "name": "stdout",
     "output_type": "stream",
     "text": [
      "5, 1, 0.3114, 0.0994, 53.8157, 77.7270\n"
     ]
    },
    {
     "name": "stdout",
     "output_type": "stream",
     "text": [
      "6, 1, 0.0507, 0.1014, 0.4256, 77.7270\n"
     ]
    },
    {
     "name": "stdout",
     "output_type": "stream",
     "text": [
      "7, 1, 0.0506, 0.1005, 0.4088, 77.7270\n"
     ]
    },
    {
     "name": "stdout",
     "output_type": "stream",
     "text": [
      "8, 1, 0.0505, 0.1008, 0.3574, 77.7270\n"
     ]
    },
    {
     "name": "stdout",
     "output_type": "stream",
     "text": [
      "9, 1, 0.0505, 0.1009, 0.3397, 77.7270\n"
     ]
    },
    {
     "name": "stdout",
     "output_type": "stream",
     "text": [
      "10, 1, 0.0504, 0.1003, 0.3640, 77.7270\n"
     ]
    },
    {
     "name": "stdout",
     "output_type": "stream",
     "text": [
      "w: 256, d: 5, I: 1, J: 1, x: 3.8, B: 128, t: 10\n"
     ]
    },
    {
     "name": "stdout",
     "output_type": "stream",
     "text": [
      "0, 0, 0.1934, 0.0994, 77.7270, 77.7270\n"
     ]
    },
    {
     "name": "stdout",
     "output_type": "stream",
     "text": [
      "1, 1, 11.4589, 0.1001, 597.3256, 77.7270\n"
     ]
    },
    {
     "name": "stdout",
     "output_type": "stream",
     "text": [
      "2, 1, 5.3763, 0.1002, 698.2147, 77.7270\n"
     ]
    },
    {
     "name": "stdout",
     "output_type": "stream",
     "text": [
      "3, 1, 4.7093, 0.1000, 8975.5996, 77.7270\n"
     ]
    },
    {
     "name": "stdout",
     "output_type": "stream",
     "text": [
      "4, 1, 22145.5000, 0.1000, 537088.9375, 77.7270\n"
     ]
    },
    {
     "name": "stdout",
     "output_type": "stream",
     "text": [
      "5, 1, 77627375841082123223040.0000, 0.0999, nan, 77.7270\n",
      "Divergence\n"
     ]
    },
    {
     "name": "stdout",
     "output_type": "stream",
     "text": [
      "w: 512, d: 5, I: 1, J: 1, x: 0.0, B: 128, t: 10\n"
     ]
    },
    {
     "name": "stderr",
     "output_type": "stream",
     "text": [
      "2024-11-06 16:48:51.508138: W external/xla/xla/tsl/framework/bfc_allocator.cc:306] Allocator (GPU_0_bfc) ran out of memory trying to allocate 16.52GiB with freed_by_count=0. The caller indicates that this is not a failure, but this may mean that there could be performance gains if more memory were available.\n"
     ]
    },
    {
     "name": "stderr",
     "output_type": "stream",
     "text": [
      "2024-11-06 16:49:03.111686: W external/xla/xla/tsl/framework/bfc_allocator.cc:306] Allocator (GPU_0_bfc) ran out of memory trying to allocate 16.52GiB with freed_by_count=0. The caller indicates that this is not a failure, but this may mean that there could be performance gains if more memory were available.\n"
     ]
    },
    {
     "name": "stderr",
     "output_type": "stream",
     "text": [
      "2024-11-06 16:49:18.710603: W external/xla/xla/tsl/framework/bfc_allocator.cc:306] Allocator (GPU_0_bfc) ran out of memory trying to allocate 17.52GiB with freed_by_count=0. The caller indicates that this is not a failure, but this may mean that there could be performance gains if more memory were available.\n"
     ]
    },
    {
     "name": "stderr",
     "output_type": "stream",
     "text": [
      "2024-11-06 16:49:25.842057: E external/xla/xla/service/slow_operation_alarm.cc:65] Trying algorithm eng20{k2=6,k3=0} for conv (f32[512,512,3,3]{3,2,1,0}, u8[0]{0}) custom-call(f32[512,512,32,32]{3,2,1,0}, f32[512,512,32,32]{3,2,1,0}), window={size=3x3 pad=1_1x1_1}, dim_labels=bf01_oi01->bf01, custom_call_target=\"__cudnn$convBackwardFilter\", backend_config={\"cudnn_conv_backend_config\":{\"activation_mode\":\"kNone\",\"conv_result_scale\":1,\"leakyrelu_alpha\":0,\"side_input_scale\":0},\"force_earliest_schedule\":false,\"operation_queue_id\":\"0\",\"wait_on_operation_queues\":[]} is taking a while...\n",
      "2024-11-06 16:49:25.880374: E external/xla/xla/service/slow_operation_alarm.cc:133] The operation took 1.038400779s\n",
      "Trying algorithm eng20{k2=6,k3=0} for conv (f32[512,512,3,3]{3,2,1,0}, u8[0]{0}) custom-call(f32[512,512,32,32]{3,2,1,0}, f32[512,512,32,32]{3,2,1,0}), window={size=3x3 pad=1_1x1_1}, dim_labels=bf01_oi01->bf01, custom_call_target=\"__cudnn$convBackwardFilter\", backend_config={\"cudnn_conv_backend_config\":{\"activation_mode\":\"kNone\",\"conv_result_scale\":1,\"leakyrelu_alpha\":0,\"side_input_scale\":0},\"force_earliest_schedule\":false,\"operation_queue_id\":\"0\",\"wait_on_operation_queues\":[]} is taking a while...\n"
     ]
    },
    {
     "name": "stderr",
     "output_type": "stream",
     "text": [
      "2024-11-06 16:49:26.880568: E external/xla/xla/service/slow_operation_alarm.cc:65] Trying algorithm eng1{k2=6,k3=0} for conv (f32[512,512,3,3]{3,2,1,0}, u8[0]{0}) custom-call(f32[512,512,32,32]{3,2,1,0}, f32[512,512,32,32]{3,2,1,0}), window={size=3x3 pad=1_1x1_1}, dim_labels=bf01_oi01->bf01, custom_call_target=\"__cudnn$convBackwardFilter\", backend_config={\"cudnn_conv_backend_config\":{\"activation_mode\":\"kNone\",\"conv_result_scale\":1,\"leakyrelu_alpha\":0,\"side_input_scale\":0},\"force_earliest_schedule\":false,\"operation_queue_id\":\"0\",\"wait_on_operation_queues\":[]} is taking a while...\n",
      "2024-11-06 16:49:26.915840: E external/xla/xla/service/slow_operation_alarm.cc:133] The operation took 1.035407976s\n",
      "Trying algorithm eng1{k2=6,k3=0} for conv (f32[512,512,3,3]{3,2,1,0}, u8[0]{0}) custom-call(f32[512,512,32,32]{3,2,1,0}, f32[512,512,32,32]{3,2,1,0}), window={size=3x3 pad=1_1x1_1}, dim_labels=bf01_oi01->bf01, custom_call_target=\"__cudnn$convBackwardFilter\", backend_config={\"cudnn_conv_backend_config\":{\"activation_mode\":\"kNone\",\"conv_result_scale\":1,\"leakyrelu_alpha\":0,\"side_input_scale\":0},\"force_earliest_schedule\":false,\"operation_queue_id\":\"0\",\"wait_on_operation_queues\":[]} is taking a while...\n"
     ]
    },
    {
     "name": "stderr",
     "output_type": "stream",
     "text": [
      "2024-11-06 16:49:59.104628: W external/xla/xla/tsl/framework/bfc_allocator.cc:306] Allocator (GPU_0_bfc) ran out of memory trying to allocate 13.69GiB with freed_by_count=0. The caller indicates that this is not a failure, but this may mean that there could be performance gains if more memory were available.\n"
     ]
    },
    {
     "name": "stdout",
     "output_type": "stream",
     "text": [
      "0, 0, 0.2171, 0.0987, 123.9280, 123.9280\n"
     ]
    },
    {
     "name": "stdout",
     "output_type": "stream",
     "text": [
      "1, 1, 0.0602, 0.1008, 92.2871, 123.9280\n"
     ]
    },
    {
     "name": "stdout",
     "output_type": "stream",
     "text": [
      "2, 1, 0.0534, 0.1018, 98.7393, 123.9280\n"
     ]
    },
    {
     "name": "stdout",
     "output_type": "stream",
     "text": [
      "3, 1, 0.0528, 0.1015, 96.6265, 123.9280\n"
     ]
    },
    {
     "name": "stdout",
     "output_type": "stream",
     "text": [
      "4, 1, 0.0528, 0.1015, 84.1820, 123.9280\n"
     ]
    },
    {
     "name": "stdout",
     "output_type": "stream",
     "text": [
      "5, 1, 0.0523, 0.1015, 89.0322, 123.9280\n"
     ]
    },
    {
     "name": "stdout",
     "output_type": "stream",
     "text": [
      "6, 1, 0.0521, 0.1028, 96.2472, 123.9280\n"
     ]
    },
    {
     "name": "stdout",
     "output_type": "stream",
     "text": [
      "7, 1, 0.0517, 0.1019, 96.8353, 123.9280\n"
     ]
    },
    {
     "name": "stdout",
     "output_type": "stream",
     "text": [
      "8, 1, 0.0516, 0.1022, 95.6458, 123.9280\n"
     ]
    },
    {
     "name": "stdout",
     "output_type": "stream",
     "text": [
      "9, 1, 0.0513, 0.1015, 78.0119, 123.9280\n"
     ]
    },
    {
     "name": "stdout",
     "output_type": "stream",
     "text": [
      "10, 1, 0.0511, 0.1014, 95.1182, 123.9280\n"
     ]
    },
    {
     "name": "stdout",
     "output_type": "stream",
     "text": [
      "w: 512, d: 5, I: 1, J: 1, x: 0.2, B: 128, t: 10\n"
     ]
    },
    {
     "name": "stdout",
     "output_type": "stream",
     "text": [
      "0, 0, 0.2171, 0.0987, 123.9280, 123.9280\n"
     ]
    },
    {
     "name": "stdout",
     "output_type": "stream",
     "text": [
      "1, 1, 0.0704, 0.1004, 94.3038, 123.9280\n"
     ]
    },
    {
     "name": "stdout",
     "output_type": "stream",
     "text": [
      "2, 1, 0.0549, 0.1001, 98.5464, 123.9280\n"
     ]
    },
    {
     "name": "stdout",
     "output_type": "stream",
     "text": [
      "3, 1, 0.0527, 0.1008, 90.4885, 123.9280\n"
     ]
    },
    {
     "name": "stdout",
     "output_type": "stream",
     "text": [
      "4, 1, 0.0526, 0.1017, 84.2345, 123.9280\n"
     ]
    },
    {
     "name": "stdout",
     "output_type": "stream",
     "text": [
      "5, 1, 0.0521, 0.1022, 80.6414, 123.9280\n"
     ]
    },
    {
     "name": "stdout",
     "output_type": "stream",
     "text": [
      "6, 1, 0.0521, 0.1026, 95.1257, 123.9280\n"
     ]
    },
    {
     "name": "stdout",
     "output_type": "stream",
     "text": [
      "7, 1, 0.0515, 0.1022, 94.9161, 123.9280\n"
     ]
    },
    {
     "name": "stdout",
     "output_type": "stream",
     "text": [
      "8, 1, 0.0514, 0.1025, 94.4771, 123.9280\n"
     ]
    },
    {
     "name": "stdout",
     "output_type": "stream",
     "text": [
      "9, 1, 0.0511, 0.1006, 77.1909, 123.9280\n"
     ]
    },
    {
     "name": "stdout",
     "output_type": "stream",
     "text": [
      "10, 1, 0.0509, 0.1016, 94.5448, 123.9280\n"
     ]
    },
    {
     "name": "stdout",
     "output_type": "stream",
     "text": [
      "w: 512, d: 5, I: 1, J: 1, x: 0.4, B: 128, t: 10\n"
     ]
    },
    {
     "name": "stdout",
     "output_type": "stream",
     "text": [
      "0, 0, 0.2171, 0.0987, 123.9280, 123.9280\n"
     ]
    },
    {
     "name": "stdout",
     "output_type": "stream",
     "text": [
      "1, 1, 0.0914, 0.1016, 97.1591, 123.9280\n"
     ]
    },
    {
     "name": "stdout",
     "output_type": "stream",
     "text": [
      "2, 1, 0.0609, 0.1002, 97.8344, 123.9280\n"
     ]
    },
    {
     "name": "stdout",
     "output_type": "stream",
     "text": [
      "3, 1, 0.0541, 0.1004, 77.6123, 123.9280\n"
     ]
    },
    {
     "name": "stdout",
     "output_type": "stream",
     "text": [
      "4, 1, 0.0525, 0.1023, 90.9253, 123.9280\n"
     ]
    },
    {
     "name": "stdout",
     "output_type": "stream",
     "text": [
      "5, 1, 0.0520, 0.1019, 77.3251, 123.9280\n"
     ]
    },
    {
     "name": "stdout",
     "output_type": "stream",
     "text": [
      "6, 1, 0.0519, 0.1023, 93.6401, 123.9280\n"
     ]
    },
    {
     "name": "stdout",
     "output_type": "stream",
     "text": [
      "7, 1, 0.0514, 0.1029, 80.7449, 123.9280\n"
     ]
    },
    {
     "name": "stdout",
     "output_type": "stream",
     "text": [
      "8, 1, 0.0513, 0.1029, 92.9366, 123.9280\n"
     ]
    },
    {
     "name": "stdout",
     "output_type": "stream",
     "text": [
      "9, 1, 0.0509, 0.1008, 76.6266, 123.9280\n"
     ]
    },
    {
     "name": "stdout",
     "output_type": "stream",
     "text": [
      "10, 1, 0.0507, 0.1023, 93.2446, 123.9280\n"
     ]
    },
    {
     "name": "stdout",
     "output_type": "stream",
     "text": [
      "w: 512, d: 5, I: 1, J: 1, x: 0.6, B: 128, t: 10\n"
     ]
    },
    {
     "name": "stdout",
     "output_type": "stream",
     "text": [
      "0, 0, 0.2171, 0.0987, 123.9280, 123.9280\n"
     ]
    },
    {
     "name": "stdout",
     "output_type": "stream",
     "text": [
      "1, 1, 0.1268, 0.0995, 100.9353, 123.9280\n"
     ]
    },
    {
     "name": "stdout",
     "output_type": "stream",
     "text": [
      "2, 1, 0.0784, 0.1000, 96.9958, 123.9280\n"
     ]
    },
    {
     "name": "stdout",
     "output_type": "stream",
     "text": [
      "3, 1, 0.0612, 0.1000, 86.1755, 123.9280\n"
     ]
    },
    {
     "name": "stdout",
     "output_type": "stream",
     "text": [
      "4, 1, 0.0549, 0.1000, 90.7405, 123.9280\n"
     ]
    },
    {
     "name": "stdout",
     "output_type": "stream",
     "text": [
      "5, 1, 0.0532, 0.1030, 77.3947, 123.9280\n"
     ]
    },
    {
     "name": "stdout",
     "output_type": "stream",
     "text": [
      "6, 1, 0.0524, 0.1009, 90.8323, 123.9280\n"
     ]
    },
    {
     "name": "stdout",
     "output_type": "stream",
     "text": [
      "7, 1, 0.0518, 0.1016, 74.1956, 123.9280\n"
     ]
    },
    {
     "name": "stdout",
     "output_type": "stream",
     "text": [
      "8, 1, 0.0523, 0.1008, 90.0609, 123.9280\n"
     ]
    },
    {
     "name": "stdout",
     "output_type": "stream",
     "text": [
      "9, 1, 0.0521, 0.1003, 75.6275, 123.9280\n"
     ]
    },
    {
     "name": "stdout",
     "output_type": "stream",
     "text": [
      "10, 1, 0.0512, 0.1018, 89.9558, 123.9280\n"
     ]
    },
    {
     "name": "stdout",
     "output_type": "stream",
     "text": [
      "w: 512, d: 5, I: 1, J: 1, x: 0.8, B: 128, t: 10\n"
     ]
    },
    {
     "name": "stdout",
     "output_type": "stream",
     "text": [
      "0, 0, 0.2171, 0.0987, 123.9280, 123.9280\n"
     ]
    },
    {
     "name": "stdout",
     "output_type": "stream",
     "text": [
      "1, 1, 0.1811, 0.0997, 105.8457, 123.9280\n"
     ]
    },
    {
     "name": "stdout",
     "output_type": "stream",
     "text": [
      "2, 1, 0.1189, 0.0999, 96.0589, 123.9280\n"
     ]
    },
    {
     "name": "stdout",
     "output_type": "stream",
     "text": [
      "3, 1, 0.0802, 0.1008, 84.6582, 123.9280\n"
     ]
    },
    {
     "name": "stdout",
     "output_type": "stream",
     "text": [
      "4, 1, 0.0642, 0.1000, 85.0618, 123.9280\n"
     ]
    },
    {
     "name": "stdout",
     "output_type": "stream",
     "text": [
      "5, 1, 0.0590, 0.1013, 76.3993, 123.9280\n"
     ]
    },
    {
     "name": "stdout",
     "output_type": "stream",
     "text": [
      "6, 1, 0.0563, 0.0994, 84.1611, 123.9280\n"
     ]
    },
    {
     "name": "stdout",
     "output_type": "stream",
     "text": [
      "7, 1, 0.0551, 0.1002, 71.0077, 123.9280\n"
     ]
    },
    {
     "name": "stdout",
     "output_type": "stream",
     "text": [
      "8, 1, 0.0564, 0.0994, 83.0608, 123.9280\n"
     ]
    },
    {
     "name": "stdout",
     "output_type": "stream",
     "text": [
      "9, 1, 0.0565, 0.0987, 70.6946, 123.9280\n"
     ]
    },
    {
     "name": "stdout",
     "output_type": "stream",
     "text": [
      "10, 1, 0.0539, 0.1000, 81.6770, 123.9280\n"
     ]
    },
    {
     "name": "stdout",
     "output_type": "stream",
     "text": [
      "w: 512, d: 5, I: 1, J: 1, x: 1.0, B: 128, t: 10\n"
     ]
    },
    {
     "name": "stdout",
     "output_type": "stream",
     "text": [
      "0, 0, 0.2171, 0.0987, 123.9280, 123.9280\n"
     ]
    },
    {
     "name": "stdout",
     "output_type": "stream",
     "text": [
      "1, 1, 0.2598, 0.1002, 112.2114, 123.9280\n"
     ]
    },
    {
     "name": "stdout",
     "output_type": "stream",
     "text": [
      "2, 1, 0.1947, 0.1005, 94.9347, 123.9280\n"
     ]
    },
    {
     "name": "stdout",
     "output_type": "stream",
     "text": [
      "3, 1, 0.1044, 0.1001, 77.2225, 123.9280\n"
     ]
    },
    {
     "name": "stdout",
     "output_type": "stream",
     "text": [
      "4, 1, 0.0708, 0.0997, 73.7077, 123.9280\n"
     ]
    },
    {
     "name": "stdout",
     "output_type": "stream",
     "text": [
      "5, 1, 0.0609, 0.1008, 64.0879, 123.9280\n"
     ]
    },
    {
     "name": "stdout",
     "output_type": "stream",
     "text": [
      "6, 1, 0.0568, 0.0990, 70.8736, 123.9280\n"
     ]
    },
    {
     "name": "stdout",
     "output_type": "stream",
     "text": [
      "7, 1, 0.0549, 0.0991, 59.3370, 123.9280\n"
     ]
    },
    {
     "name": "stdout",
     "output_type": "stream",
     "text": [
      "8, 1, 0.0550, 0.0998, 68.6977, 123.9280\n"
     ]
    },
    {
     "name": "stdout",
     "output_type": "stream",
     "text": [
      "9, 1, 0.0541, 0.0989, 58.4876, 123.9280\n"
     ]
    },
    {
     "name": "stdout",
     "output_type": "stream",
     "text": [
      "10, 1, 0.0515, 0.1021, 66.4675, 123.9280\n"
     ]
    },
    {
     "name": "stdout",
     "output_type": "stream",
     "text": [
      "w: 512, d: 5, I: 1, J: 1, x: 1.2, B: 128, t: 10\n"
     ]
    },
    {
     "name": "stdout",
     "output_type": "stream",
     "text": [
      "0, 0, 0.2171, 0.0987, 123.9280, 123.9280\n"
     ]
    },
    {
     "name": "stdout",
     "output_type": "stream",
     "text": [
      "1, 1, 0.3689, 0.1000, 120.1401, 123.9280\n"
     ]
    },
    {
     "name": "stdout",
     "output_type": "stream",
     "text": [
      "2, 1, 0.3070, 0.1005, 93.2832, 123.9280\n"
     ]
    },
    {
     "name": "stdout",
     "output_type": "stream",
     "text": [
      "3, 1, 0.1074, 0.0997, 62.1018, 123.9280\n"
     ]
    },
    {
     "name": "stdout",
     "output_type": "stream",
     "text": [
      "4, 1, 0.0626, 0.1003, 56.7871, 123.9280\n"
     ]
    },
    {
     "name": "stdout",
     "output_type": "stream",
     "text": [
      "5, 1, 0.0544, 0.0998, 48.3775, 123.9280\n"
     ]
    },
    {
     "name": "stdout",
     "output_type": "stream",
     "text": [
      "6, 1, 0.0519, 0.1008, 53.3403, 123.9280\n"
     ]
    },
    {
     "name": "stdout",
     "output_type": "stream",
     "text": [
      "7, 1, 0.0505, 0.1015, 44.8386, 123.9280\n"
     ]
    },
    {
     "name": "stdout",
     "output_type": "stream",
     "text": [
      "8, 1, 0.0503, 0.1004, 51.1710, 123.9280\n"
     ]
    },
    {
     "name": "stdout",
     "output_type": "stream",
     "text": [
      "9, 1, 0.0496, 0.0999, 44.1945, 123.9280\n"
     ]
    },
    {
     "name": "stdout",
     "output_type": "stream",
     "text": [
      "10, 1, 0.0489, 0.1006, 42.5251, 123.9280\n"
     ]
    },
    {
     "name": "stdout",
     "output_type": "stream",
     "text": [
      "w: 512, d: 5, I: 1, J: 1, x: 1.4, B: 128, t: 10\n"
     ]
    },
    {
     "name": "stdout",
     "output_type": "stream",
     "text": [
      "0, 0, 0.2171, 0.0987, 123.9280, 123.9280\n"
     ]
    },
    {
     "name": "stdout",
     "output_type": "stream",
     "text": [
      "1, 1, 0.5156, 0.1000, 129.9365, 123.9280\n"
     ]
    },
    {
     "name": "stdout",
     "output_type": "stream",
     "text": [
      "2, 1, 0.4285, 0.1003, 89.6647, 123.9280\n"
     ]
    },
    {
     "name": "stdout",
     "output_type": "stream",
     "text": [
      "3, 1, 0.0867, 0.0996, 43.5346, 123.9280\n"
     ]
    },
    {
     "name": "stdout",
     "output_type": "stream",
     "text": [
      "4, 1, 0.0526, 0.1002, 38.0899, 123.9280\n"
     ]
    },
    {
     "name": "stdout",
     "output_type": "stream",
     "text": [
      "5, 1, 0.0496, 0.1013, 33.6437, 123.9280\n"
     ]
    },
    {
     "name": "stdout",
     "output_type": "stream",
     "text": [
      "6, 1, 0.0491, 0.1009, 30.7292, 123.9280\n"
     ]
    },
    {
     "name": "stdout",
     "output_type": "stream",
     "text": [
      "7, 1, 0.0485, 0.1019, 31.3772, 123.9280\n"
     ]
    },
    {
     "name": "stdout",
     "output_type": "stream",
     "text": [
      "8, 1, 0.0485, 0.1010, 30.6855, 123.9280\n"
     ]
    },
    {
     "name": "stdout",
     "output_type": "stream",
     "text": [
      "9, 1, 0.0482, 0.0990, 31.4920, 123.9280\n"
     ]
    },
    {
     "name": "stdout",
     "output_type": "stream",
     "text": [
      "10, 1, 0.0481, 0.0998, 31.4633, 123.9280\n"
     ]
    },
    {
     "name": "stdout",
     "output_type": "stream",
     "text": [
      "w: 512, d: 5, I: 1, J: 1, x: 1.6, B: 128, t: 10\n"
     ]
    },
    {
     "name": "stdout",
     "output_type": "stream",
     "text": [
      "0, 0, 0.2171, 0.0987, 123.9280, 123.9280\n"
     ]
    },
    {
     "name": "stdout",
     "output_type": "stream",
     "text": [
      "1, 1, 0.7076, 0.1000, 141.8949, 123.9280\n"
     ]
    },
    {
     "name": "stdout",
     "output_type": "stream",
     "text": [
      "2, 1, 0.5065, 0.1003, 82.4111, 123.9280\n"
     ]
    },
    {
     "name": "stdout",
     "output_type": "stream",
     "text": [
      "3, 1, 0.0722, 0.1003, 29.2394, 123.9280\n"
     ]
    },
    {
     "name": "stdout",
     "output_type": "stream",
     "text": [
      "4, 1, 0.0497, 0.0998, 21.6782, 123.9280\n"
     ]
    },
    {
     "name": "stdout",
     "output_type": "stream",
     "text": [
      "5, 1, 0.0483, 0.0998, 23.1152, 123.9280\n"
     ]
    },
    {
     "name": "stdout",
     "output_type": "stream",
     "text": [
      "6, 1, 0.0481, 0.0995, 22.3791, 123.9280\n"
     ]
    },
    {
     "name": "stdout",
     "output_type": "stream",
     "text": [
      "7, 1, 0.0478, 0.1009, 22.3507, 123.9280\n"
     ]
    },
    {
     "name": "stdout",
     "output_type": "stream",
     "text": [
      "8, 1, 0.0477, 0.1006, 22.2368, 123.9280\n"
     ]
    },
    {
     "name": "stdout",
     "output_type": "stream",
     "text": [
      "9, 1, 0.0475, 0.0991, 22.4328, 123.9280\n"
     ]
    },
    {
     "name": "stdout",
     "output_type": "stream",
     "text": [
      "10, 1, 0.0474, 0.0992, 22.4630, 123.9280\n"
     ]
    },
    {
     "name": "stdout",
     "output_type": "stream",
     "text": [
      "w: 512, d: 5, I: 1, J: 1, x: 1.8, B: 128, t: 10\n"
     ]
    },
    {
     "name": "stdout",
     "output_type": "stream",
     "text": [
      "0, 0, 0.2171, 0.0987, 123.9280, 123.9280\n"
     ]
    },
    {
     "name": "stdout",
     "output_type": "stream",
     "text": [
      "1, 1, 0.9539, 0.1000, 156.4236, 123.9280\n"
     ]
    },
    {
     "name": "stdout",
     "output_type": "stream",
     "text": [
      "2, 1, 0.5050, 0.1003, 71.6574, 123.9280\n"
     ]
    },
    {
     "name": "stdout",
     "output_type": "stream",
     "text": [
      "3, 1, 0.0698, 0.0995, 21.8407, 123.9280\n"
     ]
    },
    {
     "name": "stdout",
     "output_type": "stream",
     "text": [
      "4, 1, 0.0517, 0.0999, 16.9246, 123.9280\n"
     ]
    },
    {
     "name": "stdout",
     "output_type": "stream",
     "text": [
      "5, 1, 0.0489, 0.0985, 17.3032, 123.9280\n"
     ]
    },
    {
     "name": "stdout",
     "output_type": "stream",
     "text": [
      "6, 1, 0.0480, 0.0984, 17.2152, 123.9280\n"
     ]
    },
    {
     "name": "stdout",
     "output_type": "stream",
     "text": [
      "7, 1, 0.0475, 0.0999, 17.0776, 123.9280\n"
     ]
    },
    {
     "name": "stdout",
     "output_type": "stream",
     "text": [
      "8, 1, 0.0473, 0.1008, 17.1207, 123.9280\n"
     ]
    },
    {
     "name": "stdout",
     "output_type": "stream",
     "text": [
      "9, 1, 0.0471, 0.0995, 17.2947, 123.9280\n"
     ]
    },
    {
     "name": "stdout",
     "output_type": "stream",
     "text": [
      "10, 1, 0.0470, 0.0983, 17.2548, 123.9280\n"
     ]
    },
    {
     "name": "stdout",
     "output_type": "stream",
     "text": [
      "w: 512, d: 5, I: 1, J: 1, x: 2.0, B: 128, t: 10\n"
     ]
    },
    {
     "name": "stdout",
     "output_type": "stream",
     "text": [
      "0, 0, 0.2171, 0.0987, 123.9280, 123.9280\n"
     ]
    },
    {
     "name": "stdout",
     "output_type": "stream",
     "text": [
      "1, 1, 1.2646, 0.1000, 174.0599, 123.9280\n"
     ]
    },
    {
     "name": "stdout",
     "output_type": "stream",
     "text": [
      "2, 1, 0.4444, 0.1007, 60.9243, 123.9280\n"
     ]
    },
    {
     "name": "stdout",
     "output_type": "stream",
     "text": [
      "3, 1, 0.0703, 0.0990, 18.2534, 123.9280\n"
     ]
    },
    {
     "name": "stdout",
     "output_type": "stream",
     "text": [
      "4, 1, 0.0532, 0.0997, 14.1785, 123.9280\n"
     ]
    },
    {
     "name": "stdout",
     "output_type": "stream",
     "text": [
      "5, 1, 0.0493, 0.1004, 14.1998, 123.9280\n"
     ]
    },
    {
     "name": "stdout",
     "output_type": "stream",
     "text": [
      "6, 1, 0.0480, 0.0999, 14.3539, 123.9280\n"
     ]
    },
    {
     "name": "stdout",
     "output_type": "stream",
     "text": [
      "7, 1, 0.0473, 0.0987, 14.2084, 123.9280\n"
     ]
    },
    {
     "name": "stdout",
     "output_type": "stream",
     "text": [
      "8, 1, 0.0470, 0.1009, 14.3000, 123.9280\n"
     ]
    },
    {
     "name": "stdout",
     "output_type": "stream",
     "text": [
      "9, 1, 0.0466, 0.0994, 14.5133, 123.9280\n"
     ]
    },
    {
     "name": "stdout",
     "output_type": "stream",
     "text": [
      "10, 1, 0.0466, 0.0986, 14.5083, 123.9280\n"
     ]
    },
    {
     "name": "stdout",
     "output_type": "stream",
     "text": [
      "w: 512, d: 5, I: 1, J: 1, x: 2.2, B: 128, t: 10\n"
     ]
    },
    {
     "name": "stdout",
     "output_type": "stream",
     "text": [
      "0, 0, 0.2171, 0.0987, 123.9280, 123.9280\n"
     ]
    },
    {
     "name": "stdout",
     "output_type": "stream",
     "text": [
      "1, 1, 1.6520, 0.1000, 195.3146, 123.9280\n"
     ]
    },
    {
     "name": "stdout",
     "output_type": "stream",
     "text": [
      "2, 1, 0.3833, 0.1009, 54.3327, 123.9280\n"
     ]
    },
    {
     "name": "stdout",
     "output_type": "stream",
     "text": [
      "3, 1, 0.0685, 0.1000, 15.9335, 123.9280\n"
     ]
    },
    {
     "name": "stdout",
     "output_type": "stream",
     "text": [
      "4, 1, 0.0523, 0.0995, 12.3147, 123.9280\n"
     ]
    },
    {
     "name": "stdout",
     "output_type": "stream",
     "text": [
      "5, 1, 0.0487, 0.1006, 12.2583, 123.9280\n"
     ]
    },
    {
     "name": "stdout",
     "output_type": "stream",
     "text": [
      "6, 1, 0.0475, 0.0991, 12.3890, 123.9280\n"
     ]
    },
    {
     "name": "stdout",
     "output_type": "stream",
     "text": [
      "7, 1, 0.0469, 0.0984, 12.2791, 123.9280\n"
     ]
    },
    {
     "name": "stdout",
     "output_type": "stream",
     "text": [
      "8, 1, 0.0466, 0.0976, 12.3342, 123.9280\n"
     ]
    },
    {
     "name": "stdout",
     "output_type": "stream",
     "text": [
      "9, 1, 0.0463, 0.0989, 12.5163, 123.9280\n"
     ]
    },
    {
     "name": "stdout",
     "output_type": "stream",
     "text": [
      "10, 1, 0.0463, 0.0975, 12.6182, 123.9280\n"
     ]
    },
    {
     "name": "stdout",
     "output_type": "stream",
     "text": [
      "w: 512, d: 5, I: 1, J: 1, x: 2.4, B: 128, t: 10\n"
     ]
    },
    {
     "name": "stdout",
     "output_type": "stream",
     "text": [
      "0, 0, 0.2171, 0.0987, 123.9280, 123.9280\n"
     ]
    },
    {
     "name": "stdout",
     "output_type": "stream",
     "text": [
      "1, 1, 2.1326, 0.1000, 221.1129, 123.9280\n"
     ]
    },
    {
     "name": "stdout",
     "output_type": "stream",
     "text": [
      "2, 1, 0.3536, 0.0998, 52.6169, 123.9280\n"
     ]
    },
    {
     "name": "stdout",
     "output_type": "stream",
     "text": [
      "3, 1, 0.0653, 0.0999, 14.4480, 123.9280\n"
     ]
    },
    {
     "name": "stdout",
     "output_type": "stream",
     "text": [
      "4, 1, 0.0501, 0.1002, 10.7334, 123.9280\n"
     ]
    },
    {
     "name": "stdout",
     "output_type": "stream",
     "text": [
      "5, 1, 0.0475, 0.0990, 10.6272, 123.9280\n"
     ]
    },
    {
     "name": "stdout",
     "output_type": "stream",
     "text": [
      "6, 1, 0.0468, 0.0995, 10.6635, 123.9280\n"
     ]
    },
    {
     "name": "stdout",
     "output_type": "stream",
     "text": [
      "7, 1, 0.0464, 0.0994, 10.5778, 123.9280\n"
     ]
    },
    {
     "name": "stdout",
     "output_type": "stream",
     "text": [
      "8, 1, 0.0463, 0.0991, 10.5925, 123.9280\n"
     ]
    },
    {
     "name": "stdout",
     "output_type": "stream",
     "text": [
      "9, 1, 0.0460, 0.0989, 10.7297, 123.9280\n"
     ]
    },
    {
     "name": "stdout",
     "output_type": "stream",
     "text": [
      "10, 1, 0.0461, 0.0988, 10.9172, 123.9280\n"
     ]
    },
    {
     "name": "stdout",
     "output_type": "stream",
     "text": [
      "w: 512, d: 5, I: 1, J: 1, x: 2.6, B: 128, t: 10\n"
     ]
    },
    {
     "name": "stdout",
     "output_type": "stream",
     "text": [
      "0, 0, 0.2171, 0.0987, 123.9280, 123.9280\n"
     ]
    },
    {
     "name": "stdout",
     "output_type": "stream",
     "text": [
      "1, 1, 2.7294, 0.1000, 252.6178, 123.9280\n"
     ]
    },
    {
     "name": "stdout",
     "output_type": "stream",
     "text": [
      "2, 1, 0.3739, 0.0990, 56.5254, 123.9280\n"
     ]
    },
    {
     "name": "stdout",
     "output_type": "stream",
     "text": [
      "3, 1, 0.0621, 0.1004, 13.6782, 123.9280\n"
     ]
    },
    {
     "name": "stdout",
     "output_type": "stream",
     "text": [
      "4, 1, 0.0477, 0.1006, 9.2907, 123.9280\n"
     ]
    },
    {
     "name": "stdout",
     "output_type": "stream",
     "text": [
      "5, 1, 0.0462, 0.1007, 9.4051, 123.9280\n"
     ]
    },
    {
     "name": "stdout",
     "output_type": "stream",
     "text": [
      "6, 1, 0.0461, 0.1006, 9.2531, 123.9280\n"
     ]
    },
    {
     "name": "stdout",
     "output_type": "stream",
     "text": [
      "7, 1, 0.0459, 0.1002, 9.3029, 123.9280\n"
     ]
    },
    {
     "name": "stdout",
     "output_type": "stream",
     "text": [
      "8, 1, 0.0459, 0.0994, 9.2992, 123.9280\n"
     ]
    },
    {
     "name": "stdout",
     "output_type": "stream",
     "text": [
      "9, 1, 0.0458, 0.0995, 9.3494, 123.9280\n"
     ]
    },
    {
     "name": "stdout",
     "output_type": "stream",
     "text": [
      "10, 1, 0.0458, 0.0999, 9.6011, 123.9280\n"
     ]
    },
    {
     "name": "stdout",
     "output_type": "stream",
     "text": [
      "w: 512, d: 5, I: 1, J: 1, x: 2.8, B: 128, t: 10\n"
     ]
    },
    {
     "name": "stdout",
     "output_type": "stream",
     "text": [
      "0, 0, 0.2171, 0.0987, 123.9280, 123.9280\n"
     ]
    },
    {
     "name": "stdout",
     "output_type": "stream",
     "text": [
      "1, 1, 3.4762, 0.1000, 291.4780, 123.9280\n"
     ]
    },
    {
     "name": "stdout",
     "output_type": "stream",
     "text": [
      "2, 1, 0.4651, 0.0998, 68.6708, 123.9280\n"
     ]
    },
    {
     "name": "stdout",
     "output_type": "stream",
     "text": [
      "3, 1, 0.0628, 0.1001, 15.0149, 123.9280\n"
     ]
    },
    {
     "name": "stdout",
     "output_type": "stream",
     "text": [
      "4, 1, 0.0462, 0.1028, 9.7804, 123.9280\n"
     ]
    },
    {
     "name": "stdout",
     "output_type": "stream",
     "text": [
      "5, 1, 0.0456, 0.1028, 9.9425, 123.9280\n"
     ]
    },
    {
     "name": "stdout",
     "output_type": "stream",
     "text": [
      "6, 1, 0.0458, 0.1010, 9.4184, 123.9280\n"
     ]
    },
    {
     "name": "stdout",
     "output_type": "stream",
     "text": [
      "7, 1, 0.0457, 0.1012, 9.7454, 123.9280\n"
     ]
    },
    {
     "name": "stdout",
     "output_type": "stream",
     "text": [
      "8, 1, 0.0457, 0.0996, 9.6013, 123.9280\n"
     ]
    },
    {
     "name": "stdout",
     "output_type": "stream",
     "text": [
      "9, 1, 0.0456, 0.1014, 9.6406, 123.9280\n"
     ]
    },
    {
     "name": "stdout",
     "output_type": "stream",
     "text": [
      "10, 1, 0.0457, 0.0993, 9.8586, 123.9280\n"
     ]
    },
    {
     "name": "stdout",
     "output_type": "stream",
     "text": [
      "w: 512, d: 5, I: 1, J: 1, x: 3.0, B: 128, t: 10\n"
     ]
    },
    {
     "name": "stdout",
     "output_type": "stream",
     "text": [
      "0, 0, 0.2171, 0.0987, 123.9280, 123.9280\n"
     ]
    },
    {
     "name": "stdout",
     "output_type": "stream",
     "text": [
      "1, 1, 4.4241, 0.1000, 340.0369, 123.9280\n"
     ]
    },
    {
     "name": "stdout",
     "output_type": "stream",
     "text": [
      "2, 1, 0.6615, 0.0996, 95.0316, 123.9280\n"
     ]
    },
    {
     "name": "stdout",
     "output_type": "stream",
     "text": [
      "3, 1, 0.0693, 0.1005, 20.7137, 123.9280\n"
     ]
    },
    {
     "name": "stdout",
     "output_type": "stream",
     "text": [
      "4, 1, 0.0501, 0.0999, 16.3023, 123.9280\n"
     ]
    },
    {
     "name": "stdout",
     "output_type": "stream",
     "text": [
      "5, 1, 0.0462, 0.1008, 11.2080, 123.9280\n"
     ]
    },
    {
     "name": "stdout",
     "output_type": "stream",
     "text": [
      "6, 1, 0.0458, 0.1007, 12.7754, 123.9280\n"
     ]
    },
    {
     "name": "stdout",
     "output_type": "stream",
     "text": [
      "7, 1, 0.0457, 0.1015, 12.5005, 123.9280\n"
     ]
    },
    {
     "name": "stdout",
     "output_type": "stream",
     "text": [
      "8, 1, 0.0458, 0.1015, 12.2805, 123.9280\n"
     ]
    },
    {
     "name": "stdout",
     "output_type": "stream",
     "text": [
      "9, 1, 0.0456, 0.0993, 12.3666, 123.9280\n"
     ]
    },
    {
     "name": "stdout",
     "output_type": "stream",
     "text": [
      "10, 1, 0.0458, 0.0991, 12.5489, 123.9280\n"
     ]
    },
    {
     "name": "stdout",
     "output_type": "stream",
     "text": [
      "w: 512, d: 5, I: 1, J: 1, x: 3.2, B: 128, t: 10\n"
     ]
    },
    {
     "name": "stdout",
     "output_type": "stream",
     "text": [
      "0, 0, 0.2171, 0.0987, 123.9280, 123.9280\n"
     ]
    },
    {
     "name": "stdout",
     "output_type": "stream",
     "text": [
      "1, 1, 5.6509, 0.1000, 401.3699, 123.9280\n"
     ]
    },
    {
     "name": "stdout",
     "output_type": "stream",
     "text": [
      "2, 1, 1.0656, 0.0993, 150.5148, 123.9280\n"
     ]
    },
    {
     "name": "stdout",
     "output_type": "stream",
     "text": [
      "3, 1, 0.0957, 0.0994, 37.6917, 123.9280\n"
     ]
    },
    {
     "name": "stdout",
     "output_type": "stream",
     "text": [
      "4, 1, 0.2003, 0.0998, 50.6134, 123.9280\n"
     ]
    },
    {
     "name": "stdout",
     "output_type": "stream",
     "text": [
      "5, 1, 0.1196, 0.1002, 18.1613, 123.9280\n"
     ]
    },
    {
     "name": "stdout",
     "output_type": "stream",
     "text": [
      "6, 1, 0.0543, 0.1002, 7.9989, 123.9280\n"
     ]
    },
    {
     "name": "stdout",
     "output_type": "stream",
     "text": [
      "7, 1, 0.0498, 0.0988, 6.7662, 123.9280\n"
     ]
    },
    {
     "name": "stdout",
     "output_type": "stream",
     "text": [
      "8, 1, 0.0477, 0.0998, 6.2889, 123.9280\n"
     ]
    },
    {
     "name": "stdout",
     "output_type": "stream",
     "text": [
      "9, 1, 0.0466, 0.1000, 6.2106, 123.9280\n"
     ]
    },
    {
     "name": "stdout",
     "output_type": "stream",
     "text": [
      "10, 1, 0.0460, 0.0995, 6.0095, 123.9280\n"
     ]
    },
    {
     "name": "stdout",
     "output_type": "stream",
     "text": [
      "w: 512, d: 5, I: 1, J: 1, x: 3.4, B: 128, t: 10\n"
     ]
    },
    {
     "name": "stdout",
     "output_type": "stream",
     "text": [
      "0, 0, 0.2171, 0.0987, 123.9280, 123.9280\n"
     ]
    },
    {
     "name": "stdout",
     "output_type": "stream",
     "text": [
      "1, 1, 7.2726, 0.1000, 480.0893, 123.9280\n"
     ]
    },
    {
     "name": "stdout",
     "output_type": "stream",
     "text": [
      "2, 1, 1.9326, 0.1002, 275.9433, 123.9280\n"
     ]
    },
    {
     "name": "stdout",
     "output_type": "stream",
     "text": [
      "3, 1, 0.2325, 0.1001, 110.9935, 123.9280\n"
     ]
    },
    {
     "name": "stdout",
     "output_type": "stream",
     "text": [
      "4, 1, 5.8338, 0.1001, 427.1586, 123.9280\n"
     ]
    },
    {
     "name": "stdout",
     "output_type": "stream",
     "text": [
      "5, 1, 0.0614, 0.1005, 4.4053, 123.9280\n"
     ]
    },
    {
     "name": "stdout",
     "output_type": "stream",
     "text": [
      "6, 1, 0.0554, 0.1007, 2.9586, 123.9280\n"
     ]
    },
    {
     "name": "stdout",
     "output_type": "stream",
     "text": [
      "7, 1, 0.0523, 0.0994, 2.5838, 123.9280\n"
     ]
    },
    {
     "name": "stdout",
     "output_type": "stream",
     "text": [
      "8, 1, 0.0504, 0.1009, 2.2859, 123.9280\n"
     ]
    },
    {
     "name": "stdout",
     "output_type": "stream",
     "text": [
      "9, 1, 0.0491, 0.1006, 2.0732, 123.9280\n"
     ]
    },
    {
     "name": "stdout",
     "output_type": "stream",
     "text": [
      "10, 1, 0.0481, 0.0996, 2.1294, 123.9280\n"
     ]
    },
    {
     "name": "stdout",
     "output_type": "stream",
     "text": [
      "w: 512, d: 5, I: 1, J: 1, x: 3.6, B: 128, t: 10\n"
     ]
    },
    {
     "name": "stdout",
     "output_type": "stream",
     "text": [
      "0, 0, 0.2171, 0.0987, 123.9280, 123.9280\n"
     ]
    },
    {
     "name": "stdout",
     "output_type": "stream",
     "text": [
      "1, 1, 9.4693, 0.1000, 582.8286, 123.9280\n"
     ]
    },
    {
     "name": "stdout",
     "output_type": "stream",
     "text": [
      "2, 1, 3.9821, 0.1007, 574.3934, 123.9280\n"
     ]
    },
    {
     "name": "stdout",
     "output_type": "stream",
     "text": [
      "3, 1, 5.3115, 0.1004, 1013.8380, 123.9280\n"
     ]
    },
    {
     "name": "stdout",
     "output_type": "stream",
     "text": [
      "4, 1, 160.6057, 0.0999, 20739.8066, 123.9280\n"
     ]
    },
    {
     "name": "stdout",
     "output_type": "stream",
     "text": [
      "5, 1, 29397.9688, 0.1002, 1064444.0000, 123.9280\n"
     ]
    },
    {
     "name": "stdout",
     "output_type": "stream",
     "text": [
      "6, 1, 65153928402541033525583282176.0000, 0.1000, nan, 123.9280\n",
      "Divergence\n"
     ]
    }
   ],
   "source": [
    "# for storing trajectories\n",
    "dfs = list()\n",
    "\n",
    "#run for all widths\n",
    "for width in widths:\n",
    "    config.width = width\n",
    "    #run for init_averages different initializations\n",
    "    for iteration in range(1, init_averages+1):\n",
    "        config.init_rng = jax.random.PRNGKey(iteration)\n",
    "        #run for sgd_run different mini batch sequences\n",
    "        for run in range(1, sgd_runs + 1):\n",
    "            config.sgd_rng = jax.random.PRNGKey(run)\n",
    "            lr_exp = lr_exp_start\n",
    "            divergence = False\n",
    "\n",
    "            while not divergence:\n",
    "                config.lr_exp = lr_exp\n",
    "                config.lr_const = 2**lr_exp\n",
    "                print(f'w: {config.width}, d: {config.depth}, I: {iteration}, J: {run}, x: {lr_exp:0.1f}, B: {config.batch_size}, t: {config.num_steps}')\n",
    "\n",
    "                divergence, train_results = train_and_evaluate(config, train_ds)\n",
    "\n",
    "                if not divergence:\n",
    "                    # append training results\n",
    "                    df = pd.DataFrame(train_results, columns = ['step', 'epoch', 'train_loss_step', 'train_loss_init', 'train_accuracy', 'sharpness_step', 'sharpness_init'], dtype = float)\n",
    "                    df['lr_exp'] = config.lr_exp; df['lr_const'] = config.lr_const; df['batch_size'] = config.batch_size; df['num_steps'] = config.num_epochs; df['I'] = iteration; df['J'] = run; df['width'] = config.width; df['depth'] = config.depth\n",
    "                    dfs.append(df)\n",
    "                    del df\n",
    "\n",
    "                else:\n",
    "                    print('Divergence')\n",
    "\n",
    "                del train_results\n",
    "\n",
    "                lr_exp += lr_step\n",
    "\n",
    "                collected = gc.collect()\n",
    "                #print(\"Garbage collector: collected %d objects.\" % (collected))\n",
    "\n",
    "# concatenate results\n",
    "dfs = pd.concat(dfs, axis = 0, ignore_index = True)\n"
   ]
  },
  {
   "cell_type": "markdown",
   "id": "a105bacb",
   "metadata": {
    "id": "aKW6PqQ1y4Ak",
    "papermill": {
     "duration": 0.042092,
     "end_time": "2024-11-06T17:31:09.200489",
     "exception": false,
     "start_time": "2024-11-06T17:31:09.158397",
     "status": "completed"
    },
    "tags": []
   },
   "source": [
    "Post processing"
   ]
  },
  {
   "cell_type": "code",
   "execution_count": 11,
   "id": "95ade307",
   "metadata": {
    "execution": {
     "iopub.execute_input": "2024-11-06T17:31:09.253218Z",
     "iopub.status.busy": "2024-11-06T17:31:09.252824Z",
     "iopub.status.idle": "2024-11-06T17:31:09.266336Z",
     "shell.execute_reply": "2024-11-06T17:31:09.265437Z"
    },
    "id": "_uUMiK4dy6Kw",
    "papermill": {
     "duration": 0.041289,
     "end_time": "2024-11-06T17:31:09.267339",
     "exception": false,
     "start_time": "2024-11-06T17:31:09.226050",
     "status": "completed"
    },
    "tags": []
   },
   "outputs": [],
   "source": [
    "# early training dynamics\n",
    "dfs = dfs.astype(float)\n",
    "dfs['norm_sharp'] = dfs['sharpness_step'] / dfs['sharpness_init']\n",
    "dfs['norm_loss'] = dfs['train_loss_step'] / dfs['train_loss_init']"
   ]
  },
  {
   "cell_type": "markdown",
   "id": "f02b5ef4",
   "metadata": {
    "id": "LU_fOJmBiunD",
    "papermill": {
     "duration": 0.025248,
     "end_time": "2024-11-06T17:31:09.323117",
     "exception": false,
     "start_time": "2024-11-06T17:31:09.297869",
     "status": "completed"
    },
    "tags": []
   },
   "source": [
    "### Plot training trajectories"
   ]
  },
  {
   "cell_type": "code",
   "execution_count": 12,
   "id": "b65f1e43",
   "metadata": {
    "colab": {
     "base_uri": "https://localhost:8080/",
     "height": 1000
    },
    "execution": {
     "iopub.execute_input": "2024-11-06T17:31:09.376013Z",
     "iopub.status.busy": "2024-11-06T17:31:09.375255Z",
     "iopub.status.idle": "2024-11-06T17:31:10.345273Z",
     "shell.execute_reply": "2024-11-06T17:31:10.344537Z"
    },
    "executionInfo": {
     "elapsed": 2974,
     "status": "ok",
     "timestamp": 1684873583634,
     "user": {
      "displayName": "Dayal",
      "userId": "08303688375445058607"
     },
     "user_tz": 240
    },
    "id": "3a92CEEziz18",
    "outputId": "5cf506f1-d3ee-438f-ce92-b19a203eef55",
    "papermill": {
     "duration": 0.999733,
     "end_time": "2024-11-06T17:31:10.348052",
     "exception": false,
     "start_time": "2024-11-06T17:31:09.348319",
     "status": "completed"
    },
    "tags": []
   },
   "outputs": [
    {
     "name": "stdout",
     "output_type": "stream",
     "text": [
      "[0. 1. 2. 3.]\n"
     ]
    },
    {
     "data": {
      "image/png": "[encoded data removed]",
      "text/plain": [
       "<Figure size 1200x400 with 2 Axes>"
      ]
     },
     "metadata": {},
     "output_type": "display_data"
    },
    {
     "data": {
      "image/png": "[encoded data removed]",
      "text/plain": [
       "<Figure size 1200x400 with 2 Axes>"
      ]
     },
     "metadata": {},
     "output_type": "display_data"
    },
    {
     "data": {
      "image/png": "[encoded data removed]",
      "text/plain": [
       "<Figure size 1200x400 with 2 Axes>"
      ]
     },
     "metadata": {},
     "output_type": "display_data"
    }
   ],
   "source": [
    "lr_plot = [0.0, 0.5, 1.0, 1.5, 2.0, 2.5, 3.0]\n",
    "dfs['lr_exp'] = dfs['lr_exp'].round(1)\n",
    "dfs['lr_const'] = dfs['lr_const'].round(1)\n",
    "\n",
    "df_plot = get_rows_where_col_in(dfs, 'lr_exp', lr_plot)\n",
    "print(df_plot['lr_exp'].unique())\n",
    "\n",
    "for i, width in enumerate(widths):\n",
    "    \n",
    "    df_width = get_rows_where_col_equals(df_plot, 'width', width)\n",
    "\n",
    "    fig, axes = plt.subplots(1, 2, figsize = (12, 4))\n",
    "    ax = axes[0]\n",
    "    ax = sns.lineplot(x = 'step', y = 'train_loss_step', data = df_width, hue = 'lr_const', palette = 'crest', legend = 'full', ax = ax)\n",
    "    ax.set_xlabel('step')\n",
    "    ax.set_ylabel(r'Training loss')\n",
    "    ax.set_title(f'width: {width}')\n",
    "    ax.get_legend().remove()\n",
    "\n",
    "    ax = axes[1]\n",
    "    ax = sns.lineplot(x = 'step', y = 'norm_sharp', data = df_width, hue = 'lr_const', palette = 'crest', legend = 'full', ax = ax)\n",
    "    ax.set_xlabel('step')\n",
    "    ax.set_ylabel(r'$\\frac{\\lambda_t^H}{\\lambda_0^H}$')\n",
    "    ax.set_title(f'width: {width}')\n",
    "    ax.legend(title = r'$c$', loc='center left', bbox_to_anchor=(1, 0.5))\n"
   ]
  },
  {
   "cell_type": "markdown",
   "id": "4e93c96c",
   "metadata": {
    "id": "Oz88X27hAe3D",
    "papermill": {
     "duration": 0.027743,
     "end_time": "2024-11-06T17:31:10.419453",
     "exception": false,
     "start_time": "2024-11-06T17:31:10.391710",
     "status": "completed"
    },
    "tags": []
   },
   "source": [
    "### Estimate critical constants"
   ]
  },
  {
   "cell_type": "code",
   "execution_count": 13,
   "id": "c4fd54ff",
   "metadata": {
    "execution": {
     "iopub.execute_input": "2024-11-06T17:31:10.477420Z",
     "iopub.status.busy": "2024-11-06T17:31:10.476746Z",
     "iopub.status.idle": "2024-11-06T17:31:10.495751Z",
     "shell.execute_reply": "2024-11-06T17:31:10.494793Z"
    },
    "id": "Kya_EBGDATye",
    "papermill": {
     "duration": 0.049832,
     "end_time": "2024-11-06T17:31:10.497207",
     "exception": false,
     "start_time": "2024-11-06T17:31:10.447375",
     "status": "completed"
    },
    "tags": []
   },
   "outputs": [],
   "source": [
    "# note: For zero initialized networks, sharpness does not decrease appreciably during early training. \n",
    "# To avoid random fluctuations in sharpness to be considered as sharpness catapult, we compare the normalized sharpness with 1+epsilon to define sharpness catapult.\n",
    "\n",
    "epsilon = 0.05\n",
    "\n",
    "#estimate c_loss\n",
    "df_filtered = dfs[dfs['norm_loss'] > 1.0]\n",
    "df_grouped = df_filtered.groupby('width')['lr_const'].min()\n",
    "df_closs = df_grouped.reset_index().astype(float)\n",
    "df_closs['1w'] = 1 / df_closs['width']\n",
    "\n",
    "#estimate c_sharp\n",
    "df_filtered = dfs[dfs['norm_sharp'] > 1 + epsilon]\n",
    "df_grouped = df_filtered.groupby('width')['lr_const'].min()\n",
    "df_csharp = df_grouped.reset_index().astype(float)\n",
    "df_csharp['1w'] = 1 / df_csharp['width']\n",
    "\n",
    "#estimate c_max\n",
    "df_grouped = dfs.groupby('width')['lr_const'].max()\n",
    "df_cmax = df_grouped.reset_index().astype(float)\n",
    "df_cmax['1w'] = 1 / df_cmax['width']\n",
    "\n"
   ]
  },
  {
   "cell_type": "markdown",
   "id": "a51f8f80",
   "metadata": {
    "id": "zVcp-xIRv5ib",
    "papermill": {
     "duration": 0.048243,
     "end_time": "2024-11-06T17:31:10.582606",
     "exception": false,
     "start_time": "2024-11-06T17:31:10.534363",
     "status": "completed"
    },
    "tags": []
   },
   "source": [
    "### Plot the phase diagram"
   ]
  },
  {
   "cell_type": "code",
   "execution_count": 14,
   "id": "989f08c7",
   "metadata": {
    "colab": {
     "base_uri": "https://localhost:8080/",
     "height": 580
    },
    "execution": {
     "iopub.execute_input": "2024-11-06T17:31:10.639524Z",
     "iopub.status.busy": "2024-11-06T17:31:10.639134Z",
     "iopub.status.idle": "2024-11-06T17:31:10.895296Z",
     "shell.execute_reply": "2024-11-06T17:31:10.893942Z"
    },
    "executionInfo": {
     "elapsed": 507,
     "status": "ok",
     "timestamp": 1684873584138,
     "user": {
      "displayName": "Dayal",
      "userId": "08303688375445058607"
     },
     "user_tz": 240
    },
    "id": "quXF4TeoNy3I",
    "outputId": "830f46de-22fd-4fda-db40-6cca53879660",
    "papermill": {
     "duration": 0.285866,
     "end_time": "2024-11-06T17:31:10.896456",
     "exception": false,
     "start_time": "2024-11-06T17:31:10.610590",
     "status": "completed"
    },
    "tags": []
   },
   "outputs": [
    {
     "data": {
      "text/plain": [
       "(np.float64(0.0018223300615953274), np.float64(0.008088007217510936))"
      ]
     },
     "execution_count": 14,
     "metadata": {},
     "output_type": "execute_result"
    },
    {
     "data": {
      "image/png": "[encoded data removed]",
      "text/plain": [
       "<Figure size 800x600 with 1 Axes>"
      ]
     },
     "metadata": {},
     "output_type": "display_data"
    }
   ],
   "source": [
    "order = 1 #order of curve to fit\n",
    "# for this phase diagram order 1 works better\n",
    "\n",
    "fig, ax = plt.subplots(1, 1, figsize = (8, 6))\n",
    "colors = sns.color_palette('tab10', 3)\n",
    "\n",
    "ax.scatter('lr_const', '1w', data = df_closs, marker = 's', color = 'black', label = r'$\\langle c_{loss} \\rangle$', facecolors = 'none', zorder = 2, s = 64)\n",
    "ax.scatter('lr_const', '1w', data = df_csharp, marker = '^', color = 'black', label = r'$\\langle c_{sharp} \\rangle$', facecolors = 'none', zorder = 2, s = 64)\n",
    "ax.scatter('lr_const', '1w', data = df_cmax, marker = 'D', color = 'black', label = r'$\\langle c_{max} \\rangle$', facecolors = 'none', zorder = 2, s = 64)\n",
    "\n",
    "# fit curves\n",
    "y = df_closs['1w'].values\n",
    "\n",
    "ymin = np.min(y)\n",
    "ymax = np.max(y)\n",
    "\n",
    "y_new = np.array([2**i for i in np.arange(np.log2(ymin) - 0.1, np.log2(ymax) + 0.1, 0.05)])\n",
    "\n",
    "x = df_closs['lr_const'].values\n",
    "coeffs = np.polyfit(y, x, order)\n",
    "smooth_loss = poly(coeffs, y_new)\n",
    "ax.plot(smooth_loss, y_new, '-', color = 'black')\n",
    "\n",
    "x = df_csharp['lr_const'].values\n",
    "coeffs = np.polyfit(y, x, order)\n",
    "smooth_sharp = poly(coeffs, y_new)\n",
    "ax.plot(smooth_sharp, y_new, '-', color = 'black')\n",
    "\n",
    "\n",
    "x = df_cmax['lr_const'].values\n",
    "coeffs = np.polyfit(y, x, order)\n",
    "smooth_max = poly(coeffs, y_new)\n",
    "ax.plot(smooth_max, y_new, '-', color = 'black')\n",
    "\n",
    "x_max = np.max(x) + 5\n",
    "\n",
    "#Fill colors\n",
    "y1 = 0.0*np.ones(len(y_new))\n",
    "y2 = 2*np.ones(len(y_new))\n",
    "ax.fill(np.append(y1, y2[::-1]), np.append(y_new, y_new[::-1]), '#CFF5E7')\n",
    "\n",
    "y1 = 2*np.ones(len(y_new))\n",
    "y2 = smooth_loss\n",
    "ax.fill(np.append(y1, y2[::-1]), np.append(y_new, y_new[::-1]), '#FFFAD7')\n",
    "\n",
    "y1 = smooth_loss\n",
    "y2 = smooth_sharp\n",
    "ax.fill(np.append(y1, y2[::-1]), np.append(y_new, y_new[::-1]), '#FCDDB0')\n",
    "\n",
    "y1 = smooth_sharp\n",
    "y2 = smooth_max\n",
    "ax.fill(np.append(y1, y2[::-1]), np.append(y_new, y_new[::-1]), '#FF9F9F')\n",
    "\n",
    "y1 = smooth_max\n",
    "y2 = x_max*np.ones(len(y_new))\n",
    "ax.fill(np.append(y1, y2[::-1]), np.append(y_new, y_new[::-1]), '#E97777')\n",
    "\n",
    "\n",
    "ax.axvline(x = 2.0, linestyle = '--', color = 'gray')\n",
    "ax.set_xscale('log', base = 2)\n",
    "ax.set_yscale('log', base = 2)\n",
    "ax.legend(fontsize = 20, loc='upper left', facecolor = 'white', framealpha = 0.5)\n",
    "ax.set_ylabel(r'$1/w$')\n",
    "ax.set_xlabel(r'$c$')\n",
    "ax.set_xlim(0.5, x_max)\n",
    "ax.set_ylim(y_new[0], y_new[-1])\n",
    "\n"
   ]
  },
  {
   "cell_type": "markdown",
   "id": "a4e64108",
   "metadata": {
    "id": "fJRET89awRW7",
    "papermill": {
     "duration": 0.028598,
     "end_time": "2024-11-06T17:31:10.954379",
     "exception": false,
     "start_time": "2024-11-06T17:31:10.925781",
     "status": "completed"
    },
    "tags": []
   },
   "source": [
    "Key results: \n",
    "\n",
    "\n",
    "*   critical constants $c_{loss}, c_{sharp}$ do not scale with $1 / w$\n",
    "*   $c_{loss} = 2$ independent of depth and width."
   ]
  }
 ],
 "metadata": {
  "accelerator": "GPU",
  "colab": {
   "authorship_tag": "ABX9TyNiR+DeEgZcx6P0gQLVdroR",
   "gpuType": "V100",
   "provenance": []
  },
  "gpuClass": "standard",
  "kernelspec": {
   "display_name": "ppmlFall",
   "language": "python",
   "name": "python3"
  },
  "language_info": {
   "codemirror_mode": {
    "name": "ipython",
    "version": 3
   },
   "file_extension": ".py",
   "mimetype": "text/x-python",
   "name": "python",
   "nbconvert_exporter": "python",
   "pygments_lexer": "ipython3",
   "version": "3.10.12"
  },
  "papermill": {
   "default_parameters": {},
   "duration": 4473.894004,
   "end_time": "2024-11-06T17:31:13.928500",
   "environment_variables": {},
   "exception": null,
   "input_path": "4098_early_training_phase_diagram_zeros.ipynb",
   "output_path": "output4.ipynb",
   "parameters": {},
   "start_time": "2024-11-06T16:16:40.034496",
   "version": "2.6.0"
  }
 },
 "nbformat": 4,
 "nbformat_minor": 5
}